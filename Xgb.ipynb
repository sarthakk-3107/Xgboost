{
  "nbformat": 4,
  "nbformat_minor": 0,
  "metadata": {
    "colab": {
      "provenance": [],
      "machine_shape": "hm"
    },
    "kernelspec": {
      "name": "python3",
      "display_name": "Python 3"
    },
    "language_info": {
      "name": "python"
    }
  },
  "cells": [
    {
      "cell_type": "code",
      "execution_count": null,
      "metadata": {
        "colab": {
          "base_uri": "https://localhost:8080/"
        },
        "id": "gdLsirAl_8OR",
        "outputId": "649cdaf6-c096-4f89-f6f8-746fecd6df98"
      },
      "outputs": [
        {
          "output_type": "stream",
          "name": "stdout",
          "text": [
            "Requirement already satisfied: xgboost in /usr/local/lib/python3.11/dist-packages (2.1.3)\n",
            "Requirement already satisfied: numpy in /usr/local/lib/python3.11/dist-packages (from xgboost) (1.26.4)\n",
            "Requirement already satisfied: nvidia-nccl-cu12 in /usr/local/lib/python3.11/dist-packages (from xgboost) (2.21.5)\n",
            "Requirement already satisfied: scipy in /usr/local/lib/python3.11/dist-packages (from xgboost) (1.13.1)\n",
            "Requirement already satisfied: scikit-learn in /usr/local/lib/python3.11/dist-packages (1.2.2)\n",
            "Collecting scikit-learn\n",
            "  Downloading scikit_learn-1.6.1-cp311-cp311-manylinux_2_17_x86_64.manylinux2014_x86_64.whl.metadata (18 kB)\n",
            "Requirement already satisfied: numpy>=1.19.5 in /usr/local/lib/python3.11/dist-packages (from scikit-learn) (1.26.4)\n",
            "Requirement already satisfied: scipy>=1.6.0 in /usr/local/lib/python3.11/dist-packages (from scikit-learn) (1.13.1)\n",
            "Requirement already satisfied: joblib>=1.2.0 in /usr/local/lib/python3.11/dist-packages (from scikit-learn) (1.4.2)\n",
            "Requirement already satisfied: threadpoolctl>=3.1.0 in /usr/local/lib/python3.11/dist-packages (from scikit-learn) (3.5.0)\n",
            "Downloading scikit_learn-1.6.1-cp311-cp311-manylinux_2_17_x86_64.manylinux2014_x86_64.whl (13.5 MB)\n",
            "\u001b[2K   \u001b[90m━━━━━━━━━━━━━━━━━━━━━━━━━━━━━━━━━━━━━━━━\u001b[0m \u001b[32m13.5/13.5 MB\u001b[0m \u001b[31m105.8 MB/s\u001b[0m eta \u001b[36m0:00:00\u001b[0m\n",
            "\u001b[?25hInstalling collected packages: scikit-learn\n",
            "  Attempting uninstall: scikit-learn\n",
            "    Found existing installation: scikit-learn 1.2.2\n",
            "    Uninstalling scikit-learn-1.2.2:\n",
            "      Successfully uninstalled scikit-learn-1.2.2\n",
            "Successfully installed scikit-learn-1.6.1\n"
          ]
        }
      ],
      "source": [
        "import pandas as pd\n",
        "import xgboost as xgb\n",
        "import matplotlib.pyplot as plt\n",
        "import seaborn as sns\n",
        "from sklearn.metrics import mean_squared_error\n",
        "color_pal=sns.color_palette()\n",
        "!pip install --upgrade xgboost\n",
        "!pip install --upgrade scikit-learn"
      ]
    },
    {
      "cell_type": "code",
      "source": [
        "df=pd.read_csv(\"/content/oil and gas.csv\")\n",
        "df"
      ],
      "metadata": {
        "colab": {
          "base_uri": "https://localhost:8080/",
          "height": 424
        },
        "id": "PxJpmItzACUt",
        "outputId": "b916ce28-39e9-48ef-b5fd-0412b5cf59ba"
      },
      "execution_count": null,
      "outputs": [
        {
          "output_type": "execute_result",
          "data": {
            "text/plain": [
              "            Symbol        Date     Open     High      Low    Close  Volume  \\\n",
              "0        Brent Oil  2000-01-04  23.9000  24.7000  23.8900  24.3900   32509   \n",
              "1        Brent Oil  2000-01-05  24.2500  24.3700  23.7000  23.7300   30310   \n",
              "2        Brent Oil  2000-01-06  23.5500  24.2200  23.3500  23.6200   44662   \n",
              "3        Brent Oil  2000-01-07  23.5700  23.9800  23.0500  23.0900   34826   \n",
              "4        Brent Oil  2000-01-10  23.0400  23.7800  23.0400  23.7300   26388   \n",
              "...            ...         ...      ...      ...      ...      ...     ...   \n",
              "23019  Heating Oil  2022-06-13   4.3612   4.3762   4.1949   4.2834   46406   \n",
              "23020  Heating Oil  2022-06-14   4.2749   4.4570   4.2488   4.3940   36652   \n",
              "23021  Heating Oil  2022-06-15   4.3816   4.6070   4.3557   4.5470   36908   \n",
              "23022  Heating Oil  2022-06-16   4.5320   4.5825   4.4124   4.5713   28269   \n",
              "23023  Heating Oil  2022-06-17   4.5719   4.6444   4.2936   4.3398       0   \n",
              "\n",
              "      Currency  \n",
              "0          USD  \n",
              "1          USD  \n",
              "2          USD  \n",
              "3          USD  \n",
              "4          USD  \n",
              "...        ...  \n",
              "23019      USD  \n",
              "23020      USD  \n",
              "23021      USD  \n",
              "23022      USD  \n",
              "23023      USD  \n",
              "\n",
              "[23024 rows x 8 columns]"
            ],
            "text/html": [
              "\n",
              "  <div id=\"df-02509363-af82-4aae-8a22-46297c750adb\" class=\"colab-df-container\">\n",
              "    <div>\n",
              "<style scoped>\n",
              "    .dataframe tbody tr th:only-of-type {\n",
              "        vertical-align: middle;\n",
              "    }\n",
              "\n",
              "    .dataframe tbody tr th {\n",
              "        vertical-align: top;\n",
              "    }\n",
              "\n",
              "    .dataframe thead th {\n",
              "        text-align: right;\n",
              "    }\n",
              "</style>\n",
              "<table border=\"1\" class=\"dataframe\">\n",
              "  <thead>\n",
              "    <tr style=\"text-align: right;\">\n",
              "      <th></th>\n",
              "      <th>Symbol</th>\n",
              "      <th>Date</th>\n",
              "      <th>Open</th>\n",
              "      <th>High</th>\n",
              "      <th>Low</th>\n",
              "      <th>Close</th>\n",
              "      <th>Volume</th>\n",
              "      <th>Currency</th>\n",
              "    </tr>\n",
              "  </thead>\n",
              "  <tbody>\n",
              "    <tr>\n",
              "      <th>0</th>\n",
              "      <td>Brent Oil</td>\n",
              "      <td>2000-01-04</td>\n",
              "      <td>23.9000</td>\n",
              "      <td>24.7000</td>\n",
              "      <td>23.8900</td>\n",
              "      <td>24.3900</td>\n",
              "      <td>32509</td>\n",
              "      <td>USD</td>\n",
              "    </tr>\n",
              "    <tr>\n",
              "      <th>1</th>\n",
              "      <td>Brent Oil</td>\n",
              "      <td>2000-01-05</td>\n",
              "      <td>24.2500</td>\n",
              "      <td>24.3700</td>\n",
              "      <td>23.7000</td>\n",
              "      <td>23.7300</td>\n",
              "      <td>30310</td>\n",
              "      <td>USD</td>\n",
              "    </tr>\n",
              "    <tr>\n",
              "      <th>2</th>\n",
              "      <td>Brent Oil</td>\n",
              "      <td>2000-01-06</td>\n",
              "      <td>23.5500</td>\n",
              "      <td>24.2200</td>\n",
              "      <td>23.3500</td>\n",
              "      <td>23.6200</td>\n",
              "      <td>44662</td>\n",
              "      <td>USD</td>\n",
              "    </tr>\n",
              "    <tr>\n",
              "      <th>3</th>\n",
              "      <td>Brent Oil</td>\n",
              "      <td>2000-01-07</td>\n",
              "      <td>23.5700</td>\n",
              "      <td>23.9800</td>\n",
              "      <td>23.0500</td>\n",
              "      <td>23.0900</td>\n",
              "      <td>34826</td>\n",
              "      <td>USD</td>\n",
              "    </tr>\n",
              "    <tr>\n",
              "      <th>4</th>\n",
              "      <td>Brent Oil</td>\n",
              "      <td>2000-01-10</td>\n",
              "      <td>23.0400</td>\n",
              "      <td>23.7800</td>\n",
              "      <td>23.0400</td>\n",
              "      <td>23.7300</td>\n",
              "      <td>26388</td>\n",
              "      <td>USD</td>\n",
              "    </tr>\n",
              "    <tr>\n",
              "      <th>...</th>\n",
              "      <td>...</td>\n",
              "      <td>...</td>\n",
              "      <td>...</td>\n",
              "      <td>...</td>\n",
              "      <td>...</td>\n",
              "      <td>...</td>\n",
              "      <td>...</td>\n",
              "      <td>...</td>\n",
              "    </tr>\n",
              "    <tr>\n",
              "      <th>23019</th>\n",
              "      <td>Heating Oil</td>\n",
              "      <td>2022-06-13</td>\n",
              "      <td>4.3612</td>\n",
              "      <td>4.3762</td>\n",
              "      <td>4.1949</td>\n",
              "      <td>4.2834</td>\n",
              "      <td>46406</td>\n",
              "      <td>USD</td>\n",
              "    </tr>\n",
              "    <tr>\n",
              "      <th>23020</th>\n",
              "      <td>Heating Oil</td>\n",
              "      <td>2022-06-14</td>\n",
              "      <td>4.2749</td>\n",
              "      <td>4.4570</td>\n",
              "      <td>4.2488</td>\n",
              "      <td>4.3940</td>\n",
              "      <td>36652</td>\n",
              "      <td>USD</td>\n",
              "    </tr>\n",
              "    <tr>\n",
              "      <th>23021</th>\n",
              "      <td>Heating Oil</td>\n",
              "      <td>2022-06-15</td>\n",
              "      <td>4.3816</td>\n",
              "      <td>4.6070</td>\n",
              "      <td>4.3557</td>\n",
              "      <td>4.5470</td>\n",
              "      <td>36908</td>\n",
              "      <td>USD</td>\n",
              "    </tr>\n",
              "    <tr>\n",
              "      <th>23022</th>\n",
              "      <td>Heating Oil</td>\n",
              "      <td>2022-06-16</td>\n",
              "      <td>4.5320</td>\n",
              "      <td>4.5825</td>\n",
              "      <td>4.4124</td>\n",
              "      <td>4.5713</td>\n",
              "      <td>28269</td>\n",
              "      <td>USD</td>\n",
              "    </tr>\n",
              "    <tr>\n",
              "      <th>23023</th>\n",
              "      <td>Heating Oil</td>\n",
              "      <td>2022-06-17</td>\n",
              "      <td>4.5719</td>\n",
              "      <td>4.6444</td>\n",
              "      <td>4.2936</td>\n",
              "      <td>4.3398</td>\n",
              "      <td>0</td>\n",
              "      <td>USD</td>\n",
              "    </tr>\n",
              "  </tbody>\n",
              "</table>\n",
              "<p>23024 rows × 8 columns</p>\n",
              "</div>\n",
              "    <div class=\"colab-df-buttons\">\n",
              "\n",
              "  <div class=\"colab-df-container\">\n",
              "    <button class=\"colab-df-convert\" onclick=\"convertToInteractive('df-02509363-af82-4aae-8a22-46297c750adb')\"\n",
              "            title=\"Convert this dataframe to an interactive table.\"\n",
              "            style=\"display:none;\">\n",
              "\n",
              "  <svg xmlns=\"http://www.w3.org/2000/svg\" height=\"24px\" viewBox=\"0 -960 960 960\">\n",
              "    <path d=\"M120-120v-720h720v720H120Zm60-500h600v-160H180v160Zm220 220h160v-160H400v160Zm0 220h160v-160H400v160ZM180-400h160v-160H180v160Zm440 0h160v-160H620v160ZM180-180h160v-160H180v160Zm440 0h160v-160H620v160Z\"/>\n",
              "  </svg>\n",
              "    </button>\n",
              "\n",
              "  <style>\n",
              "    .colab-df-container {\n",
              "      display:flex;\n",
              "      gap: 12px;\n",
              "    }\n",
              "\n",
              "    .colab-df-convert {\n",
              "      background-color: #E8F0FE;\n",
              "      border: none;\n",
              "      border-radius: 50%;\n",
              "      cursor: pointer;\n",
              "      display: none;\n",
              "      fill: #1967D2;\n",
              "      height: 32px;\n",
              "      padding: 0 0 0 0;\n",
              "      width: 32px;\n",
              "    }\n",
              "\n",
              "    .colab-df-convert:hover {\n",
              "      background-color: #E2EBFA;\n",
              "      box-shadow: 0px 1px 2px rgba(60, 64, 67, 0.3), 0px 1px 3px 1px rgba(60, 64, 67, 0.15);\n",
              "      fill: #174EA6;\n",
              "    }\n",
              "\n",
              "    .colab-df-buttons div {\n",
              "      margin-bottom: 4px;\n",
              "    }\n",
              "\n",
              "    [theme=dark] .colab-df-convert {\n",
              "      background-color: #3B4455;\n",
              "      fill: #D2E3FC;\n",
              "    }\n",
              "\n",
              "    [theme=dark] .colab-df-convert:hover {\n",
              "      background-color: #434B5C;\n",
              "      box-shadow: 0px 1px 3px 1px rgba(0, 0, 0, 0.15);\n",
              "      filter: drop-shadow(0px 1px 2px rgba(0, 0, 0, 0.3));\n",
              "      fill: #FFFFFF;\n",
              "    }\n",
              "  </style>\n",
              "\n",
              "    <script>\n",
              "      const buttonEl =\n",
              "        document.querySelector('#df-02509363-af82-4aae-8a22-46297c750adb button.colab-df-convert');\n",
              "      buttonEl.style.display =\n",
              "        google.colab.kernel.accessAllowed ? 'block' : 'none';\n",
              "\n",
              "      async function convertToInteractive(key) {\n",
              "        const element = document.querySelector('#df-02509363-af82-4aae-8a22-46297c750adb');\n",
              "        const dataTable =\n",
              "          await google.colab.kernel.invokeFunction('convertToInteractive',\n",
              "                                                    [key], {});\n",
              "        if (!dataTable) return;\n",
              "\n",
              "        const docLinkHtml = 'Like what you see? Visit the ' +\n",
              "          '<a target=\"_blank\" href=https://colab.research.google.com/notebooks/data_table.ipynb>data table notebook</a>'\n",
              "          + ' to learn more about interactive tables.';\n",
              "        element.innerHTML = '';\n",
              "        dataTable['output_type'] = 'display_data';\n",
              "        await google.colab.output.renderOutput(dataTable, element);\n",
              "        const docLink = document.createElement('div');\n",
              "        docLink.innerHTML = docLinkHtml;\n",
              "        element.appendChild(docLink);\n",
              "      }\n",
              "    </script>\n",
              "  </div>\n",
              "\n",
              "\n",
              "<div id=\"df-1fbd662f-3f46-4a00-a90c-5bae6463fde6\">\n",
              "  <button class=\"colab-df-quickchart\" onclick=\"quickchart('df-1fbd662f-3f46-4a00-a90c-5bae6463fde6')\"\n",
              "            title=\"Suggest charts\"\n",
              "            style=\"display:none;\">\n",
              "\n",
              "<svg xmlns=\"http://www.w3.org/2000/svg\" height=\"24px\"viewBox=\"0 0 24 24\"\n",
              "     width=\"24px\">\n",
              "    <g>\n",
              "        <path d=\"M19 3H5c-1.1 0-2 .9-2 2v14c0 1.1.9 2 2 2h14c1.1 0 2-.9 2-2V5c0-1.1-.9-2-2-2zM9 17H7v-7h2v7zm4 0h-2V7h2v10zm4 0h-2v-4h2v4z\"/>\n",
              "    </g>\n",
              "</svg>\n",
              "  </button>\n",
              "\n",
              "<style>\n",
              "  .colab-df-quickchart {\n",
              "      --bg-color: #E8F0FE;\n",
              "      --fill-color: #1967D2;\n",
              "      --hover-bg-color: #E2EBFA;\n",
              "      --hover-fill-color: #174EA6;\n",
              "      --disabled-fill-color: #AAA;\n",
              "      --disabled-bg-color: #DDD;\n",
              "  }\n",
              "\n",
              "  [theme=dark] .colab-df-quickchart {\n",
              "      --bg-color: #3B4455;\n",
              "      --fill-color: #D2E3FC;\n",
              "      --hover-bg-color: #434B5C;\n",
              "      --hover-fill-color: #FFFFFF;\n",
              "      --disabled-bg-color: #3B4455;\n",
              "      --disabled-fill-color: #666;\n",
              "  }\n",
              "\n",
              "  .colab-df-quickchart {\n",
              "    background-color: var(--bg-color);\n",
              "    border: none;\n",
              "    border-radius: 50%;\n",
              "    cursor: pointer;\n",
              "    display: none;\n",
              "    fill: var(--fill-color);\n",
              "    height: 32px;\n",
              "    padding: 0;\n",
              "    width: 32px;\n",
              "  }\n",
              "\n",
              "  .colab-df-quickchart:hover {\n",
              "    background-color: var(--hover-bg-color);\n",
              "    box-shadow: 0 1px 2px rgba(60, 64, 67, 0.3), 0 1px 3px 1px rgba(60, 64, 67, 0.15);\n",
              "    fill: var(--button-hover-fill-color);\n",
              "  }\n",
              "\n",
              "  .colab-df-quickchart-complete:disabled,\n",
              "  .colab-df-quickchart-complete:disabled:hover {\n",
              "    background-color: var(--disabled-bg-color);\n",
              "    fill: var(--disabled-fill-color);\n",
              "    box-shadow: none;\n",
              "  }\n",
              "\n",
              "  .colab-df-spinner {\n",
              "    border: 2px solid var(--fill-color);\n",
              "    border-color: transparent;\n",
              "    border-bottom-color: var(--fill-color);\n",
              "    animation:\n",
              "      spin 1s steps(1) infinite;\n",
              "  }\n",
              "\n",
              "  @keyframes spin {\n",
              "    0% {\n",
              "      border-color: transparent;\n",
              "      border-bottom-color: var(--fill-color);\n",
              "      border-left-color: var(--fill-color);\n",
              "    }\n",
              "    20% {\n",
              "      border-color: transparent;\n",
              "      border-left-color: var(--fill-color);\n",
              "      border-top-color: var(--fill-color);\n",
              "    }\n",
              "    30% {\n",
              "      border-color: transparent;\n",
              "      border-left-color: var(--fill-color);\n",
              "      border-top-color: var(--fill-color);\n",
              "      border-right-color: var(--fill-color);\n",
              "    }\n",
              "    40% {\n",
              "      border-color: transparent;\n",
              "      border-right-color: var(--fill-color);\n",
              "      border-top-color: var(--fill-color);\n",
              "    }\n",
              "    60% {\n",
              "      border-color: transparent;\n",
              "      border-right-color: var(--fill-color);\n",
              "    }\n",
              "    80% {\n",
              "      border-color: transparent;\n",
              "      border-right-color: var(--fill-color);\n",
              "      border-bottom-color: var(--fill-color);\n",
              "    }\n",
              "    90% {\n",
              "      border-color: transparent;\n",
              "      border-bottom-color: var(--fill-color);\n",
              "    }\n",
              "  }\n",
              "</style>\n",
              "\n",
              "  <script>\n",
              "    async function quickchart(key) {\n",
              "      const quickchartButtonEl =\n",
              "        document.querySelector('#' + key + ' button');\n",
              "      quickchartButtonEl.disabled = true;  // To prevent multiple clicks.\n",
              "      quickchartButtonEl.classList.add('colab-df-spinner');\n",
              "      try {\n",
              "        const charts = await google.colab.kernel.invokeFunction(\n",
              "            'suggestCharts', [key], {});\n",
              "      } catch (error) {\n",
              "        console.error('Error during call to suggestCharts:', error);\n",
              "      }\n",
              "      quickchartButtonEl.classList.remove('colab-df-spinner');\n",
              "      quickchartButtonEl.classList.add('colab-df-quickchart-complete');\n",
              "    }\n",
              "    (() => {\n",
              "      let quickchartButtonEl =\n",
              "        document.querySelector('#df-1fbd662f-3f46-4a00-a90c-5bae6463fde6 button');\n",
              "      quickchartButtonEl.style.display =\n",
              "        google.colab.kernel.accessAllowed ? 'block' : 'none';\n",
              "    })();\n",
              "  </script>\n",
              "</div>\n",
              "\n",
              "  <div id=\"id_82bfd8ee-69d3-4c08-8261-198f1a9ebd11\">\n",
              "    <style>\n",
              "      .colab-df-generate {\n",
              "        background-color: #E8F0FE;\n",
              "        border: none;\n",
              "        border-radius: 50%;\n",
              "        cursor: pointer;\n",
              "        display: none;\n",
              "        fill: #1967D2;\n",
              "        height: 32px;\n",
              "        padding: 0 0 0 0;\n",
              "        width: 32px;\n",
              "      }\n",
              "\n",
              "      .colab-df-generate:hover {\n",
              "        background-color: #E2EBFA;\n",
              "        box-shadow: 0px 1px 2px rgba(60, 64, 67, 0.3), 0px 1px 3px 1px rgba(60, 64, 67, 0.15);\n",
              "        fill: #174EA6;\n",
              "      }\n",
              "\n",
              "      [theme=dark] .colab-df-generate {\n",
              "        background-color: #3B4455;\n",
              "        fill: #D2E3FC;\n",
              "      }\n",
              "\n",
              "      [theme=dark] .colab-df-generate:hover {\n",
              "        background-color: #434B5C;\n",
              "        box-shadow: 0px 1px 3px 1px rgba(0, 0, 0, 0.15);\n",
              "        filter: drop-shadow(0px 1px 2px rgba(0, 0, 0, 0.3));\n",
              "        fill: #FFFFFF;\n",
              "      }\n",
              "    </style>\n",
              "    <button class=\"colab-df-generate\" onclick=\"generateWithVariable('df')\"\n",
              "            title=\"Generate code using this dataframe.\"\n",
              "            style=\"display:none;\">\n",
              "\n",
              "  <svg xmlns=\"http://www.w3.org/2000/svg\" height=\"24px\"viewBox=\"0 0 24 24\"\n",
              "       width=\"24px\">\n",
              "    <path d=\"M7,19H8.4L18.45,9,17,7.55,7,17.6ZM5,21V16.75L18.45,3.32a2,2,0,0,1,2.83,0l1.4,1.43a1.91,1.91,0,0,1,.58,1.4,1.91,1.91,0,0,1-.58,1.4L9.25,21ZM18.45,9,17,7.55Zm-12,3A5.31,5.31,0,0,0,4.9,8.1,5.31,5.31,0,0,0,1,6.5,5.31,5.31,0,0,0,4.9,4.9,5.31,5.31,0,0,0,6.5,1,5.31,5.31,0,0,0,8.1,4.9,5.31,5.31,0,0,0,12,6.5,5.46,5.46,0,0,0,6.5,12Z\"/>\n",
              "  </svg>\n",
              "    </button>\n",
              "    <script>\n",
              "      (() => {\n",
              "      const buttonEl =\n",
              "        document.querySelector('#id_82bfd8ee-69d3-4c08-8261-198f1a9ebd11 button.colab-df-generate');\n",
              "      buttonEl.style.display =\n",
              "        google.colab.kernel.accessAllowed ? 'block' : 'none';\n",
              "\n",
              "      buttonEl.onclick = () => {\n",
              "        google.colab.notebook.generateWithVariable('df');\n",
              "      }\n",
              "      })();\n",
              "    </script>\n",
              "  </div>\n",
              "\n",
              "    </div>\n",
              "  </div>\n"
            ],
            "application/vnd.google.colaboratory.intrinsic+json": {
              "type": "dataframe",
              "variable_name": "df",
              "summary": "{\n  \"name\": \"df\",\n  \"rows\": 23024,\n  \"fields\": [\n    {\n      \"column\": \"Symbol\",\n      \"properties\": {\n        \"dtype\": \"category\",\n        \"num_unique_values\": 4,\n        \"samples\": [\n          \"Crude Oil WTI\",\n          \"Heating Oil\",\n          \"Brent Oil\"\n        ],\n        \"semantic_type\": \"\",\n        \"description\": \"\"\n      }\n    },\n    {\n      \"column\": \"Date\",\n      \"properties\": {\n        \"dtype\": \"object\",\n        \"num_unique_values\": 5843,\n        \"samples\": [\n          \"2011-05-13\",\n          \"2001-05-24\",\n          \"2003-12-08\"\n        ],\n        \"semantic_type\": \"\",\n        \"description\": \"\"\n      }\n    },\n    {\n      \"column\": \"Open\",\n      \"properties\": {\n        \"dtype\": \"number\",\n        \"std\": 36.010741346943824,\n        \"min\": -14.0,\n        \"max\": 146.3,\n        \"num_unique_values\": 13739,\n        \"samples\": [\n          36.86,\n          3.651,\n          2.646\n        ],\n        \"semantic_type\": \"\",\n        \"description\": \"\"\n      }\n    },\n    {\n      \"column\": \"High\",\n      \"properties\": {\n        \"dtype\": \"number\",\n        \"std\": 36.46960300516692,\n        \"min\": 0.5085,\n        \"max\": 147.5,\n        \"num_unique_values\": 13658,\n        \"samples\": [\n          7.39,\n          0.699,\n          7.21\n        ],\n        \"semantic_type\": \"\",\n        \"description\": \"\"\n      }\n    },\n    {\n      \"column\": \"Low\",\n      \"properties\": {\n        \"dtype\": \"number\",\n        \"std\": 35.521156446415795,\n        \"min\": -16.74,\n        \"max\": 144.25,\n        \"num_unique_values\": 13570,\n        \"samples\": [\n          48.69,\n          6.224,\n          3.177\n        ],\n        \"semantic_type\": \"\",\n        \"description\": \"\"\n      }\n    },\n    {\n      \"column\": \"Close\",\n      \"properties\": {\n        \"dtype\": \"number\",\n        \"std\": 35.897014523945934,\n        \"min\": 0.4999,\n        \"max\": 146.08,\n        \"num_unique_values\": 15130,\n        \"samples\": [\n          22.33,\n          2.821,\n          58.93\n        ],\n        \"semantic_type\": \"\",\n        \"description\": \"\"\n      }\n    },\n    {\n      \"column\": \"Volume\",\n      \"properties\": {\n        \"dtype\": \"number\",\n        \"std\": 147402,\n        \"min\": 0,\n        \"max\": 1404916,\n        \"num_unique_values\": 21392,\n        \"samples\": [\n          315337,\n          67829,\n          56863\n        ],\n        \"semantic_type\": \"\",\n        \"description\": \"\"\n      }\n    },\n    {\n      \"column\": \"Currency\",\n      \"properties\": {\n        \"dtype\": \"category\",\n        \"num_unique_values\": 1,\n        \"samples\": [\n          \"USD\"\n        ],\n        \"semantic_type\": \"\",\n        \"description\": \"\"\n      }\n    }\n  ]\n}"
            }
          },
          "metadata": {},
          "execution_count": 3
        }
      ]
    },
    {
      "cell_type": "code",
      "source": [
        "df1 = df[df['Symbol'] == 'Brent Oil'].reset_index(drop=True)\n",
        "df2 = df[df['Symbol'] == 'Crude Oil WTI'].reset_index(drop=True)\n",
        "df3 = df[df['Symbol'] == 'Natural Gas'].reset_index(drop=True)\n",
        "df4 = df[df['Symbol'] == 'Heating Oil'].reset_index(drop=True)"
      ],
      "metadata": {
        "id": "qaH_fEnQAMpT"
      },
      "execution_count": null,
      "outputs": []
    },
    {
      "cell_type": "code",
      "source": [
        "# Forecasting brent oil Date vs Close\n",
        "df1_dropped = df1.drop(columns=['Symbol','Open','High','Low','Volume','Currency'])"
      ],
      "metadata": {
        "id": "itOqAfkRATRF"
      },
      "execution_count": null,
      "outputs": []
    },
    {
      "cell_type": "code",
      "source": [
        "df1_final=df1_dropped.set_index('Date')\n",
        "df['Date'] = pd.to_datetime(df['Date'], dayfirst=True, errors='coerce')\n",
        "df1_final.fillna(0, inplace=True)\n",
        "df1_final"
      ],
      "metadata": {
        "colab": {
          "base_uri": "https://localhost:8080/",
          "height": 455
        },
        "id": "nvkks0_2AaIb",
        "outputId": "9ee75590-cd50-4924-b1b3-1cc1274eb66c"
      },
      "execution_count": null,
      "outputs": [
        {
          "output_type": "execute_result",
          "data": {
            "text/plain": [
              "             Close\n",
              "Date              \n",
              "2000-01-04   24.39\n",
              "2000-01-05   23.73\n",
              "2000-01-06   23.62\n",
              "2000-01-07   23.09\n",
              "2000-01-10   23.73\n",
              "...            ...\n",
              "2022-06-13  122.27\n",
              "2022-06-14  121.17\n",
              "2022-06-15  118.51\n",
              "2022-06-16  119.81\n",
              "2022-06-17  113.12\n",
              "\n",
              "[5768 rows x 1 columns]"
            ],
            "text/html": [
              "\n",
              "  <div id=\"df-197727e7-35af-4aff-aaa9-910caa4075a1\" class=\"colab-df-container\">\n",
              "    <div>\n",
              "<style scoped>\n",
              "    .dataframe tbody tr th:only-of-type {\n",
              "        vertical-align: middle;\n",
              "    }\n",
              "\n",
              "    .dataframe tbody tr th {\n",
              "        vertical-align: top;\n",
              "    }\n",
              "\n",
              "    .dataframe thead th {\n",
              "        text-align: right;\n",
              "    }\n",
              "</style>\n",
              "<table border=\"1\" class=\"dataframe\">\n",
              "  <thead>\n",
              "    <tr style=\"text-align: right;\">\n",
              "      <th></th>\n",
              "      <th>Close</th>\n",
              "    </tr>\n",
              "    <tr>\n",
              "      <th>Date</th>\n",
              "      <th></th>\n",
              "    </tr>\n",
              "  </thead>\n",
              "  <tbody>\n",
              "    <tr>\n",
              "      <th>2000-01-04</th>\n",
              "      <td>24.39</td>\n",
              "    </tr>\n",
              "    <tr>\n",
              "      <th>2000-01-05</th>\n",
              "      <td>23.73</td>\n",
              "    </tr>\n",
              "    <tr>\n",
              "      <th>2000-01-06</th>\n",
              "      <td>23.62</td>\n",
              "    </tr>\n",
              "    <tr>\n",
              "      <th>2000-01-07</th>\n",
              "      <td>23.09</td>\n",
              "    </tr>\n",
              "    <tr>\n",
              "      <th>2000-01-10</th>\n",
              "      <td>23.73</td>\n",
              "    </tr>\n",
              "    <tr>\n",
              "      <th>...</th>\n",
              "      <td>...</td>\n",
              "    </tr>\n",
              "    <tr>\n",
              "      <th>2022-06-13</th>\n",
              "      <td>122.27</td>\n",
              "    </tr>\n",
              "    <tr>\n",
              "      <th>2022-06-14</th>\n",
              "      <td>121.17</td>\n",
              "    </tr>\n",
              "    <tr>\n",
              "      <th>2022-06-15</th>\n",
              "      <td>118.51</td>\n",
              "    </tr>\n",
              "    <tr>\n",
              "      <th>2022-06-16</th>\n",
              "      <td>119.81</td>\n",
              "    </tr>\n",
              "    <tr>\n",
              "      <th>2022-06-17</th>\n",
              "      <td>113.12</td>\n",
              "    </tr>\n",
              "  </tbody>\n",
              "</table>\n",
              "<p>5768 rows × 1 columns</p>\n",
              "</div>\n",
              "    <div class=\"colab-df-buttons\">\n",
              "\n",
              "  <div class=\"colab-df-container\">\n",
              "    <button class=\"colab-df-convert\" onclick=\"convertToInteractive('df-197727e7-35af-4aff-aaa9-910caa4075a1')\"\n",
              "            title=\"Convert this dataframe to an interactive table.\"\n",
              "            style=\"display:none;\">\n",
              "\n",
              "  <svg xmlns=\"http://www.w3.org/2000/svg\" height=\"24px\" viewBox=\"0 -960 960 960\">\n",
              "    <path d=\"M120-120v-720h720v720H120Zm60-500h600v-160H180v160Zm220 220h160v-160H400v160Zm0 220h160v-160H400v160ZM180-400h160v-160H180v160Zm440 0h160v-160H620v160ZM180-180h160v-160H180v160Zm440 0h160v-160H620v160Z\"/>\n",
              "  </svg>\n",
              "    </button>\n",
              "\n",
              "  <style>\n",
              "    .colab-df-container {\n",
              "      display:flex;\n",
              "      gap: 12px;\n",
              "    }\n",
              "\n",
              "    .colab-df-convert {\n",
              "      background-color: #E8F0FE;\n",
              "      border: none;\n",
              "      border-radius: 50%;\n",
              "      cursor: pointer;\n",
              "      display: none;\n",
              "      fill: #1967D2;\n",
              "      height: 32px;\n",
              "      padding: 0 0 0 0;\n",
              "      width: 32px;\n",
              "    }\n",
              "\n",
              "    .colab-df-convert:hover {\n",
              "      background-color: #E2EBFA;\n",
              "      box-shadow: 0px 1px 2px rgba(60, 64, 67, 0.3), 0px 1px 3px 1px rgba(60, 64, 67, 0.15);\n",
              "      fill: #174EA6;\n",
              "    }\n",
              "\n",
              "    .colab-df-buttons div {\n",
              "      margin-bottom: 4px;\n",
              "    }\n",
              "\n",
              "    [theme=dark] .colab-df-convert {\n",
              "      background-color: #3B4455;\n",
              "      fill: #D2E3FC;\n",
              "    }\n",
              "\n",
              "    [theme=dark] .colab-df-convert:hover {\n",
              "      background-color: #434B5C;\n",
              "      box-shadow: 0px 1px 3px 1px rgba(0, 0, 0, 0.15);\n",
              "      filter: drop-shadow(0px 1px 2px rgba(0, 0, 0, 0.3));\n",
              "      fill: #FFFFFF;\n",
              "    }\n",
              "  </style>\n",
              "\n",
              "    <script>\n",
              "      const buttonEl =\n",
              "        document.querySelector('#df-197727e7-35af-4aff-aaa9-910caa4075a1 button.colab-df-convert');\n",
              "      buttonEl.style.display =\n",
              "        google.colab.kernel.accessAllowed ? 'block' : 'none';\n",
              "\n",
              "      async function convertToInteractive(key) {\n",
              "        const element = document.querySelector('#df-197727e7-35af-4aff-aaa9-910caa4075a1');\n",
              "        const dataTable =\n",
              "          await google.colab.kernel.invokeFunction('convertToInteractive',\n",
              "                                                    [key], {});\n",
              "        if (!dataTable) return;\n",
              "\n",
              "        const docLinkHtml = 'Like what you see? Visit the ' +\n",
              "          '<a target=\"_blank\" href=https://colab.research.google.com/notebooks/data_table.ipynb>data table notebook</a>'\n",
              "          + ' to learn more about interactive tables.';\n",
              "        element.innerHTML = '';\n",
              "        dataTable['output_type'] = 'display_data';\n",
              "        await google.colab.output.renderOutput(dataTable, element);\n",
              "        const docLink = document.createElement('div');\n",
              "        docLink.innerHTML = docLinkHtml;\n",
              "        element.appendChild(docLink);\n",
              "      }\n",
              "    </script>\n",
              "  </div>\n",
              "\n",
              "\n",
              "<div id=\"df-56848109-80e5-4ea1-b971-5b1f672ea5e4\">\n",
              "  <button class=\"colab-df-quickchart\" onclick=\"quickchart('df-56848109-80e5-4ea1-b971-5b1f672ea5e4')\"\n",
              "            title=\"Suggest charts\"\n",
              "            style=\"display:none;\">\n",
              "\n",
              "<svg xmlns=\"http://www.w3.org/2000/svg\" height=\"24px\"viewBox=\"0 0 24 24\"\n",
              "     width=\"24px\">\n",
              "    <g>\n",
              "        <path d=\"M19 3H5c-1.1 0-2 .9-2 2v14c0 1.1.9 2 2 2h14c1.1 0 2-.9 2-2V5c0-1.1-.9-2-2-2zM9 17H7v-7h2v7zm4 0h-2V7h2v10zm4 0h-2v-4h2v4z\"/>\n",
              "    </g>\n",
              "</svg>\n",
              "  </button>\n",
              "\n",
              "<style>\n",
              "  .colab-df-quickchart {\n",
              "      --bg-color: #E8F0FE;\n",
              "      --fill-color: #1967D2;\n",
              "      --hover-bg-color: #E2EBFA;\n",
              "      --hover-fill-color: #174EA6;\n",
              "      --disabled-fill-color: #AAA;\n",
              "      --disabled-bg-color: #DDD;\n",
              "  }\n",
              "\n",
              "  [theme=dark] .colab-df-quickchart {\n",
              "      --bg-color: #3B4455;\n",
              "      --fill-color: #D2E3FC;\n",
              "      --hover-bg-color: #434B5C;\n",
              "      --hover-fill-color: #FFFFFF;\n",
              "      --disabled-bg-color: #3B4455;\n",
              "      --disabled-fill-color: #666;\n",
              "  }\n",
              "\n",
              "  .colab-df-quickchart {\n",
              "    background-color: var(--bg-color);\n",
              "    border: none;\n",
              "    border-radius: 50%;\n",
              "    cursor: pointer;\n",
              "    display: none;\n",
              "    fill: var(--fill-color);\n",
              "    height: 32px;\n",
              "    padding: 0;\n",
              "    width: 32px;\n",
              "  }\n",
              "\n",
              "  .colab-df-quickchart:hover {\n",
              "    background-color: var(--hover-bg-color);\n",
              "    box-shadow: 0 1px 2px rgba(60, 64, 67, 0.3), 0 1px 3px 1px rgba(60, 64, 67, 0.15);\n",
              "    fill: var(--button-hover-fill-color);\n",
              "  }\n",
              "\n",
              "  .colab-df-quickchart-complete:disabled,\n",
              "  .colab-df-quickchart-complete:disabled:hover {\n",
              "    background-color: var(--disabled-bg-color);\n",
              "    fill: var(--disabled-fill-color);\n",
              "    box-shadow: none;\n",
              "  }\n",
              "\n",
              "  .colab-df-spinner {\n",
              "    border: 2px solid var(--fill-color);\n",
              "    border-color: transparent;\n",
              "    border-bottom-color: var(--fill-color);\n",
              "    animation:\n",
              "      spin 1s steps(1) infinite;\n",
              "  }\n",
              "\n",
              "  @keyframes spin {\n",
              "    0% {\n",
              "      border-color: transparent;\n",
              "      border-bottom-color: var(--fill-color);\n",
              "      border-left-color: var(--fill-color);\n",
              "    }\n",
              "    20% {\n",
              "      border-color: transparent;\n",
              "      border-left-color: var(--fill-color);\n",
              "      border-top-color: var(--fill-color);\n",
              "    }\n",
              "    30% {\n",
              "      border-color: transparent;\n",
              "      border-left-color: var(--fill-color);\n",
              "      border-top-color: var(--fill-color);\n",
              "      border-right-color: var(--fill-color);\n",
              "    }\n",
              "    40% {\n",
              "      border-color: transparent;\n",
              "      border-right-color: var(--fill-color);\n",
              "      border-top-color: var(--fill-color);\n",
              "    }\n",
              "    60% {\n",
              "      border-color: transparent;\n",
              "      border-right-color: var(--fill-color);\n",
              "    }\n",
              "    80% {\n",
              "      border-color: transparent;\n",
              "      border-right-color: var(--fill-color);\n",
              "      border-bottom-color: var(--fill-color);\n",
              "    }\n",
              "    90% {\n",
              "      border-color: transparent;\n",
              "      border-bottom-color: var(--fill-color);\n",
              "    }\n",
              "  }\n",
              "</style>\n",
              "\n",
              "  <script>\n",
              "    async function quickchart(key) {\n",
              "      const quickchartButtonEl =\n",
              "        document.querySelector('#' + key + ' button');\n",
              "      quickchartButtonEl.disabled = true;  // To prevent multiple clicks.\n",
              "      quickchartButtonEl.classList.add('colab-df-spinner');\n",
              "      try {\n",
              "        const charts = await google.colab.kernel.invokeFunction(\n",
              "            'suggestCharts', [key], {});\n",
              "      } catch (error) {\n",
              "        console.error('Error during call to suggestCharts:', error);\n",
              "      }\n",
              "      quickchartButtonEl.classList.remove('colab-df-spinner');\n",
              "      quickchartButtonEl.classList.add('colab-df-quickchart-complete');\n",
              "    }\n",
              "    (() => {\n",
              "      let quickchartButtonEl =\n",
              "        document.querySelector('#df-56848109-80e5-4ea1-b971-5b1f672ea5e4 button');\n",
              "      quickchartButtonEl.style.display =\n",
              "        google.colab.kernel.accessAllowed ? 'block' : 'none';\n",
              "    })();\n",
              "  </script>\n",
              "</div>\n",
              "\n",
              "  <div id=\"id_4c9233ef-a1e4-46c2-8c35-2867e55e70e2\">\n",
              "    <style>\n",
              "      .colab-df-generate {\n",
              "        background-color: #E8F0FE;\n",
              "        border: none;\n",
              "        border-radius: 50%;\n",
              "        cursor: pointer;\n",
              "        display: none;\n",
              "        fill: #1967D2;\n",
              "        height: 32px;\n",
              "        padding: 0 0 0 0;\n",
              "        width: 32px;\n",
              "      }\n",
              "\n",
              "      .colab-df-generate:hover {\n",
              "        background-color: #E2EBFA;\n",
              "        box-shadow: 0px 1px 2px rgba(60, 64, 67, 0.3), 0px 1px 3px 1px rgba(60, 64, 67, 0.15);\n",
              "        fill: #174EA6;\n",
              "      }\n",
              "\n",
              "      [theme=dark] .colab-df-generate {\n",
              "        background-color: #3B4455;\n",
              "        fill: #D2E3FC;\n",
              "      }\n",
              "\n",
              "      [theme=dark] .colab-df-generate:hover {\n",
              "        background-color: #434B5C;\n",
              "        box-shadow: 0px 1px 3px 1px rgba(0, 0, 0, 0.15);\n",
              "        filter: drop-shadow(0px 1px 2px rgba(0, 0, 0, 0.3));\n",
              "        fill: #FFFFFF;\n",
              "      }\n",
              "    </style>\n",
              "    <button class=\"colab-df-generate\" onclick=\"generateWithVariable('df1_final')\"\n",
              "            title=\"Generate code using this dataframe.\"\n",
              "            style=\"display:none;\">\n",
              "\n",
              "  <svg xmlns=\"http://www.w3.org/2000/svg\" height=\"24px\"viewBox=\"0 0 24 24\"\n",
              "       width=\"24px\">\n",
              "    <path d=\"M7,19H8.4L18.45,9,17,7.55,7,17.6ZM5,21V16.75L18.45,3.32a2,2,0,0,1,2.83,0l1.4,1.43a1.91,1.91,0,0,1,.58,1.4,1.91,1.91,0,0,1-.58,1.4L9.25,21ZM18.45,9,17,7.55Zm-12,3A5.31,5.31,0,0,0,4.9,8.1,5.31,5.31,0,0,0,1,6.5,5.31,5.31,0,0,0,4.9,4.9,5.31,5.31,0,0,0,6.5,1,5.31,5.31,0,0,0,8.1,4.9,5.31,5.31,0,0,0,12,6.5,5.46,5.46,0,0,0,6.5,12Z\"/>\n",
              "  </svg>\n",
              "    </button>\n",
              "    <script>\n",
              "      (() => {\n",
              "      const buttonEl =\n",
              "        document.querySelector('#id_4c9233ef-a1e4-46c2-8c35-2867e55e70e2 button.colab-df-generate');\n",
              "      buttonEl.style.display =\n",
              "        google.colab.kernel.accessAllowed ? 'block' : 'none';\n",
              "\n",
              "      buttonEl.onclick = () => {\n",
              "        google.colab.notebook.generateWithVariable('df1_final');\n",
              "      }\n",
              "      })();\n",
              "    </script>\n",
              "  </div>\n",
              "\n",
              "    </div>\n",
              "  </div>\n"
            ],
            "application/vnd.google.colaboratory.intrinsic+json": {
              "type": "dataframe",
              "variable_name": "df1_final",
              "summary": "{\n  \"name\": \"df1_final\",\n  \"rows\": 5768,\n  \"fields\": [\n    {\n      \"column\": \"Date\",\n      \"properties\": {\n        \"dtype\": \"object\",\n        \"num_unique_values\": 5768,\n        \"samples\": [\n          \"2011-07-08\",\n          \"2017-11-09\",\n          \"2008-09-15\"\n        ],\n        \"semantic_type\": \"\",\n        \"description\": \"\"\n      }\n    },\n    {\n      \"column\": \"Close\",\n      \"properties\": {\n        \"dtype\": \"number\",\n        \"std\": 29.383221915378833,\n        \"min\": 17.68,\n        \"max\": 146.08,\n        \"num_unique_values\": 4188,\n        \"samples\": [\n          111.94,\n          63.0,\n          77.43\n        ],\n        \"semantic_type\": \"\",\n        \"description\": \"\"\n      }\n    }\n  ]\n}"
            }
          },
          "metadata": {},
          "execution_count": 6
        }
      ]
    },
    {
      "cell_type": "code",
      "source": [
        "df1_final.plot(style='-',figsize=(15,5),color=color_pal[3],title='Price per barrell')"
      ],
      "metadata": {
        "colab": {
          "base_uri": "https://localhost:8080/",
          "height": 386
        },
        "id": "2GE_D7aCAdId",
        "outputId": "e1cf0f0d-e182-4094-c2d1-adf18703eaa2"
      },
      "execution_count": null,
      "outputs": [
        {
          "output_type": "execute_result",
          "data": {
            "text/plain": [
              "<Axes: title={'center': 'Price per barrell'}, xlabel='Date'>"
            ]
          },
          "metadata": {},
          "execution_count": 7
        },
        {
          "output_type": "display_data",
          "data": {
            "text/plain": [
              "<Figure size 1500x500 with 1 Axes>"
            ],
            "image/png": "[encoded data removed]"
          },
          "metadata": {}
        }
      ]
    },
    {
      "cell_type": "code",
      "source": [
        "df1_final.index = pd.to_datetime(df1_final.index, format=\"%Y-%m-%d\")\n",
        "train = df1_final.loc[df1_final.index < '01-01-2015']\n",
        "test = df1_final.loc[df1_final.index >= '01-01-2015']\n",
        "\n",
        "fig, ax = plt.subplots(figsize=(15, 5))\n",
        "train.plot(ax=ax, label='Training Set', title='Data Train/Test Split')\n",
        "test.plot(ax=ax, label='Test Set')\n",
        "ax.axvline('01-01-2015', color='black', ls='--')\n",
        "ax.legend(['Training Set', 'Test Set'])\n",
        "plt.show()"
      ],
      "metadata": {
        "colab": {
          "base_uri": "https://localhost:8080/",
          "height": 346
        },
        "id": "rQH4tPggAhFO",
        "outputId": "fada7d34-fa5b-4e06-d510-d5b9f5ff098f"
      },
      "execution_count": null,
      "outputs": [
        {
          "output_type": "display_data",
          "data": {
            "text/plain": [
              "<Figure size 1500x500 with 1 Axes>"
            ],
            "image/png": "[encoded data removed]"
          },
          "metadata": {}
        }
      ]
    },
    {
      "cell_type": "code",
      "source": [
        "df1_final.index = pd.to_datetime(df1_final.index, format=\"%Y-%m-%d\")\n",
        "def create_features(df1_final):\n",
        "  df1_final['day']=df1_final.index.day\n",
        "  df1_final['dayofweek']= df1_final.index.dayofweek\n",
        "  df1_final['quarter']=df1_final.index.quarter\n",
        "  df1_final['month']=df1_final.index.month\n",
        "  df1_final['year']=df1_final.index.year\n",
        "  return df1_final\n",
        "df1_final= create_features(df1_final)"
      ],
      "metadata": {
        "id": "o9ex3NrTAlPp"
      },
      "execution_count": null,
      "outputs": []
    },
    {
      "cell_type": "code",
      "source": [
        "df1_final.head(30)"
      ],
      "metadata": {
        "colab": {
          "base_uri": "https://localhost:8080/",
          "height": 1000
        },
        "id": "hySAYT6dAoj4",
        "outputId": "4e5c387b-7174-4d14-d9d1-faa3a754c236"
      },
      "execution_count": null,
      "outputs": [
        {
          "output_type": "execute_result",
          "data": {
            "text/plain": [
              "            Close  day  dayofweek  quarter  month  year\n",
              "Date                                                   \n",
              "2000-01-04  24.39    4          1        1      1  2000\n",
              "2000-01-05  23.73    5          2        1      1  2000\n",
              "2000-01-06  23.62    6          3        1      1  2000\n",
              "2000-01-07  23.09    7          4        1      1  2000\n",
              "2000-01-10  23.73   10          0        1      1  2000\n",
              "2000-01-11  24.62   11          1        1      1  2000\n",
              "2000-01-12  24.81   12          2        1      1  2000\n",
              "2000-01-13  24.98   13          3        1      1  2000\n",
              "2000-01-14  25.47   14          4        1      1  2000\n",
              "2000-01-17  25.65   17          0        1      1  2000\n",
              "2000-01-18  26.05   18          1        1      1  2000\n",
              "2000-01-19  25.84   19          2        1      1  2000\n",
              "2000-01-20  26.10   20          3        1      1  2000\n",
              "2000-01-21  26.35   21          4        1      1  2000\n",
              "2000-01-24  26.06   24          0        1      1  2000\n",
              "2000-01-25  26.54   25          1        1      1  2000\n",
              "2000-01-26  26.13   26          2        1      1  2000\n",
              "2000-01-27  25.62   27          3        1      1  2000\n",
              "2000-01-28  25.68   28          4        1      1  2000\n",
              "2000-01-31  25.97   31          0        1      1  2000\n",
              "2000-02-01  26.39    1          1        1      2  2000\n",
              "2000-02-02  25.93    2          2        1      2  2000\n",
              "2000-02-03  26.66    3          3        1      2  2000\n",
              "2000-02-04  27.07    4          4        1      2  2000\n",
              "2000-02-07  26.88    7          0        1      2  2000\n",
              "2000-02-08  26.37    8          1        1      2  2000\n",
              "2000-02-09  26.92    9          2        1      2  2000\n",
              "2000-02-10  27.48   10          3        1      2  2000\n",
              "2000-02-11  27.82   11          4        1      2  2000\n",
              "2000-02-14  28.76   14          0        1      2  2000"
            ],
            "text/html": [
              "\n",
              "  <div id=\"df-c938de18-f7eb-493b-b926-7ec7c56272f2\" class=\"colab-df-container\">\n",
              "    <div>\n",
              "<style scoped>\n",
              "    .dataframe tbody tr th:only-of-type {\n",
              "        vertical-align: middle;\n",
              "    }\n",
              "\n",
              "    .dataframe tbody tr th {\n",
              "        vertical-align: top;\n",
              "    }\n",
              "\n",
              "    .dataframe thead th {\n",
              "        text-align: right;\n",
              "    }\n",
              "</style>\n",
              "<table border=\"1\" class=\"dataframe\">\n",
              "  <thead>\n",
              "    <tr style=\"text-align: right;\">\n",
              "      <th></th>\n",
              "      <th>Close</th>\n",
              "      <th>day</th>\n",
              "      <th>dayofweek</th>\n",
              "      <th>quarter</th>\n",
              "      <th>month</th>\n",
              "      <th>year</th>\n",
              "    </tr>\n",
              "    <tr>\n",
              "      <th>Date</th>\n",
              "      <th></th>\n",
              "      <th></th>\n",
              "      <th></th>\n",
              "      <th></th>\n",
              "      <th></th>\n",
              "      <th></th>\n",
              "    </tr>\n",
              "  </thead>\n",
              "  <tbody>\n",
              "    <tr>\n",
              "      <th>2000-01-04</th>\n",
              "      <td>24.39</td>\n",
              "      <td>4</td>\n",
              "      <td>1</td>\n",
              "      <td>1</td>\n",
              "      <td>1</td>\n",
              "      <td>2000</td>\n",
              "    </tr>\n",
              "    <tr>\n",
              "      <th>2000-01-05</th>\n",
              "      <td>23.73</td>\n",
              "      <td>5</td>\n",
              "      <td>2</td>\n",
              "      <td>1</td>\n",
              "      <td>1</td>\n",
              "      <td>2000</td>\n",
              "    </tr>\n",
              "    <tr>\n",
              "      <th>2000-01-06</th>\n",
              "      <td>23.62</td>\n",
              "      <td>6</td>\n",
              "      <td>3</td>\n",
              "      <td>1</td>\n",
              "      <td>1</td>\n",
              "      <td>2000</td>\n",
              "    </tr>\n",
              "    <tr>\n",
              "      <th>2000-01-07</th>\n",
              "      <td>23.09</td>\n",
              "      <td>7</td>\n",
              "      <td>4</td>\n",
              "      <td>1</td>\n",
              "      <td>1</td>\n",
              "      <td>2000</td>\n",
              "    </tr>\n",
              "    <tr>\n",
              "      <th>2000-01-10</th>\n",
              "      <td>23.73</td>\n",
              "      <td>10</td>\n",
              "      <td>0</td>\n",
              "      <td>1</td>\n",
              "      <td>1</td>\n",
              "      <td>2000</td>\n",
              "    </tr>\n",
              "    <tr>\n",
              "      <th>2000-01-11</th>\n",
              "      <td>24.62</td>\n",
              "      <td>11</td>\n",
              "      <td>1</td>\n",
              "      <td>1</td>\n",
              "      <td>1</td>\n",
              "      <td>2000</td>\n",
              "    </tr>\n",
              "    <tr>\n",
              "      <th>2000-01-12</th>\n",
              "      <td>24.81</td>\n",
              "      <td>12</td>\n",
              "      <td>2</td>\n",
              "      <td>1</td>\n",
              "      <td>1</td>\n",
              "      <td>2000</td>\n",
              "    </tr>\n",
              "    <tr>\n",
              "      <th>2000-01-13</th>\n",
              "      <td>24.98</td>\n",
              "      <td>13</td>\n",
              "      <td>3</td>\n",
              "      <td>1</td>\n",
              "      <td>1</td>\n",
              "      <td>2000</td>\n",
              "    </tr>\n",
              "    <tr>\n",
              "      <th>2000-01-14</th>\n",
              "      <td>25.47</td>\n",
              "      <td>14</td>\n",
              "      <td>4</td>\n",
              "      <td>1</td>\n",
              "      <td>1</td>\n",
              "      <td>2000</td>\n",
              "    </tr>\n",
              "    <tr>\n",
              "      <th>2000-01-17</th>\n",
              "      <td>25.65</td>\n",
              "      <td>17</td>\n",
              "      <td>0</td>\n",
              "      <td>1</td>\n",
              "      <td>1</td>\n",
              "      <td>2000</td>\n",
              "    </tr>\n",
              "    <tr>\n",
              "      <th>2000-01-18</th>\n",
              "      <td>26.05</td>\n",
              "      <td>18</td>\n",
              "      <td>1</td>\n",
              "      <td>1</td>\n",
              "      <td>1</td>\n",
              "      <td>2000</td>\n",
              "    </tr>\n",
              "    <tr>\n",
              "      <th>2000-01-19</th>\n",
              "      <td>25.84</td>\n",
              "      <td>19</td>\n",
              "      <td>2</td>\n",
              "      <td>1</td>\n",
              "      <td>1</td>\n",
              "      <td>2000</td>\n",
              "    </tr>\n",
              "    <tr>\n",
              "      <th>2000-01-20</th>\n",
              "      <td>26.10</td>\n",
              "      <td>20</td>\n",
              "      <td>3</td>\n",
              "      <td>1</td>\n",
              "      <td>1</td>\n",
              "      <td>2000</td>\n",
              "    </tr>\n",
              "    <tr>\n",
              "      <th>2000-01-21</th>\n",
              "      <td>26.35</td>\n",
              "      <td>21</td>\n",
              "      <td>4</td>\n",
              "      <td>1</td>\n",
              "      <td>1</td>\n",
              "      <td>2000</td>\n",
              "    </tr>\n",
              "    <tr>\n",
              "      <th>2000-01-24</th>\n",
              "      <td>26.06</td>\n",
              "      <td>24</td>\n",
              "      <td>0</td>\n",
              "      <td>1</td>\n",
              "      <td>1</td>\n",
              "      <td>2000</td>\n",
              "    </tr>\n",
              "    <tr>\n",
              "      <th>2000-01-25</th>\n",
              "      <td>26.54</td>\n",
              "      <td>25</td>\n",
              "      <td>1</td>\n",
              "      <td>1</td>\n",
              "      <td>1</td>\n",
              "      <td>2000</td>\n",
              "    </tr>\n",
              "    <tr>\n",
              "      <th>2000-01-26</th>\n",
              "      <td>26.13</td>\n",
              "      <td>26</td>\n",
              "      <td>2</td>\n",
              "      <td>1</td>\n",
              "      <td>1</td>\n",
              "      <td>2000</td>\n",
              "    </tr>\n",
              "    <tr>\n",
              "      <th>2000-01-27</th>\n",
              "      <td>25.62</td>\n",
              "      <td>27</td>\n",
              "      <td>3</td>\n",
              "      <td>1</td>\n",
              "      <td>1</td>\n",
              "      <td>2000</td>\n",
              "    </tr>\n",
              "    <tr>\n",
              "      <th>2000-01-28</th>\n",
              "      <td>25.68</td>\n",
              "      <td>28</td>\n",
              "      <td>4</td>\n",
              "      <td>1</td>\n",
              "      <td>1</td>\n",
              "      <td>2000</td>\n",
              "    </tr>\n",
              "    <tr>\n",
              "      <th>2000-01-31</th>\n",
              "      <td>25.97</td>\n",
              "      <td>31</td>\n",
              "      <td>0</td>\n",
              "      <td>1</td>\n",
              "      <td>1</td>\n",
              "      <td>2000</td>\n",
              "    </tr>\n",
              "    <tr>\n",
              "      <th>2000-02-01</th>\n",
              "      <td>26.39</td>\n",
              "      <td>1</td>\n",
              "      <td>1</td>\n",
              "      <td>1</td>\n",
              "      <td>2</td>\n",
              "      <td>2000</td>\n",
              "    </tr>\n",
              "    <tr>\n",
              "      <th>2000-02-02</th>\n",
              "      <td>25.93</td>\n",
              "      <td>2</td>\n",
              "      <td>2</td>\n",
              "      <td>1</td>\n",
              "      <td>2</td>\n",
              "      <td>2000</td>\n",
              "    </tr>\n",
              "    <tr>\n",
              "      <th>2000-02-03</th>\n",
              "      <td>26.66</td>\n",
              "      <td>3</td>\n",
              "      <td>3</td>\n",
              "      <td>1</td>\n",
              "      <td>2</td>\n",
              "      <td>2000</td>\n",
              "    </tr>\n",
              "    <tr>\n",
              "      <th>2000-02-04</th>\n",
              "      <td>27.07</td>\n",
              "      <td>4</td>\n",
              "      <td>4</td>\n",
              "      <td>1</td>\n",
              "      <td>2</td>\n",
              "      <td>2000</td>\n",
              "    </tr>\n",
              "    <tr>\n",
              "      <th>2000-02-07</th>\n",
              "      <td>26.88</td>\n",
              "      <td>7</td>\n",
              "      <td>0</td>\n",
              "      <td>1</td>\n",
              "      <td>2</td>\n",
              "      <td>2000</td>\n",
              "    </tr>\n",
              "    <tr>\n",
              "      <th>2000-02-08</th>\n",
              "      <td>26.37</td>\n",
              "      <td>8</td>\n",
              "      <td>1</td>\n",
              "      <td>1</td>\n",
              "      <td>2</td>\n",
              "      <td>2000</td>\n",
              "    </tr>\n",
              "    <tr>\n",
              "      <th>2000-02-09</th>\n",
              "      <td>26.92</td>\n",
              "      <td>9</td>\n",
              "      <td>2</td>\n",
              "      <td>1</td>\n",
              "      <td>2</td>\n",
              "      <td>2000</td>\n",
              "    </tr>\n",
              "    <tr>\n",
              "      <th>2000-02-10</th>\n",
              "      <td>27.48</td>\n",
              "      <td>10</td>\n",
              "      <td>3</td>\n",
              "      <td>1</td>\n",
              "      <td>2</td>\n",
              "      <td>2000</td>\n",
              "    </tr>\n",
              "    <tr>\n",
              "      <th>2000-02-11</th>\n",
              "      <td>27.82</td>\n",
              "      <td>11</td>\n",
              "      <td>4</td>\n",
              "      <td>1</td>\n",
              "      <td>2</td>\n",
              "      <td>2000</td>\n",
              "    </tr>\n",
              "    <tr>\n",
              "      <th>2000-02-14</th>\n",
              "      <td>28.76</td>\n",
              "      <td>14</td>\n",
              "      <td>0</td>\n",
              "      <td>1</td>\n",
              "      <td>2</td>\n",
              "      <td>2000</td>\n",
              "    </tr>\n",
              "  </tbody>\n",
              "</table>\n",
              "</div>\n",
              "    <div class=\"colab-df-buttons\">\n",
              "\n",
              "  <div class=\"colab-df-container\">\n",
              "    <button class=\"colab-df-convert\" onclick=\"convertToInteractive('df-c938de18-f7eb-493b-b926-7ec7c56272f2')\"\n",
              "            title=\"Convert this dataframe to an interactive table.\"\n",
              "            style=\"display:none;\">\n",
              "\n",
              "  <svg xmlns=\"http://www.w3.org/2000/svg\" height=\"24px\" viewBox=\"0 -960 960 960\">\n",
              "    <path d=\"M120-120v-720h720v720H120Zm60-500h600v-160H180v160Zm220 220h160v-160H400v160Zm0 220h160v-160H400v160ZM180-400h160v-160H180v160Zm440 0h160v-160H620v160ZM180-180h160v-160H180v160Zm440 0h160v-160H620v160Z\"/>\n",
              "  </svg>\n",
              "    </button>\n",
              "\n",
              "  <style>\n",
              "    .colab-df-container {\n",
              "      display:flex;\n",
              "      gap: 12px;\n",
              "    }\n",
              "\n",
              "    .colab-df-convert {\n",
              "      background-color: #E8F0FE;\n",
              "      border: none;\n",
              "      border-radius: 50%;\n",
              "      cursor: pointer;\n",
              "      display: none;\n",
              "      fill: #1967D2;\n",
              "      height: 32px;\n",
              "      padding: 0 0 0 0;\n",
              "      width: 32px;\n",
              "    }\n",
              "\n",
              "    .colab-df-convert:hover {\n",
              "      background-color: #E2EBFA;\n",
              "      box-shadow: 0px 1px 2px rgba(60, 64, 67, 0.3), 0px 1px 3px 1px rgba(60, 64, 67, 0.15);\n",
              "      fill: #174EA6;\n",
              "    }\n",
              "\n",
              "    .colab-df-buttons div {\n",
              "      margin-bottom: 4px;\n",
              "    }\n",
              "\n",
              "    [theme=dark] .colab-df-convert {\n",
              "      background-color: #3B4455;\n",
              "      fill: #D2E3FC;\n",
              "    }\n",
              "\n",
              "    [theme=dark] .colab-df-convert:hover {\n",
              "      background-color: #434B5C;\n",
              "      box-shadow: 0px 1px 3px 1px rgba(0, 0, 0, 0.15);\n",
              "      filter: drop-shadow(0px 1px 2px rgba(0, 0, 0, 0.3));\n",
              "      fill: #FFFFFF;\n",
              "    }\n",
              "  </style>\n",
              "\n",
              "    <script>\n",
              "      const buttonEl =\n",
              "        document.querySelector('#df-c938de18-f7eb-493b-b926-7ec7c56272f2 button.colab-df-convert');\n",
              "      buttonEl.style.display =\n",
              "        google.colab.kernel.accessAllowed ? 'block' : 'none';\n",
              "\n",
              "      async function convertToInteractive(key) {\n",
              "        const element = document.querySelector('#df-c938de18-f7eb-493b-b926-7ec7c56272f2');\n",
              "        const dataTable =\n",
              "          await google.colab.kernel.invokeFunction('convertToInteractive',\n",
              "                                                    [key], {});\n",
              "        if (!dataTable) return;\n",
              "\n",
              "        const docLinkHtml = 'Like what you see? Visit the ' +\n",
              "          '<a target=\"_blank\" href=https://colab.research.google.com/notebooks/data_table.ipynb>data table notebook</a>'\n",
              "          + ' to learn more about interactive tables.';\n",
              "        element.innerHTML = '';\n",
              "        dataTable['output_type'] = 'display_data';\n",
              "        await google.colab.output.renderOutput(dataTable, element);\n",
              "        const docLink = document.createElement('div');\n",
              "        docLink.innerHTML = docLinkHtml;\n",
              "        element.appendChild(docLink);\n",
              "      }\n",
              "    </script>\n",
              "  </div>\n",
              "\n",
              "\n",
              "<div id=\"df-9712957c-0035-442e-bd99-c6442d9e30e0\">\n",
              "  <button class=\"colab-df-quickchart\" onclick=\"quickchart('df-9712957c-0035-442e-bd99-c6442d9e30e0')\"\n",
              "            title=\"Suggest charts\"\n",
              "            style=\"display:none;\">\n",
              "\n",
              "<svg xmlns=\"http://www.w3.org/2000/svg\" height=\"24px\"viewBox=\"0 0 24 24\"\n",
              "     width=\"24px\">\n",
              "    <g>\n",
              "        <path d=\"M19 3H5c-1.1 0-2 .9-2 2v14c0 1.1.9 2 2 2h14c1.1 0 2-.9 2-2V5c0-1.1-.9-2-2-2zM9 17H7v-7h2v7zm4 0h-2V7h2v10zm4 0h-2v-4h2v4z\"/>\n",
              "    </g>\n",
              "</svg>\n",
              "  </button>\n",
              "\n",
              "<style>\n",
              "  .colab-df-quickchart {\n",
              "      --bg-color: #E8F0FE;\n",
              "      --fill-color: #1967D2;\n",
              "      --hover-bg-color: #E2EBFA;\n",
              "      --hover-fill-color: #174EA6;\n",
              "      --disabled-fill-color: #AAA;\n",
              "      --disabled-bg-color: #DDD;\n",
              "  }\n",
              "\n",
              "  [theme=dark] .colab-df-quickchart {\n",
              "      --bg-color: #3B4455;\n",
              "      --fill-color: #D2E3FC;\n",
              "      --hover-bg-color: #434B5C;\n",
              "      --hover-fill-color: #FFFFFF;\n",
              "      --disabled-bg-color: #3B4455;\n",
              "      --disabled-fill-color: #666;\n",
              "  }\n",
              "\n",
              "  .colab-df-quickchart {\n",
              "    background-color: var(--bg-color);\n",
              "    border: none;\n",
              "    border-radius: 50%;\n",
              "    cursor: pointer;\n",
              "    display: none;\n",
              "    fill: var(--fill-color);\n",
              "    height: 32px;\n",
              "    padding: 0;\n",
              "    width: 32px;\n",
              "  }\n",
              "\n",
              "  .colab-df-quickchart:hover {\n",
              "    background-color: var(--hover-bg-color);\n",
              "    box-shadow: 0 1px 2px rgba(60, 64, 67, 0.3), 0 1px 3px 1px rgba(60, 64, 67, 0.15);\n",
              "    fill: var(--button-hover-fill-color);\n",
              "  }\n",
              "\n",
              "  .colab-df-quickchart-complete:disabled,\n",
              "  .colab-df-quickchart-complete:disabled:hover {\n",
              "    background-color: var(--disabled-bg-color);\n",
              "    fill: var(--disabled-fill-color);\n",
              "    box-shadow: none;\n",
              "  }\n",
              "\n",
              "  .colab-df-spinner {\n",
              "    border: 2px solid var(--fill-color);\n",
              "    border-color: transparent;\n",
              "    border-bottom-color: var(--fill-color);\n",
              "    animation:\n",
              "      spin 1s steps(1) infinite;\n",
              "  }\n",
              "\n",
              "  @keyframes spin {\n",
              "    0% {\n",
              "      border-color: transparent;\n",
              "      border-bottom-color: var(--fill-color);\n",
              "      border-left-color: var(--fill-color);\n",
              "    }\n",
              "    20% {\n",
              "      border-color: transparent;\n",
              "      border-left-color: var(--fill-color);\n",
              "      border-top-color: var(--fill-color);\n",
              "    }\n",
              "    30% {\n",
              "      border-color: transparent;\n",
              "      border-left-color: var(--fill-color);\n",
              "      border-top-color: var(--fill-color);\n",
              "      border-right-color: var(--fill-color);\n",
              "    }\n",
              "    40% {\n",
              "      border-color: transparent;\n",
              "      border-right-color: var(--fill-color);\n",
              "      border-top-color: var(--fill-color);\n",
              "    }\n",
              "    60% {\n",
              "      border-color: transparent;\n",
              "      border-right-color: var(--fill-color);\n",
              "    }\n",
              "    80% {\n",
              "      border-color: transparent;\n",
              "      border-right-color: var(--fill-color);\n",
              "      border-bottom-color: var(--fill-color);\n",
              "    }\n",
              "    90% {\n",
              "      border-color: transparent;\n",
              "      border-bottom-color: var(--fill-color);\n",
              "    }\n",
              "  }\n",
              "</style>\n",
              "\n",
              "  <script>\n",
              "    async function quickchart(key) {\n",
              "      const quickchartButtonEl =\n",
              "        document.querySelector('#' + key + ' button');\n",
              "      quickchartButtonEl.disabled = true;  // To prevent multiple clicks.\n",
              "      quickchartButtonEl.classList.add('colab-df-spinner');\n",
              "      try {\n",
              "        const charts = await google.colab.kernel.invokeFunction(\n",
              "            'suggestCharts', [key], {});\n",
              "      } catch (error) {\n",
              "        console.error('Error during call to suggestCharts:', error);\n",
              "      }\n",
              "      quickchartButtonEl.classList.remove('colab-df-spinner');\n",
              "      quickchartButtonEl.classList.add('colab-df-quickchart-complete');\n",
              "    }\n",
              "    (() => {\n",
              "      let quickchartButtonEl =\n",
              "        document.querySelector('#df-9712957c-0035-442e-bd99-c6442d9e30e0 button');\n",
              "      quickchartButtonEl.style.display =\n",
              "        google.colab.kernel.accessAllowed ? 'block' : 'none';\n",
              "    })();\n",
              "  </script>\n",
              "</div>\n",
              "\n",
              "    </div>\n",
              "  </div>\n"
            ],
            "application/vnd.google.colaboratory.intrinsic+json": {
              "type": "dataframe",
              "variable_name": "df1_final",
              "summary": "{\n  \"name\": \"df1_final\",\n  \"rows\": 5768,\n  \"fields\": [\n    {\n      \"column\": \"Date\",\n      \"properties\": {\n        \"dtype\": \"date\",\n        \"min\": \"2000-01-04 00:00:00\",\n        \"max\": \"2022-06-17 00:00:00\",\n        \"num_unique_values\": 5768,\n        \"samples\": [\n          \"2011-07-08 00:00:00\",\n          \"2017-11-09 00:00:00\",\n          \"2008-09-15 00:00:00\"\n        ],\n        \"semantic_type\": \"\",\n        \"description\": \"\"\n      }\n    },\n    {\n      \"column\": \"Close\",\n      \"properties\": {\n        \"dtype\": \"number\",\n        \"std\": 29.383221915378833,\n        \"min\": 17.68,\n        \"max\": 146.08,\n        \"num_unique_values\": 4188,\n        \"samples\": [\n          111.94,\n          63.0,\n          77.43\n        ],\n        \"semantic_type\": \"\",\n        \"description\": \"\"\n      }\n    },\n    {\n      \"column\": \"day\",\n      \"properties\": {\n        \"dtype\": \"int32\",\n        \"num_unique_values\": 31,\n        \"samples\": [\n          22,\n          25,\n          8\n        ],\n        \"semantic_type\": \"\",\n        \"description\": \"\"\n      }\n    },\n    {\n      \"column\": \"dayofweek\",\n      \"properties\": {\n        \"dtype\": \"int32\",\n        \"num_unique_values\": 6,\n        \"samples\": [\n          1,\n          2,\n          6\n        ],\n        \"semantic_type\": \"\",\n        \"description\": \"\"\n      }\n    },\n    {\n      \"column\": \"quarter\",\n      \"properties\": {\n        \"dtype\": \"int32\",\n        \"num_unique_values\": 4,\n        \"samples\": [\n          2,\n          4,\n          1\n        ],\n        \"semantic_type\": \"\",\n        \"description\": \"\"\n      }\n    },\n    {\n      \"column\": \"month\",\n      \"properties\": {\n        \"dtype\": \"int32\",\n        \"num_unique_values\": 12,\n        \"samples\": [\n          11,\n          10,\n          1\n        ],\n        \"semantic_type\": \"\",\n        \"description\": \"\"\n      }\n    },\n    {\n      \"column\": \"year\",\n      \"properties\": {\n        \"dtype\": \"int32\",\n        \"num_unique_values\": 23,\n        \"samples\": [\n          2015,\n          2009,\n          2000\n        ],\n        \"semantic_type\": \"\",\n        \"description\": \"\"\n      }\n    }\n  ]\n}"
            }
          },
          "metadata": {},
          "execution_count": 10
        }
      ]
    },
    {
      "cell_type": "code",
      "source": [
        "fig,ax=plt.subplots(figsize=(15,5))\n",
        "sns.boxplot(data=df1_final,x='day',y='Close')\n",
        "ax.set_title('Prices by day of the month')"
      ],
      "metadata": {
        "colab": {
          "base_uri": "https://localhost:8080/",
          "height": 380
        },
        "id": "jnithZwfAsao",
        "outputId": "b2c49b7c-ca8a-4afb-d14e-dc8e190bd316"
      },
      "execution_count": null,
      "outputs": [
        {
          "output_type": "execute_result",
          "data": {
            "text/plain": [
              "Text(0.5, 1.0, 'Prices by day of the month')"
            ]
          },
          "metadata": {},
          "execution_count": 11
        },
        {
          "output_type": "display_data",
          "data": {
            "text/plain": [
              "<Figure size 1500x500 with 1 Axes>"
            ],
            "image/png": "[encoded data removed]"
          },
          "metadata": {}
        }
      ]
    },
    {
      "cell_type": "code",
      "source": [
        "fig,ax=plt.subplots(figsize=(15,5))\n",
        "sns.boxplot(data=df1_final,x='dayofweek',y='Close')\n",
        "ax.set_title('Prices by day of the week')"
      ],
      "metadata": {
        "colab": {
          "base_uri": "https://localhost:8080/",
          "height": 380
        },
        "id": "zwda_ZOfAwAz",
        "outputId": "89f1a44e-c50c-415e-caab-e2edba796399"
      },
      "execution_count": null,
      "outputs": [
        {
          "output_type": "execute_result",
          "data": {
            "text/plain": [
              "Text(0.5, 1.0, 'Prices by day of the week')"
            ]
          },
          "metadata": {},
          "execution_count": 12
        },
        {
          "output_type": "display_data",
          "data": {
            "text/plain": [
              "<Figure size 1500x500 with 1 Axes>"
            ],
            "image/png": "[encoded data removed]"
          },
          "metadata": {}
        }
      ]
    },
    {
      "cell_type": "code",
      "source": [
        "fig,ax=plt.subplots(figsize=(15,5))\n",
        "sns.boxplot(data=df1_final,x='quarter',y='Close')\n",
        "ax.set_title('Prices by quarter of the year')"
      ],
      "metadata": {
        "colab": {
          "base_uri": "https://localhost:8080/",
          "height": 380
        },
        "id": "0aFy91SiAy3N",
        "outputId": "816ec1ad-afc7-4ad3-df30-037acd59225a"
      },
      "execution_count": null,
      "outputs": [
        {
          "output_type": "execute_result",
          "data": {
            "text/plain": [
              "Text(0.5, 1.0, 'Prices by quarter of the year')"
            ]
          },
          "metadata": {},
          "execution_count": 13
        },
        {
          "output_type": "display_data",
          "data": {
            "text/plain": [
              "<Figure size 1500x500 with 1 Axes>"
            ],
            "image/png": "[encoded data removed]"
          },
          "metadata": {}
        }
      ]
    },
    {
      "cell_type": "code",
      "source": [
        "fig,ax=plt.subplots(figsize=(15,5))\n",
        "sns.boxplot(data=df1_final,x='year',y='Close')\n",
        "ax.set_title('Prices by year')"
      ],
      "metadata": {
        "colab": {
          "base_uri": "https://localhost:8080/",
          "height": 380
        },
        "id": "tf4nhZTRA1jJ",
        "outputId": "cf9e64f6-3227-4335-a32c-8d3e8bd8ea13"
      },
      "execution_count": null,
      "outputs": [
        {
          "output_type": "execute_result",
          "data": {
            "text/plain": [
              "Text(0.5, 1.0, 'Prices by year')"
            ]
          },
          "metadata": {},
          "execution_count": 14
        },
        {
          "output_type": "display_data",
          "data": {
            "text/plain": [
              "<Figure size 1500x500 with 1 Axes>"
            ],
            "image/png": "[encoded data removed]"
          },
          "metadata": {}
        }
      ]
    },
    {
      "cell_type": "code",
      "source": [
        "train=create_features(train)\n",
        "test=create_features(test)"
      ],
      "metadata": {
        "colab": {
          "base_uri": "https://localhost:8080/"
        },
        "id": "maxLLfiYA4db",
        "outputId": "b87f6ec7-895e-4f07-fa0b-290395c44be9"
      },
      "execution_count": null,
      "outputs": [
        {
          "output_type": "stream",
          "name": "stderr",
          "text": [
            "<ipython-input-9-9d93f1c362eb>:3: SettingWithCopyWarning: \n",
            "A value is trying to be set on a copy of a slice from a DataFrame.\n",
            "Try using .loc[row_indexer,col_indexer] = value instead\n",
            "\n",
            "See the caveats in the documentation: https://pandas.pydata.org/pandas-docs/stable/user_guide/indexing.html#returning-a-view-versus-a-copy\n",
            "  df1_final['day']=df1_final.index.day\n",
            "<ipython-input-9-9d93f1c362eb>:4: SettingWithCopyWarning: \n",
            "A value is trying to be set on a copy of a slice from a DataFrame.\n",
            "Try using .loc[row_indexer,col_indexer] = value instead\n",
            "\n",
            "See the caveats in the documentation: https://pandas.pydata.org/pandas-docs/stable/user_guide/indexing.html#returning-a-view-versus-a-copy\n",
            "  df1_final['dayofweek']= df1_final.index.dayofweek\n",
            "<ipython-input-9-9d93f1c362eb>:5: SettingWithCopyWarning: \n",
            "A value is trying to be set on a copy of a slice from a DataFrame.\n",
            "Try using .loc[row_indexer,col_indexer] = value instead\n",
            "\n",
            "See the caveats in the documentation: https://pandas.pydata.org/pandas-docs/stable/user_guide/indexing.html#returning-a-view-versus-a-copy\n",
            "  df1_final['quarter']=df1_final.index.quarter\n",
            "<ipython-input-9-9d93f1c362eb>:6: SettingWithCopyWarning: \n",
            "A value is trying to be set on a copy of a slice from a DataFrame.\n",
            "Try using .loc[row_indexer,col_indexer] = value instead\n",
            "\n",
            "See the caveats in the documentation: https://pandas.pydata.org/pandas-docs/stable/user_guide/indexing.html#returning-a-view-versus-a-copy\n",
            "  df1_final['month']=df1_final.index.month\n",
            "<ipython-input-9-9d93f1c362eb>:7: SettingWithCopyWarning: \n",
            "A value is trying to be set on a copy of a slice from a DataFrame.\n",
            "Try using .loc[row_indexer,col_indexer] = value instead\n",
            "\n",
            "See the caveats in the documentation: https://pandas.pydata.org/pandas-docs/stable/user_guide/indexing.html#returning-a-view-versus-a-copy\n",
            "  df1_final['year']=df1_final.index.year\n",
            "<ipython-input-9-9d93f1c362eb>:3: SettingWithCopyWarning: \n",
            "A value is trying to be set on a copy of a slice from a DataFrame.\n",
            "Try using .loc[row_indexer,col_indexer] = value instead\n",
            "\n",
            "See the caveats in the documentation: https://pandas.pydata.org/pandas-docs/stable/user_guide/indexing.html#returning-a-view-versus-a-copy\n",
            "  df1_final['day']=df1_final.index.day\n",
            "<ipython-input-9-9d93f1c362eb>:4: SettingWithCopyWarning: \n",
            "A value is trying to be set on a copy of a slice from a DataFrame.\n",
            "Try using .loc[row_indexer,col_indexer] = value instead\n",
            "\n",
            "See the caveats in the documentation: https://pandas.pydata.org/pandas-docs/stable/user_guide/indexing.html#returning-a-view-versus-a-copy\n",
            "  df1_final['dayofweek']= df1_final.index.dayofweek\n",
            "<ipython-input-9-9d93f1c362eb>:5: SettingWithCopyWarning: \n",
            "A value is trying to be set on a copy of a slice from a DataFrame.\n",
            "Try using .loc[row_indexer,col_indexer] = value instead\n",
            "\n",
            "See the caveats in the documentation: https://pandas.pydata.org/pandas-docs/stable/user_guide/indexing.html#returning-a-view-versus-a-copy\n",
            "  df1_final['quarter']=df1_final.index.quarter\n",
            "<ipython-input-9-9d93f1c362eb>:6: SettingWithCopyWarning: \n",
            "A value is trying to be set on a copy of a slice from a DataFrame.\n",
            "Try using .loc[row_indexer,col_indexer] = value instead\n",
            "\n",
            "See the caveats in the documentation: https://pandas.pydata.org/pandas-docs/stable/user_guide/indexing.html#returning-a-view-versus-a-copy\n",
            "  df1_final['month']=df1_final.index.month\n",
            "<ipython-input-9-9d93f1c362eb>:7: SettingWithCopyWarning: \n",
            "A value is trying to be set on a copy of a slice from a DataFrame.\n",
            "Try using .loc[row_indexer,col_indexer] = value instead\n",
            "\n",
            "See the caveats in the documentation: https://pandas.pydata.org/pandas-docs/stable/user_guide/indexing.html#returning-a-view-versus-a-copy\n",
            "  df1_final['year']=df1_final.index.year\n"
          ]
        }
      ]
    },
    {
      "cell_type": "code",
      "source": [
        "FEATURES=['day','dayofweek', 'quarter', 'month','year']\n",
        "TARGET=['Close']"
      ],
      "metadata": {
        "id": "86UWaiueA8LL"
      },
      "execution_count": null,
      "outputs": []
    },
    {
      "cell_type": "code",
      "source": [
        "df1_final['Close'] = pd.to_numeric(df1_final['Close'], errors='coerce')"
      ],
      "metadata": {
        "id": "kL7Kc7u1A_5W"
      },
      "execution_count": null,
      "outputs": []
    },
    {
      "cell_type": "code",
      "source": [
        "df1_final['Close_lag14'] = df1_final['Close'].shift(14)\n",
        "df1_final['Close_lag28'] = df1_final['Close'].shift(28)"
      ],
      "metadata": {
        "id": "Zt9jAXGjM4P5"
      },
      "execution_count": null,
      "outputs": []
    },
    {
      "cell_type": "code",
      "source": [
        "df1_final['Close_rolling7'] = df1_final['Close'].rolling(window=7).mean()\n",
        "df1_final['Close_rolling30'] = df1_final['Close'].rolling(window=30).mean()"
      ],
      "metadata": {
        "id": "k8sqbSncM-fj"
      },
      "execution_count": null,
      "outputs": []
    },
    {
      "cell_type": "code",
      "source": [
        "df1_final['dayofweek_month'] = df1_final['dayofweek']  * df1_final['quarter']"
      ],
      "metadata": {
        "id": "8Hac7vbjNCdp"
      },
      "execution_count": null,
      "outputs": []
    },
    {
      "cell_type": "code",
      "source": [
        "df1_final['weekofyear'] = df1_final.index.isocalendar().week\n",
        "df1_final['dayofyear'] = df1_final.index.dayofyear"
      ],
      "metadata": {
        "id": "2aZCtDAsP-2f"
      },
      "execution_count": null,
      "outputs": []
    },
    {
      "cell_type": "code",
      "source": [
        "print(FEATURES)\n",
        "print(TARGET)"
      ],
      "metadata": {
        "colab": {
          "base_uri": "https://localhost:8080/"
        },
        "id": "zMu2nAREBDcB",
        "outputId": "0661a6de-2265-4197-aa14-b1b2665ad8d8"
      },
      "execution_count": null,
      "outputs": [
        {
          "output_type": "stream",
          "name": "stdout",
          "text": [
            "['day', 'dayofweek', 'quarter', 'month', 'year']\n",
            "['Close']\n"
          ]
        }
      ]
    },
    {
      "cell_type": "code",
      "source": [
        "X = df1_final[['day', 'dayofweek', 'quarter', 'month', 'year']]\n",
        "y = df1_final['Close']"
      ],
      "metadata": {
        "id": "1ivPYq42BGUb"
      },
      "execution_count": null,
      "outputs": []
    },
    {
      "cell_type": "code",
      "source": [
        "X_train=train[FEATURES]\n",
        "y_train=train[TARGET]\n",
        "\n",
        "X_test=test[FEATURES]\n",
        "y_test=test[TARGET]\n",
        "#y_test = y_test.values.ravel()"
      ],
      "metadata": {
        "id": "fBI8mwpPBJQl"
      },
      "execution_count": null,
      "outputs": []
    },
    {
      "cell_type": "code",
      "source": [
        "from sklearn.model_selection import GridSearchCV\n",
        "\n",
        "param_grid = {\n",
        "       'n_estimators': [1000, 1500, 2000],\n",
        "       'learning_rate': [0.01, 0.001],\n",
        "       'max_depth': [3, 5, 7]\n",
        "   }\n",
        "\n",
        "# Instead of using fit_params, directly pass eval_set and verbose to the .fit method\n",
        "grid_search = GridSearchCV(reg, param_grid, cv=5, scoring='neg_mean_squared_error', refit=True)\n",
        "\n",
        "grid_search.fit(X_train, y_train,\n",
        "                eval_set=[(X_train, y_train), (X_test, y_test)],\n",
        "                verbose=100)\n",
        "\n",
        "best_reg = grid_search.best_estimator"
      ],
      "metadata": {
        "colab": {
          "base_uri": "https://localhost:8080/",
          "height": 1000
        },
        "id": "ir0J2UJgQG-G",
        "outputId": "796221e6-c0f7-428f-aa99-25e9f6d39c64"
      },
      "execution_count": null,
      "outputs": [
        {
          "output_type": "stream",
          "name": "stdout",
          "text": [
            "[0]\tvalidation_0-rmse:74.44307\tvalidation_1-rmse:61.46090\n",
            "[100]\tvalidation_0-rmse:29.00292\tvalidation_1-rmse:17.62244\n"
          ]
        },
        {
          "output_type": "stream",
          "name": "stderr",
          "text": [
            "/usr/local/lib/python3.11/dist-packages/xgboost/core.py:158: UserWarning: [00:58:52] WARNING: /workspace/src/objective/regression_obj.cu:227: reg:linear is now deprecated in favor of reg:squarederror.\n",
            "  warnings.warn(smsg, UserWarning)\n"
          ]
        },
        {
          "output_type": "stream",
          "name": "stdout",
          "text": [
            "[138]\tvalidation_0-rmse:21.11328\tvalidation_1-rmse:23.45186\n",
            "[0]\tvalidation_0-rmse:74.46515\tvalidation_1-rmse:61.46090\n",
            "[100]\tvalidation_0-rmse:30.91238\tvalidation_1-rmse:17.62244\n"
          ]
        },
        {
          "output_type": "stream",
          "name": "stderr",
          "text": [
            "/usr/local/lib/python3.11/dist-packages/xgboost/core.py:158: UserWarning: [00:58:52] WARNING: /workspace/src/objective/regression_obj.cu:227: reg:linear is now deprecated in favor of reg:squarederror.\n",
            "  warnings.warn(smsg, UserWarning)\n"
          ]
        },
        {
          "output_type": "stream",
          "name": "stdout",
          "text": [
            "[139]\tvalidation_0-rmse:23.30616\tvalidation_1-rmse:23.60906\n",
            "[0]\tvalidation_0-rmse:74.48544\tvalidation_1-rmse:61.46090\n",
            "[100]\tvalidation_0-rmse:31.94608\tvalidation_1-rmse:17.62244\n",
            "[138]\tvalidation_0-rmse:24.69420\tvalidation_1-rmse:23.47959\n"
          ]
        },
        {
          "output_type": "stream",
          "name": "stderr",
          "text": [
            "/usr/local/lib/python3.11/dist-packages/xgboost/core.py:158: UserWarning: [00:58:52] WARNING: /workspace/src/objective/regression_obj.cu:227: reg:linear is now deprecated in favor of reg:squarederror.\n",
            "  warnings.warn(smsg, UserWarning)\n"
          ]
        },
        {
          "output_type": "stream",
          "name": "stdout",
          "text": [
            "[0]\tvalidation_0-rmse:74.40980\tvalidation_1-rmse:61.41437\n",
            "[100]\tvalidation_0-rmse:30.74997\tvalidation_1-rmse:18.05470\n",
            "[137]\tvalidation_0-rmse:23.64622\tvalidation_1-rmse:24.05159\n",
            "[0]\tvalidation_0-rmse:74.43488\tvalidation_1-rmse:61.35106\n"
          ]
        },
        {
          "output_type": "stream",
          "name": "stderr",
          "text": [
            "/usr/local/lib/python3.11/dist-packages/xgboost/core.py:158: UserWarning: [00:58:52] WARNING: /workspace/src/objective/regression_obj.cu:227: reg:linear is now deprecated in favor of reg:squarederror.\n",
            "  warnings.warn(smsg, UserWarning)\n",
            "/usr/local/lib/python3.11/dist-packages/xgboost/core.py:158: UserWarning: [00:58:53] WARNING: /workspace/src/objective/regression_obj.cu:227: reg:linear is now deprecated in favor of reg:squarederror.\n",
            "  warnings.warn(smsg, UserWarning)\n"
          ]
        },
        {
          "output_type": "stream",
          "name": "stdout",
          "text": [
            "[100]\tvalidation_0-rmse:28.88079\tvalidation_1-rmse:19.91436\n",
            "[127]\tvalidation_0-rmse:22.94199\tvalidation_1-rmse:25.40852\n",
            "[0]\tvalidation_0-rmse:74.44307\tvalidation_1-rmse:61.46090\n",
            "[100]\tvalidation_0-rmse:29.00292\tvalidation_1-rmse:17.62244\n",
            "[138]\tvalidation_0-rmse:21.11328\tvalidation_1-rmse:23.45186\n",
            "[0]\tvalidation_0-rmse:74.46515\tvalidation_1-rmse:61.46090\n"
          ]
        },
        {
          "output_type": "stream",
          "name": "stderr",
          "text": [
            "/usr/local/lib/python3.11/dist-packages/xgboost/core.py:158: UserWarning: [00:58:53] WARNING: /workspace/src/objective/regression_obj.cu:227: reg:linear is now deprecated in favor of reg:squarederror.\n",
            "  warnings.warn(smsg, UserWarning)\n",
            "/usr/local/lib/python3.11/dist-packages/xgboost/core.py:158: UserWarning: [00:58:53] WARNING: /workspace/src/objective/regression_obj.cu:227: reg:linear is now deprecated in favor of reg:squarederror.\n",
            "  warnings.warn(smsg, UserWarning)\n"
          ]
        },
        {
          "output_type": "stream",
          "name": "stdout",
          "text": [
            "[100]\tvalidation_0-rmse:30.91238\tvalidation_1-rmse:17.62244\n",
            "[139]\tvalidation_0-rmse:23.30616\tvalidation_1-rmse:23.60906\n",
            "[0]\tvalidation_0-rmse:74.48544\tvalidation_1-rmse:61.46090\n",
            "[100]\tvalidation_0-rmse:31.94608\tvalidation_1-rmse:17.62244\n",
            "[138]\tvalidation_0-rmse:24.69420\tvalidation_1-rmse:23.47959\n"
          ]
        },
        {
          "output_type": "stream",
          "name": "stderr",
          "text": [
            "/usr/local/lib/python3.11/dist-packages/xgboost/core.py:158: UserWarning: [00:58:53] WARNING: /workspace/src/objective/regression_obj.cu:227: reg:linear is now deprecated in favor of reg:squarederror.\n",
            "  warnings.warn(smsg, UserWarning)\n"
          ]
        },
        {
          "output_type": "stream",
          "name": "stdout",
          "text": [
            "[0]\tvalidation_0-rmse:74.40980\tvalidation_1-rmse:61.41437\n",
            "[100]\tvalidation_0-rmse:30.74997\tvalidation_1-rmse:18.05470\n"
          ]
        },
        {
          "output_type": "stream",
          "name": "stderr",
          "text": [
            "/usr/local/lib/python3.11/dist-packages/xgboost/core.py:158: UserWarning: [00:58:53] WARNING: /workspace/src/objective/regression_obj.cu:227: reg:linear is now deprecated in favor of reg:squarederror.\n",
            "  warnings.warn(smsg, UserWarning)\n"
          ]
        },
        {
          "output_type": "stream",
          "name": "stdout",
          "text": [
            "[138]\tvalidation_0-rmse:23.48223\tvalidation_1-rmse:24.23521\n",
            "[0]\tvalidation_0-rmse:74.43488\tvalidation_1-rmse:61.35106\n"
          ]
        },
        {
          "output_type": "stream",
          "name": "stderr",
          "text": [
            "/usr/local/lib/python3.11/dist-packages/xgboost/core.py:158: UserWarning: [00:58:54] WARNING: /workspace/src/objective/regression_obj.cu:227: reg:linear is now deprecated in favor of reg:squarederror.\n",
            "  warnings.warn(smsg, UserWarning)\n"
          ]
        },
        {
          "output_type": "stream",
          "name": "stdout",
          "text": [
            "[100]\tvalidation_0-rmse:28.88079\tvalidation_1-rmse:19.91436\n",
            "[126]\tvalidation_0-rmse:23.14394\tvalidation_1-rmse:25.19890\n",
            "[0]\tvalidation_0-rmse:74.44307\tvalidation_1-rmse:61.46090\n"
          ]
        },
        {
          "output_type": "stream",
          "name": "stderr",
          "text": [
            "/usr/local/lib/python3.11/dist-packages/xgboost/core.py:158: UserWarning: [00:58:54] WARNING: /workspace/src/objective/regression_obj.cu:227: reg:linear is now deprecated in favor of reg:squarederror.\n",
            "  warnings.warn(smsg, UserWarning)\n"
          ]
        },
        {
          "output_type": "stream",
          "name": "stdout",
          "text": [
            "[100]\tvalidation_0-rmse:29.00292\tvalidation_1-rmse:17.62244\n",
            "[138]\tvalidation_0-rmse:21.11328\tvalidation_1-rmse:23.45186\n",
            "[0]\tvalidation_0-rmse:74.46515\tvalidation_1-rmse:61.46090\n"
          ]
        },
        {
          "output_type": "stream",
          "name": "stderr",
          "text": [
            "/usr/local/lib/python3.11/dist-packages/xgboost/core.py:158: UserWarning: [00:58:55] WARNING: /workspace/src/objective/regression_obj.cu:227: reg:linear is now deprecated in favor of reg:squarederror.\n",
            "  warnings.warn(smsg, UserWarning)\n"
          ]
        },
        {
          "output_type": "stream",
          "name": "stdout",
          "text": [
            "[100]\tvalidation_0-rmse:30.91238\tvalidation_1-rmse:17.62244\n",
            "[138]\tvalidation_0-rmse:23.46034\tvalidation_1-rmse:23.45177\n",
            "[0]\tvalidation_0-rmse:74.48544\tvalidation_1-rmse:61.46090\n"
          ]
        },
        {
          "output_type": "stream",
          "name": "stderr",
          "text": [
            "/usr/local/lib/python3.11/dist-packages/xgboost/core.py:158: UserWarning: [00:58:55] WARNING: /workspace/src/objective/regression_obj.cu:227: reg:linear is now deprecated in favor of reg:squarederror.\n",
            "  warnings.warn(smsg, UserWarning)\n"
          ]
        },
        {
          "output_type": "stream",
          "name": "stdout",
          "text": [
            "[100]\tvalidation_0-rmse:31.94608\tvalidation_1-rmse:17.62244\n",
            "[139]\tvalidation_0-rmse:24.54073\tvalidation_1-rmse:23.63681\n",
            "[0]\tvalidation_0-rmse:74.40980\tvalidation_1-rmse:61.41437\n",
            "[100]\tvalidation_0-rmse:30.74997\tvalidation_1-rmse:18.05470\n"
          ]
        },
        {
          "output_type": "stream",
          "name": "stderr",
          "text": [
            "/usr/local/lib/python3.11/dist-packages/xgboost/core.py:158: UserWarning: [00:58:56] WARNING: /workspace/src/objective/regression_obj.cu:227: reg:linear is now deprecated in favor of reg:squarederror.\n",
            "  warnings.warn(smsg, UserWarning)\n"
          ]
        },
        {
          "output_type": "stream",
          "name": "stdout",
          "text": [
            "[138]\tvalidation_0-rmse:23.48223\tvalidation_1-rmse:24.23521\n",
            "[0]\tvalidation_0-rmse:74.43488\tvalidation_1-rmse:61.35106\n",
            "[100]\tvalidation_0-rmse:28.88079\tvalidation_1-rmse:19.91436\n",
            "[126]\tvalidation_0-rmse:23.14394\tvalidation_1-rmse:25.19890\n",
            "[0]\tvalidation_0-rmse:74.43114\tvalidation_1-rmse:61.45936\n"
          ]
        },
        {
          "output_type": "stream",
          "name": "stderr",
          "text": [
            "/usr/local/lib/python3.11/dist-packages/xgboost/core.py:158: UserWarning: [00:58:56] WARNING: /workspace/src/objective/regression_obj.cu:227: reg:linear is now deprecated in favor of reg:squarederror.\n",
            "  warnings.warn(smsg, UserWarning)\n",
            "/usr/local/lib/python3.11/dist-packages/xgboost/core.py:158: UserWarning: [00:58:56] WARNING: /workspace/src/objective/regression_obj.cu:227: reg:linear is now deprecated in favor of reg:squarederror.\n",
            "  warnings.warn(smsg, UserWarning)\n"
          ]
        },
        {
          "output_type": "stream",
          "name": "stdout",
          "text": [
            "[100]\tvalidation_0-rmse:27.77503\tvalidation_1-rmse:18.89153\n",
            "[139]\tvalidation_0-rmse:19.08354\tvalidation_1-rmse:24.20857\n",
            "[0]\tvalidation_0-rmse:74.45301\tvalidation_1-rmse:61.45936\n",
            "[100]\tvalidation_0-rmse:29.80958\tvalidation_1-rmse:18.89153\n",
            "[140]\tvalidation_0-rmse:21.59355\tvalidation_1-rmse:24.37057\n"
          ]
        },
        {
          "output_type": "stream",
          "name": "stderr",
          "text": [
            "/usr/local/lib/python3.11/dist-packages/xgboost/core.py:158: UserWarning: [00:58:57] WARNING: /workspace/src/objective/regression_obj.cu:227: reg:linear is now deprecated in favor of reg:squarederror.\n",
            "  warnings.warn(smsg, UserWarning)\n"
          ]
        },
        {
          "output_type": "stream",
          "name": "stdout",
          "text": [
            "[0]\tvalidation_0-rmse:74.47612\tvalidation_1-rmse:61.45936\n",
            "[100]\tvalidation_0-rmse:31.42056\tvalidation_1-rmse:18.89153\n"
          ]
        },
        {
          "output_type": "stream",
          "name": "stderr",
          "text": [
            "/usr/local/lib/python3.11/dist-packages/xgboost/core.py:158: UserWarning: [00:58:57] WARNING: /workspace/src/objective/regression_obj.cu:227: reg:linear is now deprecated in favor of reg:squarederror.\n",
            "  warnings.warn(smsg, UserWarning)\n"
          ]
        },
        {
          "output_type": "stream",
          "name": "stdout",
          "text": [
            "[139]\tvalidation_0-rmse:23.84117\tvalidation_1-rmse:24.20857\n",
            "[0]\tvalidation_0-rmse:74.39373\tvalidation_1-rmse:61.43074\n",
            "[100]\tvalidation_0-rmse:27.25157\tvalidation_1-rmse:19.33188\n",
            "[135]\tvalidation_0-rmse:20.32636\tvalidation_1-rmse:24.61842\n"
          ]
        },
        {
          "output_type": "stream",
          "name": "stderr",
          "text": [
            "/usr/local/lib/python3.11/dist-packages/xgboost/core.py:158: UserWarning: [00:58:57] WARNING: /workspace/src/objective/regression_obj.cu:227: reg:linear is now deprecated in favor of reg:squarederror.\n",
            "  warnings.warn(smsg, UserWarning)\n"
          ]
        },
        {
          "output_type": "stream",
          "name": "stdout",
          "text": [
            "[0]\tvalidation_0-rmse:74.42398\tvalidation_1-rmse:61.35106\n",
            "[100]\tvalidation_0-rmse:27.90223\tvalidation_1-rmse:19.92264\n",
            "[127]\tvalidation_0-rmse:21.73118\tvalidation_1-rmse:26.16814\n",
            "[0]\tvalidation_0-rmse:74.43114\tvalidation_1-rmse:61.45936\n"
          ]
        },
        {
          "output_type": "stream",
          "name": "stderr",
          "text": [
            "/usr/local/lib/python3.11/dist-packages/xgboost/core.py:158: UserWarning: [00:58:57] WARNING: /workspace/src/objective/regression_obj.cu:227: reg:linear is now deprecated in favor of reg:squarederror.\n",
            "  warnings.warn(smsg, UserWarning)\n",
            "/usr/local/lib/python3.11/dist-packages/xgboost/core.py:158: UserWarning: [00:58:57] WARNING: /workspace/src/objective/regression_obj.cu:227: reg:linear is now deprecated in favor of reg:squarederror.\n",
            "  warnings.warn(smsg, UserWarning)\n"
          ]
        },
        {
          "output_type": "stream",
          "name": "stdout",
          "text": [
            "[100]\tvalidation_0-rmse:27.77503\tvalidation_1-rmse:18.89153\n",
            "[139]\tvalidation_0-rmse:19.08354\tvalidation_1-rmse:24.20857\n",
            "[0]\tvalidation_0-rmse:74.45301\tvalidation_1-rmse:61.45936\n",
            "[100]\tvalidation_0-rmse:29.80958\tvalidation_1-rmse:18.89153\n"
          ]
        },
        {
          "output_type": "stream",
          "name": "stderr",
          "text": [
            "/usr/local/lib/python3.11/dist-packages/xgboost/core.py:158: UserWarning: [00:58:58] WARNING: /workspace/src/objective/regression_obj.cu:227: reg:linear is now deprecated in favor of reg:squarederror.\n",
            "  warnings.warn(smsg, UserWarning)\n"
          ]
        },
        {
          "output_type": "stream",
          "name": "stdout",
          "text": [
            "[140]\tvalidation_0-rmse:21.59355\tvalidation_1-rmse:24.37057\n",
            "[0]\tvalidation_0-rmse:74.47612\tvalidation_1-rmse:61.45936\n",
            "[100]\tvalidation_0-rmse:31.42056\tvalidation_1-rmse:18.89153\n"
          ]
        },
        {
          "output_type": "stream",
          "name": "stderr",
          "text": [
            "/usr/local/lib/python3.11/dist-packages/xgboost/core.py:158: UserWarning: [00:58:58] WARNING: /workspace/src/objective/regression_obj.cu:227: reg:linear is now deprecated in favor of reg:squarederror.\n",
            "  warnings.warn(smsg, UserWarning)\n"
          ]
        },
        {
          "output_type": "stream",
          "name": "stdout",
          "text": [
            "[140]\tvalidation_0-rmse:23.68586\tvalidation_1-rmse:24.37057\n",
            "[0]\tvalidation_0-rmse:74.39373\tvalidation_1-rmse:61.43074\n",
            "[100]\tvalidation_0-rmse:27.25157\tvalidation_1-rmse:19.33188\n",
            "[136]\tvalidation_0-rmse:20.16389\tvalidation_1-rmse:24.78666\n"
          ]
        },
        {
          "output_type": "stream",
          "name": "stderr",
          "text": [
            "/usr/local/lib/python3.11/dist-packages/xgboost/core.py:158: UserWarning: [00:58:58] WARNING: /workspace/src/objective/regression_obj.cu:227: reg:linear is now deprecated in favor of reg:squarederror.\n",
            "  warnings.warn(smsg, UserWarning)\n"
          ]
        },
        {
          "output_type": "stream",
          "name": "stdout",
          "text": [
            "[0]\tvalidation_0-rmse:74.42398\tvalidation_1-rmse:61.35106\n",
            "[100]\tvalidation_0-rmse:27.90223\tvalidation_1-rmse:19.92264\n",
            "[126]\tvalidation_0-rmse:21.92704\tvalidation_1-rmse:25.93430\n"
          ]
        },
        {
          "output_type": "stream",
          "name": "stderr",
          "text": [
            "/usr/local/lib/python3.11/dist-packages/xgboost/core.py:158: UserWarning: [00:58:58] WARNING: /workspace/src/objective/regression_obj.cu:227: reg:linear is now deprecated in favor of reg:squarederror.\n",
            "  warnings.warn(smsg, UserWarning)\n"
          ]
        },
        {
          "output_type": "stream",
          "name": "stdout",
          "text": [
            "[0]\tvalidation_0-rmse:74.43114\tvalidation_1-rmse:61.45936\n",
            "[100]\tvalidation_0-rmse:27.77503\tvalidation_1-rmse:18.89153\n",
            "[140]\tvalidation_0-rmse:18.90566\tvalidation_1-rmse:24.37057\n"
          ]
        },
        {
          "output_type": "stream",
          "name": "stderr",
          "text": [
            "/usr/local/lib/python3.11/dist-packages/xgboost/core.py:158: UserWarning: [00:58:59] WARNING: /workspace/src/objective/regression_obj.cu:227: reg:linear is now deprecated in favor of reg:squarederror.\n",
            "  warnings.warn(smsg, UserWarning)\n"
          ]
        },
        {
          "output_type": "stream",
          "name": "stdout",
          "text": [
            "[0]\tvalidation_0-rmse:74.45301\tvalidation_1-rmse:61.45936\n",
            "[100]\tvalidation_0-rmse:29.80958\tvalidation_1-rmse:18.89153\n"
          ]
        },
        {
          "output_type": "stream",
          "name": "stderr",
          "text": [
            "/usr/local/lib/python3.11/dist-packages/xgboost/core.py:158: UserWarning: [00:58:59] WARNING: /workspace/src/objective/regression_obj.cu:227: reg:linear is now deprecated in favor of reg:squarederror.\n",
            "  warnings.warn(smsg, UserWarning)\n"
          ]
        },
        {
          "output_type": "stream",
          "name": "stdout",
          "text": [
            "[140]\tvalidation_0-rmse:21.59355\tvalidation_1-rmse:24.37057\n",
            "[0]\tvalidation_0-rmse:74.47612\tvalidation_1-rmse:61.45936\n",
            "[100]\tvalidation_0-rmse:31.42056\tvalidation_1-rmse:18.89153\n",
            "[139]\tvalidation_0-rmse:23.84117\tvalidation_1-rmse:24.20857\n"
          ]
        },
        {
          "output_type": "stream",
          "name": "stderr",
          "text": [
            "/usr/local/lib/python3.11/dist-packages/xgboost/core.py:158: UserWarning: [00:58:59] WARNING: /workspace/src/objective/regression_obj.cu:227: reg:linear is now deprecated in favor of reg:squarederror.\n",
            "  warnings.warn(smsg, UserWarning)\n"
          ]
        },
        {
          "output_type": "stream",
          "name": "stdout",
          "text": [
            "[0]\tvalidation_0-rmse:74.39373\tvalidation_1-rmse:61.43074\n",
            "[100]\tvalidation_0-rmse:27.25157\tvalidation_1-rmse:19.33188\n",
            "[135]\tvalidation_0-rmse:20.32636\tvalidation_1-rmse:24.61842\n"
          ]
        },
        {
          "output_type": "stream",
          "name": "stderr",
          "text": [
            "/usr/local/lib/python3.11/dist-packages/xgboost/core.py:158: UserWarning: [00:58:59] WARNING: /workspace/src/objective/regression_obj.cu:227: reg:linear is now deprecated in favor of reg:squarederror.\n",
            "  warnings.warn(smsg, UserWarning)\n"
          ]
        },
        {
          "output_type": "stream",
          "name": "stdout",
          "text": [
            "[0]\tvalidation_0-rmse:74.42398\tvalidation_1-rmse:61.35106\n",
            "[100]\tvalidation_0-rmse:27.90223\tvalidation_1-rmse:19.92264\n",
            "[126]\tvalidation_0-rmse:21.92704\tvalidation_1-rmse:25.93430\n"
          ]
        },
        {
          "output_type": "stream",
          "name": "stderr",
          "text": [
            "/usr/local/lib/python3.11/dist-packages/xgboost/core.py:158: UserWarning: [00:59:00] WARNING: /workspace/src/objective/regression_obj.cu:227: reg:linear is now deprecated in favor of reg:squarederror.\n",
            "  warnings.warn(smsg, UserWarning)\n"
          ]
        },
        {
          "output_type": "stream",
          "name": "stdout",
          "text": [
            "[0]\tvalidation_0-rmse:74.43043\tvalidation_1-rmse:61.45936\n",
            "[100]\tvalidation_0-rmse:27.65284\tvalidation_1-rmse:18.91452\n"
          ]
        },
        {
          "output_type": "stream",
          "name": "stderr",
          "text": [
            "/usr/local/lib/python3.11/dist-packages/xgboost/core.py:158: UserWarning: [00:59:00] WARNING: /workspace/src/objective/regression_obj.cu:227: reg:linear is now deprecated in favor of reg:squarederror.\n",
            "  warnings.warn(smsg, UserWarning)\n"
          ]
        },
        {
          "output_type": "stream",
          "name": "stdout",
          "text": [
            "[139]\tvalidation_0-rmse:18.92048\tvalidation_1-rmse:24.30883\n",
            "[0]\tvalidation_0-rmse:74.45119\tvalidation_1-rmse:61.45936\n",
            "[100]\tvalidation_0-rmse:29.34305\tvalidation_1-rmse:18.91452\n"
          ]
        },
        {
          "output_type": "stream",
          "name": "stderr",
          "text": [
            "/usr/local/lib/python3.11/dist-packages/xgboost/core.py:158: UserWarning: [00:59:00] WARNING: /workspace/src/objective/regression_obj.cu:227: reg:linear is now deprecated in favor of reg:squarederror.\n",
            "  warnings.warn(smsg, UserWarning)\n"
          ]
        },
        {
          "output_type": "stream",
          "name": "stdout",
          "text": [
            "[139]\tvalidation_0-rmse:21.20058\tvalidation_1-rmse:24.30883\n",
            "[0]\tvalidation_0-rmse:74.47611\tvalidation_1-rmse:61.45936\n",
            "[100]\tvalidation_0-rmse:31.33847\tvalidation_1-rmse:18.91452\n",
            "[140]\tvalidation_0-rmse:23.62377\tvalidation_1-rmse:24.47365\n"
          ]
        },
        {
          "output_type": "stream",
          "name": "stderr",
          "text": [
            "/usr/local/lib/python3.11/dist-packages/xgboost/core.py:158: UserWarning: [00:59:00] WARNING: /workspace/src/objective/regression_obj.cu:227: reg:linear is now deprecated in favor of reg:squarederror.\n",
            "  warnings.warn(smsg, UserWarning)\n"
          ]
        },
        {
          "output_type": "stream",
          "name": "stdout",
          "text": [
            "[0]\tvalidation_0-rmse:74.39713\tvalidation_1-rmse:61.43222\n",
            "[100]\tvalidation_0-rmse:27.07321\tvalidation_1-rmse:19.27776\n"
          ]
        },
        {
          "output_type": "stream",
          "name": "stderr",
          "text": [
            "/usr/local/lib/python3.11/dist-packages/xgboost/core.py:158: UserWarning: [00:59:01] WARNING: /workspace/src/objective/regression_obj.cu:227: reg:linear is now deprecated in favor of reg:squarederror.\n",
            "  warnings.warn(smsg, UserWarning)\n"
          ]
        },
        {
          "output_type": "stream",
          "name": "stdout",
          "text": [
            "[138]\tvalidation_0-rmse:19.82997\tvalidation_1-rmse:24.82531\n",
            "[0]\tvalidation_0-rmse:74.42214\tvalidation_1-rmse:61.35106\n",
            "[100]\tvalidation_0-rmse:27.28537\tvalidation_1-rmse:19.92264\n"
          ]
        },
        {
          "output_type": "stream",
          "name": "stderr",
          "text": [
            "/usr/local/lib/python3.11/dist-packages/xgboost/core.py:158: UserWarning: [00:59:01] WARNING: /workspace/src/objective/regression_obj.cu:227: reg:linear is now deprecated in favor of reg:squarederror.\n",
            "  warnings.warn(smsg, UserWarning)\n"
          ]
        },
        {
          "output_type": "stream",
          "name": "stdout",
          "text": [
            "[126]\tvalidation_0-rmse:21.13362\tvalidation_1-rmse:25.93430\n",
            "[0]\tvalidation_0-rmse:74.43043\tvalidation_1-rmse:61.45936\n",
            "[100]\tvalidation_0-rmse:27.65284\tvalidation_1-rmse:18.91452\n"
          ]
        },
        {
          "output_type": "stream",
          "name": "stderr",
          "text": [
            "/usr/local/lib/python3.11/dist-packages/xgboost/core.py:158: UserWarning: [00:59:01] WARNING: /workspace/src/objective/regression_obj.cu:227: reg:linear is now deprecated in favor of reg:squarederror.\n",
            "  warnings.warn(smsg, UserWarning)\n"
          ]
        },
        {
          "output_type": "stream",
          "name": "stdout",
          "text": [
            "[140]\tvalidation_0-rmse:18.73867\tvalidation_1-rmse:24.47365\n",
            "[0]\tvalidation_0-rmse:74.45119\tvalidation_1-rmse:61.45936\n",
            "[100]\tvalidation_0-rmse:29.34305\tvalidation_1-rmse:18.91452\n"
          ]
        },
        {
          "output_type": "stream",
          "name": "stderr",
          "text": [
            "/usr/local/lib/python3.11/dist-packages/xgboost/core.py:158: UserWarning: [00:59:01] WARNING: /workspace/src/objective/regression_obj.cu:227: reg:linear is now deprecated in favor of reg:squarederror.\n",
            "  warnings.warn(smsg, UserWarning)\n"
          ]
        },
        {
          "output_type": "stream",
          "name": "stdout",
          "text": [
            "[140]\tvalidation_0-rmse:21.03337\tvalidation_1-rmse:24.47365\n",
            "[0]\tvalidation_0-rmse:74.47611\tvalidation_1-rmse:61.45936\n",
            "[100]\tvalidation_0-rmse:31.33847\tvalidation_1-rmse:18.91452\n"
          ]
        },
        {
          "output_type": "stream",
          "name": "stderr",
          "text": [
            "/usr/local/lib/python3.11/dist-packages/xgboost/core.py:158: UserWarning: [00:59:02] WARNING: /workspace/src/objective/regression_obj.cu:227: reg:linear is now deprecated in favor of reg:squarederror.\n",
            "  warnings.warn(smsg, UserWarning)\n"
          ]
        },
        {
          "output_type": "stream",
          "name": "stdout",
          "text": [
            "[140]\tvalidation_0-rmse:23.62377\tvalidation_1-rmse:24.47365\n",
            "[0]\tvalidation_0-rmse:74.39713\tvalidation_1-rmse:61.43222\n",
            "[100]\tvalidation_0-rmse:27.07321\tvalidation_1-rmse:19.27776\n"
          ]
        },
        {
          "output_type": "stream",
          "name": "stderr",
          "text": [
            "/usr/local/lib/python3.11/dist-packages/xgboost/core.py:158: UserWarning: [00:59:02] WARNING: /workspace/src/objective/regression_obj.cu:227: reg:linear is now deprecated in favor of reg:squarederror.\n",
            "  warnings.warn(smsg, UserWarning)\n"
          ]
        },
        {
          "output_type": "stream",
          "name": "stdout",
          "text": [
            "[137]\tvalidation_0-rmse:19.97428\tvalidation_1-rmse:24.65941\n",
            "[0]\tvalidation_0-rmse:74.42214\tvalidation_1-rmse:61.35106\n",
            "[100]\tvalidation_0-rmse:27.28537\tvalidation_1-rmse:19.92264\n",
            "[127]\tvalidation_0-rmse:20.92990\tvalidation_1-rmse:26.16814\n"
          ]
        },
        {
          "output_type": "stream",
          "name": "stderr",
          "text": [
            "/usr/local/lib/python3.11/dist-packages/xgboost/core.py:158: UserWarning: [00:59:02] WARNING: /workspace/src/objective/regression_obj.cu:227: reg:linear is now deprecated in favor of reg:squarederror.\n",
            "  warnings.warn(smsg, UserWarning)\n"
          ]
        },
        {
          "output_type": "stream",
          "name": "stdout",
          "text": [
            "[0]\tvalidation_0-rmse:74.43043\tvalidation_1-rmse:61.45936\n",
            "[100]\tvalidation_0-rmse:27.65284\tvalidation_1-rmse:18.91452\n"
          ]
        },
        {
          "output_type": "stream",
          "name": "stderr",
          "text": [
            "/usr/local/lib/python3.11/dist-packages/xgboost/core.py:158: UserWarning: [00:59:02] WARNING: /workspace/src/objective/regression_obj.cu:227: reg:linear is now deprecated in favor of reg:squarederror.\n",
            "  warnings.warn(smsg, UserWarning)\n"
          ]
        },
        {
          "output_type": "stream",
          "name": "stdout",
          "text": [
            "[140]\tvalidation_0-rmse:18.73867\tvalidation_1-rmse:24.47365\n",
            "[0]\tvalidation_0-rmse:74.45119\tvalidation_1-rmse:61.45936\n",
            "[100]\tvalidation_0-rmse:29.34305\tvalidation_1-rmse:18.91452\n"
          ]
        },
        {
          "output_type": "stream",
          "name": "stderr",
          "text": [
            "/usr/local/lib/python3.11/dist-packages/xgboost/core.py:158: UserWarning: [00:59:03] WARNING: /workspace/src/objective/regression_obj.cu:227: reg:linear is now deprecated in favor of reg:squarederror.\n",
            "  warnings.warn(smsg, UserWarning)\n"
          ]
        },
        {
          "output_type": "stream",
          "name": "stdout",
          "text": [
            "[140]\tvalidation_0-rmse:21.03337\tvalidation_1-rmse:24.47365\n",
            "[0]\tvalidation_0-rmse:74.47611\tvalidation_1-rmse:61.45936\n",
            "[100]\tvalidation_0-rmse:31.33847\tvalidation_1-rmse:18.91452\n"
          ]
        },
        {
          "output_type": "stream",
          "name": "stderr",
          "text": [
            "/usr/local/lib/python3.11/dist-packages/xgboost/core.py:158: UserWarning: [00:59:03] WARNING: /workspace/src/objective/regression_obj.cu:227: reg:linear is now deprecated in favor of reg:squarederror.\n",
            "  warnings.warn(smsg, UserWarning)\n"
          ]
        },
        {
          "output_type": "stream",
          "name": "stdout",
          "text": [
            "[140]\tvalidation_0-rmse:23.62377\tvalidation_1-rmse:24.47365\n",
            "[0]\tvalidation_0-rmse:74.39713\tvalidation_1-rmse:61.43222\n",
            "[100]\tvalidation_0-rmse:27.07321\tvalidation_1-rmse:19.27776\n"
          ]
        },
        {
          "output_type": "stream",
          "name": "stderr",
          "text": [
            "/usr/local/lib/python3.11/dist-packages/xgboost/core.py:158: UserWarning: [00:59:03] WARNING: /workspace/src/objective/regression_obj.cu:227: reg:linear is now deprecated in favor of reg:squarederror.\n",
            "  warnings.warn(smsg, UserWarning)\n"
          ]
        },
        {
          "output_type": "stream",
          "name": "stdout",
          "text": [
            "[137]\tvalidation_0-rmse:19.97428\tvalidation_1-rmse:24.65941\n",
            "[0]\tvalidation_0-rmse:74.42214\tvalidation_1-rmse:61.35106\n",
            "[100]\tvalidation_0-rmse:27.28537\tvalidation_1-rmse:19.92264\n"
          ]
        },
        {
          "output_type": "stream",
          "name": "stderr",
          "text": [
            "/usr/local/lib/python3.11/dist-packages/xgboost/core.py:158: UserWarning: [00:59:03] WARNING: /workspace/src/objective/regression_obj.cu:227: reg:linear is now deprecated in favor of reg:squarederror.\n",
            "  warnings.warn(smsg, UserWarning)\n"
          ]
        },
        {
          "output_type": "stream",
          "name": "stdout",
          "text": [
            "[126]\tvalidation_0-rmse:21.13362\tvalidation_1-rmse:25.93430\n",
            "[0]\tvalidation_0-rmse:75.10259\tvalidation_1-rmse:62.31396\n",
            "[100]\tvalidation_0-rmse:68.12501\tvalidation_1-rmse:53.35396\n"
          ]
        },
        {
          "output_type": "stream",
          "name": "stderr",
          "text": [
            "/usr/local/lib/python3.11/dist-packages/xgboost/core.py:158: UserWarning: [00:59:04] WARNING: /workspace/src/objective/regression_obj.cu:227: reg:linear is now deprecated in favor of reg:squarederror.\n",
            "  warnings.warn(smsg, UserWarning)\n"
          ]
        },
        {
          "output_type": "stream",
          "name": "stdout",
          "text": [
            "[200]\tvalidation_0-rmse:61.81926\tvalidation_1-rmse:45.39086\n",
            "[300]\tvalidation_0-rmse:56.12991\tvalidation_1-rmse:38.24036\n",
            "[400]\tvalidation_0-rmse:51.00409\tvalidation_1-rmse:31.92171\n",
            "[500]\tvalidation_0-rmse:46.38468\tvalidation_1-rmse:26.62297\n",
            "[600]\tvalidation_0-rmse:42.22438\tvalidation_1-rmse:22.40226\n",
            "[700]\tvalidation_0-rmse:38.47565\tvalidation_1-rmse:19.36986\n",
            "[800]\tvalidation_0-rmse:35.10201\tvalidation_1-rmse:17.60214\n",
            "[900]\tvalidation_0-rmse:32.06876\tvalidation_1-rmse:17.05563\n",
            "[949]\tvalidation_0-rmse:30.69887\tvalidation_1-rmse:17.17088\n",
            "[0]\tvalidation_0-rmse:75.10480\tvalidation_1-rmse:62.31396\n",
            "[100]\tvalidation_0-rmse:68.35697\tvalidation_1-rmse:53.35396\n"
          ]
        },
        {
          "output_type": "stream",
          "name": "stderr",
          "text": [
            "/usr/local/lib/python3.11/dist-packages/xgboost/core.py:158: UserWarning: [00:59:05] WARNING: /workspace/src/objective/regression_obj.cu:227: reg:linear is now deprecated in favor of reg:squarederror.\n",
            "  warnings.warn(smsg, UserWarning)\n"
          ]
        },
        {
          "output_type": "stream",
          "name": "stdout",
          "text": [
            "[200]\tvalidation_0-rmse:62.27852\tvalidation_1-rmse:45.39086\n",
            "[300]\tvalidation_0-rmse:56.80657\tvalidation_1-rmse:38.24036\n",
            "[400]\tvalidation_0-rmse:51.88601\tvalidation_1-rmse:31.92171\n",
            "[500]\tvalidation_0-rmse:47.46633\tvalidation_1-rmse:26.62297\n",
            "[600]\tvalidation_0-rmse:43.48889\tvalidation_1-rmse:22.40226\n",
            "[700]\tvalidation_0-rmse:39.91282\tvalidation_1-rmse:19.36986\n",
            "[800]\tvalidation_0-rmse:36.71553\tvalidation_1-rmse:17.60214\n",
            "[900]\tvalidation_0-rmse:33.82370\tvalidation_1-rmse:17.05563\n",
            "[949]\tvalidation_0-rmse:32.52094\tvalidation_1-rmse:17.17088\n",
            "[0]\tvalidation_0-rmse:75.10683\tvalidation_1-rmse:62.31396\n",
            "[100]\tvalidation_0-rmse:68.55066\tvalidation_1-rmse:53.35396\n"
          ]
        },
        {
          "output_type": "stream",
          "name": "stderr",
          "text": [
            "/usr/local/lib/python3.11/dist-packages/xgboost/core.py:158: UserWarning: [00:59:06] WARNING: /workspace/src/objective/regression_obj.cu:227: reg:linear is now deprecated in favor of reg:squarederror.\n",
            "  warnings.warn(smsg, UserWarning)\n"
          ]
        },
        {
          "output_type": "stream",
          "name": "stdout",
          "text": [
            "[200]\tvalidation_0-rmse:62.64326\tvalidation_1-rmse:45.39086\n",
            "[300]\tvalidation_0-rmse:57.32475\tvalidation_1-rmse:38.24036\n",
            "[400]\tvalidation_0-rmse:52.54039\tvalidation_1-rmse:31.92171\n",
            "[500]\tvalidation_0-rmse:48.24120\tvalidation_1-rmse:26.62297\n",
            "[600]\tvalidation_0-rmse:44.34753\tvalidation_1-rmse:22.40226\n",
            "[700]\tvalidation_0-rmse:40.83345\tvalidation_1-rmse:19.36986\n",
            "[800]\tvalidation_0-rmse:37.65194\tvalidation_1-rmse:17.60214\n",
            "[900]\tvalidation_0-rmse:34.80521\tvalidation_1-rmse:17.05563\n",
            "[950]\tvalidation_0-rmse:33.49709\tvalidation_1-rmse:17.17576\n",
            "[0]\tvalidation_0-rmse:75.09926\tvalidation_1-rmse:62.30930\n",
            "[100]\tvalidation_0-rmse:67.82861\tvalidation_1-rmse:52.91805\n"
          ]
        },
        {
          "output_type": "stream",
          "name": "stderr",
          "text": [
            "/usr/local/lib/python3.11/dist-packages/xgboost/core.py:158: UserWarning: [00:59:09] WARNING: /workspace/src/objective/regression_obj.cu:227: reg:linear is now deprecated in favor of reg:squarederror.\n",
            "  warnings.warn(smsg, UserWarning)\n"
          ]
        },
        {
          "output_type": "stream",
          "name": "stdout",
          "text": [
            "[200]\tvalidation_0-rmse:61.28675\tvalidation_1-rmse:44.59656\n",
            "[300]\tvalidation_0-rmse:55.40488\tvalidation_1-rmse:37.30718\n",
            "[400]\tvalidation_0-rmse:50.35270\tvalidation_1-rmse:31.11047\n",
            "[500]\tvalidation_0-rmse:46.15178\tvalidation_1-rmse:26.03939\n",
            "[600]\tvalidation_0-rmse:42.40728\tvalidation_1-rmse:22.05730\n",
            "[700]\tvalidation_0-rmse:39.07774\tvalidation_1-rmse:19.26286\n",
            "[800]\tvalidation_0-rmse:36.11535\tvalidation_1-rmse:17.71596\n",
            "[900]\tvalidation_0-rmse:33.49724\tvalidation_1-rmse:17.34381\n",
            "[936]\tvalidation_0-rmse:32.62727\tvalidation_1-rmse:17.45543\n",
            "[0]\tvalidation_0-rmse:75.10177\tvalidation_1-rmse:62.30296\n",
            "[100]\tvalidation_0-rmse:68.06258\tvalidation_1-rmse:52.31374\n"
          ]
        },
        {
          "output_type": "stream",
          "name": "stderr",
          "text": [
            "/usr/local/lib/python3.11/dist-packages/xgboost/core.py:158: UserWarning: [00:59:10] WARNING: /workspace/src/objective/regression_obj.cu:227: reg:linear is now deprecated in favor of reg:squarederror.\n",
            "  warnings.warn(smsg, UserWarning)\n"
          ]
        },
        {
          "output_type": "stream",
          "name": "stdout",
          "text": [
            "[200]\tvalidation_0-rmse:61.71373\tvalidation_1-rmse:43.46728\n",
            "[300]\tvalidation_0-rmse:55.99092\tvalidation_1-rmse:35.73933\n",
            "[400]\tvalidation_0-rmse:50.83617\tvalidation_1-rmse:29.15707\n",
            "[500]\tvalidation_0-rmse:46.20023\tvalidation_1-rmse:23.82779\n",
            "[600]\tvalidation_0-rmse:42.03387\tvalidation_1-rmse:19.93160\n",
            "[700]\tvalidation_0-rmse:38.28896\tvalidation_1-rmse:17.68385\n",
            "[800]\tvalidation_0-rmse:34.91299\tvalidation_1-rmse:17.12892\n",
            "[835]\tvalidation_0-rmse:33.81740\tvalidation_1-rmse:17.28822\n",
            "[0]\tvalidation_0-rmse:75.10259\tvalidation_1-rmse:62.31396\n",
            "[100]\tvalidation_0-rmse:68.12501\tvalidation_1-rmse:53.35396\n"
          ]
        },
        {
          "output_type": "stream",
          "name": "stderr",
          "text": [
            "/usr/local/lib/python3.11/dist-packages/xgboost/core.py:158: UserWarning: [00:59:11] WARNING: /workspace/src/objective/regression_obj.cu:227: reg:linear is now deprecated in favor of reg:squarederror.\n",
            "  warnings.warn(smsg, UserWarning)\n"
          ]
        },
        {
          "output_type": "stream",
          "name": "stdout",
          "text": [
            "[200]\tvalidation_0-rmse:61.81926\tvalidation_1-rmse:45.39086\n",
            "[300]\tvalidation_0-rmse:56.12991\tvalidation_1-rmse:38.24036\n",
            "[400]\tvalidation_0-rmse:51.00409\tvalidation_1-rmse:31.92171\n",
            "[500]\tvalidation_0-rmse:46.38468\tvalidation_1-rmse:26.62297\n",
            "[600]\tvalidation_0-rmse:42.22438\tvalidation_1-rmse:22.40226\n",
            "[700]\tvalidation_0-rmse:38.47565\tvalidation_1-rmse:19.36986\n",
            "[800]\tvalidation_0-rmse:35.10201\tvalidation_1-rmse:17.60214\n",
            "[900]\tvalidation_0-rmse:32.06876\tvalidation_1-rmse:17.05563\n",
            "[950]\tvalidation_0-rmse:30.67164\tvalidation_1-rmse:17.17576\n",
            "[0]\tvalidation_0-rmse:75.10480\tvalidation_1-rmse:62.31396\n",
            "[100]\tvalidation_0-rmse:68.35697\tvalidation_1-rmse:53.35396\n"
          ]
        },
        {
          "output_type": "stream",
          "name": "stderr",
          "text": [
            "/usr/local/lib/python3.11/dist-packages/xgboost/core.py:158: UserWarning: [00:59:12] WARNING: /workspace/src/objective/regression_obj.cu:227: reg:linear is now deprecated in favor of reg:squarederror.\n",
            "  warnings.warn(smsg, UserWarning)\n"
          ]
        },
        {
          "output_type": "stream",
          "name": "stdout",
          "text": [
            "[200]\tvalidation_0-rmse:62.27852\tvalidation_1-rmse:45.39086\n",
            "[300]\tvalidation_0-rmse:56.80657\tvalidation_1-rmse:38.24036\n",
            "[400]\tvalidation_0-rmse:51.88601\tvalidation_1-rmse:31.92171\n",
            "[500]\tvalidation_0-rmse:47.46633\tvalidation_1-rmse:26.62297\n",
            "[600]\tvalidation_0-rmse:43.48889\tvalidation_1-rmse:22.40226\n",
            "[700]\tvalidation_0-rmse:39.91282\tvalidation_1-rmse:19.36986\n",
            "[800]\tvalidation_0-rmse:36.71553\tvalidation_1-rmse:17.60214\n",
            "[900]\tvalidation_0-rmse:33.82370\tvalidation_1-rmse:17.05563\n",
            "[950]\tvalidation_0-rmse:32.49505\tvalidation_1-rmse:17.17576\n",
            "[0]\tvalidation_0-rmse:75.10683\tvalidation_1-rmse:62.31396\n",
            "[100]\tvalidation_0-rmse:68.55066\tvalidation_1-rmse:53.35396\n"
          ]
        },
        {
          "output_type": "stream",
          "name": "stderr",
          "text": [
            "/usr/local/lib/python3.11/dist-packages/xgboost/core.py:158: UserWarning: [00:59:13] WARNING: /workspace/src/objective/regression_obj.cu:227: reg:linear is now deprecated in favor of reg:squarederror.\n",
            "  warnings.warn(smsg, UserWarning)\n"
          ]
        },
        {
          "output_type": "stream",
          "name": "stdout",
          "text": [
            "[200]\tvalidation_0-rmse:62.64326\tvalidation_1-rmse:45.39086\n",
            "[300]\tvalidation_0-rmse:57.32475\tvalidation_1-rmse:38.24036\n",
            "[400]\tvalidation_0-rmse:52.54039\tvalidation_1-rmse:31.92171\n",
            "[500]\tvalidation_0-rmse:48.24120\tvalidation_1-rmse:26.62297\n",
            "[600]\tvalidation_0-rmse:44.34753\tvalidation_1-rmse:22.40226\n",
            "[700]\tvalidation_0-rmse:40.83345\tvalidation_1-rmse:19.36986\n",
            "[800]\tvalidation_0-rmse:37.65194\tvalidation_1-rmse:17.60214\n",
            "[900]\tvalidation_0-rmse:34.80521\tvalidation_1-rmse:17.05563\n",
            "[950]\tvalidation_0-rmse:33.49709\tvalidation_1-rmse:17.17576\n",
            "[0]\tvalidation_0-rmse:75.09926\tvalidation_1-rmse:62.30930\n",
            "[100]\tvalidation_0-rmse:67.82861\tvalidation_1-rmse:52.91805\n"
          ]
        },
        {
          "output_type": "stream",
          "name": "stderr",
          "text": [
            "/usr/local/lib/python3.11/dist-packages/xgboost/core.py:158: UserWarning: [00:59:15] WARNING: /workspace/src/objective/regression_obj.cu:227: reg:linear is now deprecated in favor of reg:squarederror.\n",
            "  warnings.warn(smsg, UserWarning)\n"
          ]
        },
        {
          "output_type": "stream",
          "name": "stdout",
          "text": [
            "[200]\tvalidation_0-rmse:61.28675\tvalidation_1-rmse:44.59656\n",
            "[300]\tvalidation_0-rmse:55.40488\tvalidation_1-rmse:37.30718\n",
            "[400]\tvalidation_0-rmse:50.35270\tvalidation_1-rmse:31.11047\n",
            "[500]\tvalidation_0-rmse:46.15178\tvalidation_1-rmse:26.03939\n",
            "[600]\tvalidation_0-rmse:42.40728\tvalidation_1-rmse:22.05730\n",
            "[700]\tvalidation_0-rmse:39.07774\tvalidation_1-rmse:19.26286\n",
            "[800]\tvalidation_0-rmse:36.11535\tvalidation_1-rmse:17.71596\n",
            "[900]\tvalidation_0-rmse:33.49724\tvalidation_1-rmse:17.34381\n",
            "[936]\tvalidation_0-rmse:32.62727\tvalidation_1-rmse:17.45543\n",
            "[0]\tvalidation_0-rmse:75.10177\tvalidation_1-rmse:62.30296\n",
            "[100]\tvalidation_0-rmse:68.06258\tvalidation_1-rmse:52.31374\n"
          ]
        },
        {
          "output_type": "stream",
          "name": "stderr",
          "text": [
            "/usr/local/lib/python3.11/dist-packages/xgboost/core.py:158: UserWarning: [00:59:16] WARNING: /workspace/src/objective/regression_obj.cu:227: reg:linear is now deprecated in favor of reg:squarederror.\n",
            "  warnings.warn(smsg, UserWarning)\n"
          ]
        },
        {
          "output_type": "stream",
          "name": "stdout",
          "text": [
            "[200]\tvalidation_0-rmse:61.71373\tvalidation_1-rmse:43.46728\n",
            "[300]\tvalidation_0-rmse:55.99092\tvalidation_1-rmse:35.73933\n",
            "[400]\tvalidation_0-rmse:50.83617\tvalidation_1-rmse:29.15707\n",
            "[500]\tvalidation_0-rmse:46.20023\tvalidation_1-rmse:23.82779\n",
            "[600]\tvalidation_0-rmse:42.03387\tvalidation_1-rmse:19.93160\n",
            "[700]\tvalidation_0-rmse:38.28896\tvalidation_1-rmse:17.68385\n",
            "[800]\tvalidation_0-rmse:34.91299\tvalidation_1-rmse:17.12892\n",
            "[835]\tvalidation_0-rmse:33.81740\tvalidation_1-rmse:17.28822\n",
            "[0]\tvalidation_0-rmse:75.10259\tvalidation_1-rmse:62.31396\n",
            "[100]\tvalidation_0-rmse:68.12501\tvalidation_1-rmse:53.35396\n"
          ]
        },
        {
          "output_type": "stream",
          "name": "stderr",
          "text": [
            "/usr/local/lib/python3.11/dist-packages/xgboost/core.py:158: UserWarning: [00:59:17] WARNING: /workspace/src/objective/regression_obj.cu:227: reg:linear is now deprecated in favor of reg:squarederror.\n",
            "  warnings.warn(smsg, UserWarning)\n"
          ]
        },
        {
          "output_type": "stream",
          "name": "stdout",
          "text": [
            "[200]\tvalidation_0-rmse:61.81926\tvalidation_1-rmse:45.39086\n",
            "[300]\tvalidation_0-rmse:56.12991\tvalidation_1-rmse:38.24036\n",
            "[400]\tvalidation_0-rmse:51.00409\tvalidation_1-rmse:31.92171\n",
            "[500]\tvalidation_0-rmse:46.38468\tvalidation_1-rmse:26.62297\n",
            "[600]\tvalidation_0-rmse:42.22438\tvalidation_1-rmse:22.40226\n",
            "[700]\tvalidation_0-rmse:38.47565\tvalidation_1-rmse:19.36986\n",
            "[800]\tvalidation_0-rmse:35.10201\tvalidation_1-rmse:17.60214\n",
            "[900]\tvalidation_0-rmse:32.06876\tvalidation_1-rmse:17.05563\n",
            "[950]\tvalidation_0-rmse:30.67164\tvalidation_1-rmse:17.17576\n",
            "[0]\tvalidation_0-rmse:75.10480\tvalidation_1-rmse:62.31396\n",
            "[100]\tvalidation_0-rmse:68.35697\tvalidation_1-rmse:53.35396\n"
          ]
        },
        {
          "output_type": "stream",
          "name": "stderr",
          "text": [
            "/usr/local/lib/python3.11/dist-packages/xgboost/core.py:158: UserWarning: [00:59:18] WARNING: /workspace/src/objective/regression_obj.cu:227: reg:linear is now deprecated in favor of reg:squarederror.\n",
            "  warnings.warn(smsg, UserWarning)\n"
          ]
        },
        {
          "output_type": "stream",
          "name": "stdout",
          "text": [
            "[200]\tvalidation_0-rmse:62.27852\tvalidation_1-rmse:45.39086\n",
            "[300]\tvalidation_0-rmse:56.80657\tvalidation_1-rmse:38.24036\n",
            "[400]\tvalidation_0-rmse:51.88601\tvalidation_1-rmse:31.92171\n",
            "[500]\tvalidation_0-rmse:47.46633\tvalidation_1-rmse:26.62297\n",
            "[600]\tvalidation_0-rmse:43.48889\tvalidation_1-rmse:22.40226\n",
            "[700]\tvalidation_0-rmse:39.91282\tvalidation_1-rmse:19.36986\n",
            "[800]\tvalidation_0-rmse:36.71553\tvalidation_1-rmse:17.60214\n",
            "[900]\tvalidation_0-rmse:33.82370\tvalidation_1-rmse:17.05563\n",
            "[950]\tvalidation_0-rmse:32.49505\tvalidation_1-rmse:17.17576\n",
            "[0]\tvalidation_0-rmse:75.10683\tvalidation_1-rmse:62.31396\n"
          ]
        },
        {
          "output_type": "stream",
          "name": "stderr",
          "text": [
            "/usr/local/lib/python3.11/dist-packages/xgboost/core.py:158: UserWarning: [00:59:19] WARNING: /workspace/src/objective/regression_obj.cu:227: reg:linear is now deprecated in favor of reg:squarederror.\n",
            "  warnings.warn(smsg, UserWarning)\n"
          ]
        },
        {
          "output_type": "stream",
          "name": "stdout",
          "text": [
            "[100]\tvalidation_0-rmse:68.55066\tvalidation_1-rmse:53.35396\n",
            "[200]\tvalidation_0-rmse:62.64326\tvalidation_1-rmse:45.39086\n",
            "[300]\tvalidation_0-rmse:57.32475\tvalidation_1-rmse:38.24036\n",
            "[400]\tvalidation_0-rmse:52.54039\tvalidation_1-rmse:31.92171\n",
            "[500]\tvalidation_0-rmse:48.24120\tvalidation_1-rmse:26.62297\n",
            "[600]\tvalidation_0-rmse:44.34753\tvalidation_1-rmse:22.40226\n",
            "[700]\tvalidation_0-rmse:40.83345\tvalidation_1-rmse:19.36986\n",
            "[800]\tvalidation_0-rmse:37.65194\tvalidation_1-rmse:17.60214\n",
            "[900]\tvalidation_0-rmse:34.80521\tvalidation_1-rmse:17.05563\n",
            "[949]\tvalidation_0-rmse:33.52310\tvalidation_1-rmse:17.17088\n",
            "[0]\tvalidation_0-rmse:75.09926\tvalidation_1-rmse:62.30930\n",
            "[100]\tvalidation_0-rmse:67.82861\tvalidation_1-rmse:52.91805\n"
          ]
        },
        {
          "output_type": "stream",
          "name": "stderr",
          "text": [
            "/usr/local/lib/python3.11/dist-packages/xgboost/core.py:158: UserWarning: [00:59:22] WARNING: /workspace/src/objective/regression_obj.cu:227: reg:linear is now deprecated in favor of reg:squarederror.\n",
            "  warnings.warn(smsg, UserWarning)\n"
          ]
        },
        {
          "output_type": "stream",
          "name": "stdout",
          "text": [
            "[200]\tvalidation_0-rmse:61.28675\tvalidation_1-rmse:44.59656\n",
            "[300]\tvalidation_0-rmse:55.40488\tvalidation_1-rmse:37.30718\n",
            "[400]\tvalidation_0-rmse:50.35270\tvalidation_1-rmse:31.11047\n",
            "[500]\tvalidation_0-rmse:46.15178\tvalidation_1-rmse:26.03939\n",
            "[600]\tvalidation_0-rmse:42.40728\tvalidation_1-rmse:22.05730\n",
            "[700]\tvalidation_0-rmse:39.07774\tvalidation_1-rmse:19.26286\n",
            "[800]\tvalidation_0-rmse:36.11535\tvalidation_1-rmse:17.71596\n",
            "[900]\tvalidation_0-rmse:33.49724\tvalidation_1-rmse:17.34381\n",
            "[937]\tvalidation_0-rmse:32.60920\tvalidation_1-rmse:17.45945\n",
            "[0]\tvalidation_0-rmse:75.10177\tvalidation_1-rmse:62.30296\n",
            "[100]\tvalidation_0-rmse:68.06258\tvalidation_1-rmse:52.31374\n"
          ]
        },
        {
          "output_type": "stream",
          "name": "stderr",
          "text": [
            "/usr/local/lib/python3.11/dist-packages/xgboost/core.py:158: UserWarning: [00:59:23] WARNING: /workspace/src/objective/regression_obj.cu:227: reg:linear is now deprecated in favor of reg:squarederror.\n",
            "  warnings.warn(smsg, UserWarning)\n"
          ]
        },
        {
          "output_type": "stream",
          "name": "stdout",
          "text": [
            "[200]\tvalidation_0-rmse:61.71373\tvalidation_1-rmse:43.46728\n",
            "[300]\tvalidation_0-rmse:55.99092\tvalidation_1-rmse:35.73933\n",
            "[400]\tvalidation_0-rmse:50.83617\tvalidation_1-rmse:29.15707\n",
            "[500]\tvalidation_0-rmse:46.20023\tvalidation_1-rmse:23.82779\n",
            "[600]\tvalidation_0-rmse:42.03387\tvalidation_1-rmse:19.93160\n",
            "[700]\tvalidation_0-rmse:38.28896\tvalidation_1-rmse:17.68385\n",
            "[800]\tvalidation_0-rmse:34.91299\tvalidation_1-rmse:17.12892\n",
            "[835]\tvalidation_0-rmse:33.81740\tvalidation_1-rmse:17.28822\n",
            "[0]\tvalidation_0-rmse:75.10141\tvalidation_1-rmse:62.31379\n",
            "[100]\tvalidation_0-rmse:68.01887\tvalidation_1-rmse:53.34951\n"
          ]
        },
        {
          "output_type": "stream",
          "name": "stderr",
          "text": [
            "/usr/local/lib/python3.11/dist-packages/xgboost/core.py:158: UserWarning: [00:59:24] WARNING: /workspace/src/objective/regression_obj.cu:227: reg:linear is now deprecated in favor of reg:squarederror.\n",
            "  warnings.warn(smsg, UserWarning)\n"
          ]
        },
        {
          "output_type": "stream",
          "name": "stdout",
          "text": [
            "[200]\tvalidation_0-rmse:61.61314\tvalidation_1-rmse:45.41080\n",
            "[300]\tvalidation_0-rmse:55.82007\tvalidation_1-rmse:38.45458\n",
            "[400]\tvalidation_0-rmse:50.58410\tvalidation_1-rmse:32.46840\n",
            "[500]\tvalidation_0-rmse:45.88685\tvalidation_1-rmse:27.47781\n",
            "[600]\tvalidation_0-rmse:41.59653\tvalidation_1-rmse:23.53659\n",
            "[700]\tvalidation_0-rmse:37.71037\tvalidation_1-rmse:20.71554\n",
            "[800]\tvalidation_0-rmse:34.19787\tvalidation_1-rmse:19.05706\n",
            "[900]\tvalidation_0-rmse:31.01631\tvalidation_1-rmse:18.47813\n",
            "[961]\tvalidation_0-rmse:29.22700\tvalidation_1-rmse:18.58200\n",
            "[0]\tvalidation_0-rmse:75.10359\tvalidation_1-rmse:62.31379\n",
            "[100]\tvalidation_0-rmse:68.23371\tvalidation_1-rmse:53.34951\n"
          ]
        },
        {
          "output_type": "stream",
          "name": "stderr",
          "text": [
            "/usr/local/lib/python3.11/dist-packages/xgboost/core.py:158: UserWarning: [00:59:26] WARNING: /workspace/src/objective/regression_obj.cu:227: reg:linear is now deprecated in favor of reg:squarederror.\n",
            "  warnings.warn(smsg, UserWarning)\n"
          ]
        },
        {
          "output_type": "stream",
          "name": "stdout",
          "text": [
            "[200]\tvalidation_0-rmse:62.03254\tvalidation_1-rmse:45.41080\n",
            "[300]\tvalidation_0-rmse:56.45965\tvalidation_1-rmse:38.45458\n",
            "[400]\tvalidation_0-rmse:51.43904\tvalidation_1-rmse:32.46840\n",
            "[500]\tvalidation_0-rmse:46.91745\tvalidation_1-rmse:27.47781\n",
            "[600]\tvalidation_0-rmse:42.84731\tvalidation_1-rmse:23.53659\n",
            "[700]\tvalidation_0-rmse:39.18143\tvalidation_1-rmse:20.71554\n",
            "[800]\tvalidation_0-rmse:35.84957\tvalidation_1-rmse:19.05706\n",
            "[900]\tvalidation_0-rmse:32.85155\tvalidation_1-rmse:18.47813\n",
            "[960]\tvalidation_0-rmse:31.20167\tvalidation_1-rmse:18.57794\n",
            "[0]\tvalidation_0-rmse:75.10590\tvalidation_1-rmse:62.31379\n",
            "[100]\tvalidation_0-rmse:68.45914\tvalidation_1-rmse:53.34951\n"
          ]
        },
        {
          "output_type": "stream",
          "name": "stderr",
          "text": [
            "/usr/local/lib/python3.11/dist-packages/xgboost/core.py:158: UserWarning: [00:59:27] WARNING: /workspace/src/objective/regression_obj.cu:227: reg:linear is now deprecated in favor of reg:squarederror.\n",
            "  warnings.warn(smsg, UserWarning)\n"
          ]
        },
        {
          "output_type": "stream",
          "name": "stdout",
          "text": [
            "[200]\tvalidation_0-rmse:62.46557\tvalidation_1-rmse:45.41080\n",
            "[300]\tvalidation_0-rmse:57.06499\tvalidation_1-rmse:38.45458\n",
            "[400]\tvalidation_0-rmse:52.20258\tvalidation_1-rmse:32.46840\n",
            "[500]\tvalidation_0-rmse:47.82895\tvalidation_1-rmse:27.47781\n",
            "[600]\tvalidation_0-rmse:43.89981\tvalidation_1-rmse:23.53659\n",
            "[700]\tvalidation_0-rmse:40.38136\tvalidation_1-rmse:20.71554\n",
            "[800]\tvalidation_0-rmse:37.20856\tvalidation_1-rmse:19.05706\n",
            "[900]\tvalidation_0-rmse:34.32815\tvalidation_1-rmse:18.47813\n",
            "[961]\tvalidation_0-rmse:32.72067\tvalidation_1-rmse:18.58200\n",
            "[0]\tvalidation_0-rmse:75.09765\tvalidation_1-rmse:62.31093\n",
            "[100]\tvalidation_0-rmse:67.67027\tvalidation_1-rmse:53.08090\n"
          ]
        },
        {
          "output_type": "stream",
          "name": "stderr",
          "text": [
            "/usr/local/lib/python3.11/dist-packages/xgboost/core.py:158: UserWarning: [00:59:28] WARNING: /workspace/src/objective/regression_obj.cu:227: reg:linear is now deprecated in favor of reg:squarederror.\n",
            "  warnings.warn(smsg, UserWarning)\n"
          ]
        },
        {
          "output_type": "stream",
          "name": "stdout",
          "text": [
            "[200]\tvalidation_0-rmse:60.97818\tvalidation_1-rmse:44.91914\n",
            "[300]\tvalidation_0-rmse:54.95659\tvalidation_1-rmse:37.79076\n",
            "[400]\tvalidation_0-rmse:49.54963\tvalidation_1-rmse:31.71490\n",
            "[500]\tvalidation_0-rmse:44.69505\tvalidation_1-rmse:26.71306\n",
            "[600]\tvalidation_0-rmse:40.34748\tvalidation_1-rmse:22.85019\n",
            "[700]\tvalidation_0-rmse:36.54552\tvalidation_1-rmse:20.20676\n",
            "[800]\tvalidation_0-rmse:33.19893\tvalidation_1-rmse:18.82215\n",
            "[900]\tvalidation_0-rmse:30.23597\tvalidation_1-rmse:18.57853\n",
            "[924]\tvalidation_0-rmse:29.58109\tvalidation_1-rmse:18.65939\n",
            "[0]\tvalidation_0-rmse:75.10069\tvalidation_1-rmse:62.30296\n",
            "[100]\tvalidation_0-rmse:67.95188\tvalidation_1-rmse:52.31374\n"
          ]
        },
        {
          "output_type": "stream",
          "name": "stderr",
          "text": [
            "/usr/local/lib/python3.11/dist-packages/xgboost/core.py:158: UserWarning: [00:59:30] WARNING: /workspace/src/objective/regression_obj.cu:227: reg:linear is now deprecated in favor of reg:squarederror.\n",
            "  warnings.warn(smsg, UserWarning)\n"
          ]
        },
        {
          "output_type": "stream",
          "name": "stdout",
          "text": [
            "[200]\tvalidation_0-rmse:61.49391\tvalidation_1-rmse:43.46728\n",
            "[300]\tvalidation_0-rmse:55.68053\tvalidation_1-rmse:35.73933\n",
            "[400]\tvalidation_0-rmse:50.43649\tvalidation_1-rmse:29.15707\n",
            "[500]\tvalidation_0-rmse:45.70899\tvalidation_1-rmse:23.82779\n",
            "[600]\tvalidation_0-rmse:41.44725\tvalidation_1-rmse:19.93160\n",
            "[700]\tvalidation_0-rmse:37.60901\tvalidation_1-rmse:17.68385\n",
            "[800]\tvalidation_0-rmse:34.15629\tvalidation_1-rmse:17.12269\n",
            "[836]\tvalidation_0-rmse:32.99927\tvalidation_1-rmse:17.27831\n",
            "[0]\tvalidation_0-rmse:75.10141\tvalidation_1-rmse:62.31379\n",
            "[100]\tvalidation_0-rmse:68.01887\tvalidation_1-rmse:53.34951\n"
          ]
        },
        {
          "output_type": "stream",
          "name": "stderr",
          "text": [
            "/usr/local/lib/python3.11/dist-packages/xgboost/core.py:158: UserWarning: [00:59:31] WARNING: /workspace/src/objective/regression_obj.cu:227: reg:linear is now deprecated in favor of reg:squarederror.\n",
            "  warnings.warn(smsg, UserWarning)\n"
          ]
        },
        {
          "output_type": "stream",
          "name": "stdout",
          "text": [
            "[200]\tvalidation_0-rmse:61.61314\tvalidation_1-rmse:45.41080\n",
            "[300]\tvalidation_0-rmse:55.82007\tvalidation_1-rmse:38.45458\n",
            "[400]\tvalidation_0-rmse:50.58410\tvalidation_1-rmse:32.46840\n",
            "[500]\tvalidation_0-rmse:45.88685\tvalidation_1-rmse:27.47781\n",
            "[600]\tvalidation_0-rmse:41.59653\tvalidation_1-rmse:23.53659\n",
            "[700]\tvalidation_0-rmse:37.71037\tvalidation_1-rmse:20.71554\n",
            "[800]\tvalidation_0-rmse:34.19787\tvalidation_1-rmse:19.05706\n",
            "[900]\tvalidation_0-rmse:31.01631\tvalidation_1-rmse:18.47813\n",
            "[960]\tvalidation_0-rmse:29.25545\tvalidation_1-rmse:18.57794\n",
            "[0]\tvalidation_0-rmse:75.10359\tvalidation_1-rmse:62.31379\n"
          ]
        },
        {
          "output_type": "stream",
          "name": "stderr",
          "text": [
            "/usr/local/lib/python3.11/dist-packages/xgboost/core.py:158: UserWarning: [00:59:32] WARNING: /workspace/src/objective/regression_obj.cu:227: reg:linear is now deprecated in favor of reg:squarederror.\n",
            "  warnings.warn(smsg, UserWarning)\n"
          ]
        },
        {
          "output_type": "stream",
          "name": "stdout",
          "text": [
            "[100]\tvalidation_0-rmse:68.23371\tvalidation_1-rmse:53.34951\n",
            "[200]\tvalidation_0-rmse:62.03254\tvalidation_1-rmse:45.41080\n",
            "[300]\tvalidation_0-rmse:56.45965\tvalidation_1-rmse:38.45458\n",
            "[400]\tvalidation_0-rmse:51.43904\tvalidation_1-rmse:32.46840\n",
            "[500]\tvalidation_0-rmse:46.91745\tvalidation_1-rmse:27.47781\n",
            "[600]\tvalidation_0-rmse:42.84731\tvalidation_1-rmse:23.53659\n",
            "[700]\tvalidation_0-rmse:39.18143\tvalidation_1-rmse:20.71554\n",
            "[800]\tvalidation_0-rmse:35.84957\tvalidation_1-rmse:19.05706\n",
            "[900]\tvalidation_0-rmse:32.85155\tvalidation_1-rmse:18.47813\n",
            "[961]\tvalidation_0-rmse:31.17431\tvalidation_1-rmse:18.58200\n",
            "[0]\tvalidation_0-rmse:75.10590\tvalidation_1-rmse:62.31379\n",
            "[100]\tvalidation_0-rmse:68.45914\tvalidation_1-rmse:53.34951\n"
          ]
        },
        {
          "output_type": "stream",
          "name": "stderr",
          "text": [
            "/usr/local/lib/python3.11/dist-packages/xgboost/core.py:158: UserWarning: [00:59:35] WARNING: /workspace/src/objective/regression_obj.cu:227: reg:linear is now deprecated in favor of reg:squarederror.\n",
            "  warnings.warn(smsg, UserWarning)\n"
          ]
        },
        {
          "output_type": "stream",
          "name": "stdout",
          "text": [
            "[200]\tvalidation_0-rmse:62.46557\tvalidation_1-rmse:45.41080\n",
            "[300]\tvalidation_0-rmse:57.06499\tvalidation_1-rmse:38.45458\n",
            "[400]\tvalidation_0-rmse:52.20258\tvalidation_1-rmse:32.46840\n",
            "[500]\tvalidation_0-rmse:47.82895\tvalidation_1-rmse:27.47781\n",
            "[600]\tvalidation_0-rmse:43.89981\tvalidation_1-rmse:23.53659\n",
            "[700]\tvalidation_0-rmse:40.38136\tvalidation_1-rmse:20.71554\n",
            "[800]\tvalidation_0-rmse:37.20856\tvalidation_1-rmse:19.05706\n",
            "[900]\tvalidation_0-rmse:34.32815\tvalidation_1-rmse:18.47813\n",
            "[960]\tvalidation_0-rmse:32.74576\tvalidation_1-rmse:18.57794\n",
            "[0]\tvalidation_0-rmse:75.09765\tvalidation_1-rmse:62.31093\n",
            "[100]\tvalidation_0-rmse:67.67027\tvalidation_1-rmse:53.08090\n"
          ]
        },
        {
          "output_type": "stream",
          "name": "stderr",
          "text": [
            "/usr/local/lib/python3.11/dist-packages/xgboost/core.py:158: UserWarning: [00:59:36] WARNING: /workspace/src/objective/regression_obj.cu:227: reg:linear is now deprecated in favor of reg:squarederror.\n",
            "  warnings.warn(smsg, UserWarning)\n"
          ]
        },
        {
          "output_type": "stream",
          "name": "stdout",
          "text": [
            "[200]\tvalidation_0-rmse:60.97818\tvalidation_1-rmse:44.91914\n",
            "[300]\tvalidation_0-rmse:54.95659\tvalidation_1-rmse:37.79076\n",
            "[400]\tvalidation_0-rmse:49.54963\tvalidation_1-rmse:31.71490\n",
            "[500]\tvalidation_0-rmse:44.69505\tvalidation_1-rmse:26.71306\n",
            "[600]\tvalidation_0-rmse:40.34748\tvalidation_1-rmse:22.85019\n",
            "[700]\tvalidation_0-rmse:36.54552\tvalidation_1-rmse:20.20676\n",
            "[800]\tvalidation_0-rmse:33.19893\tvalidation_1-rmse:18.82215\n",
            "[900]\tvalidation_0-rmse:30.23597\tvalidation_1-rmse:18.57853\n",
            "[924]\tvalidation_0-rmse:29.58109\tvalidation_1-rmse:18.65939\n",
            "[0]\tvalidation_0-rmse:75.10069\tvalidation_1-rmse:62.30296\n",
            "[100]\tvalidation_0-rmse:67.95188\tvalidation_1-rmse:52.31374\n"
          ]
        },
        {
          "output_type": "stream",
          "name": "stderr",
          "text": [
            "/usr/local/lib/python3.11/dist-packages/xgboost/core.py:158: UserWarning: [00:59:38] WARNING: /workspace/src/objective/regression_obj.cu:227: reg:linear is now deprecated in favor of reg:squarederror.\n",
            "  warnings.warn(smsg, UserWarning)\n"
          ]
        },
        {
          "output_type": "stream",
          "name": "stdout",
          "text": [
            "[200]\tvalidation_0-rmse:61.49391\tvalidation_1-rmse:43.46728\n",
            "[300]\tvalidation_0-rmse:55.68053\tvalidation_1-rmse:35.73933\n",
            "[400]\tvalidation_0-rmse:50.43649\tvalidation_1-rmse:29.15707\n",
            "[500]\tvalidation_0-rmse:45.70899\tvalidation_1-rmse:23.82779\n",
            "[600]\tvalidation_0-rmse:41.44725\tvalidation_1-rmse:19.93160\n",
            "[700]\tvalidation_0-rmse:37.60901\tvalidation_1-rmse:17.68385\n",
            "[800]\tvalidation_0-rmse:34.15629\tvalidation_1-rmse:17.12269\n",
            "[837]\tvalidation_0-rmse:32.96787\tvalidation_1-rmse:17.28503\n",
            "[0]\tvalidation_0-rmse:75.10141\tvalidation_1-rmse:62.31379\n",
            "[100]\tvalidation_0-rmse:68.01887\tvalidation_1-rmse:53.34951\n"
          ]
        },
        {
          "output_type": "stream",
          "name": "stderr",
          "text": [
            "/usr/local/lib/python3.11/dist-packages/xgboost/core.py:158: UserWarning: [00:59:39] WARNING: /workspace/src/objective/regression_obj.cu:227: reg:linear is now deprecated in favor of reg:squarederror.\n",
            "  warnings.warn(smsg, UserWarning)\n"
          ]
        },
        {
          "output_type": "stream",
          "name": "stdout",
          "text": [
            "[200]\tvalidation_0-rmse:61.61314\tvalidation_1-rmse:45.41080\n",
            "[300]\tvalidation_0-rmse:55.82007\tvalidation_1-rmse:38.45458\n",
            "[400]\tvalidation_0-rmse:50.58410\tvalidation_1-rmse:32.46840\n",
            "[500]\tvalidation_0-rmse:45.88685\tvalidation_1-rmse:27.47781\n",
            "[600]\tvalidation_0-rmse:41.59653\tvalidation_1-rmse:23.53659\n",
            "[700]\tvalidation_0-rmse:37.71037\tvalidation_1-rmse:20.71554\n",
            "[800]\tvalidation_0-rmse:34.19787\tvalidation_1-rmse:19.05706\n",
            "[900]\tvalidation_0-rmse:31.01631\tvalidation_1-rmse:18.47813\n",
            "[960]\tvalidation_0-rmse:29.25545\tvalidation_1-rmse:18.57794\n",
            "[0]\tvalidation_0-rmse:75.10359\tvalidation_1-rmse:62.31379\n",
            "[100]\tvalidation_0-rmse:68.23371\tvalidation_1-rmse:53.34951\n"
          ]
        },
        {
          "output_type": "stream",
          "name": "stderr",
          "text": [
            "/usr/local/lib/python3.11/dist-packages/xgboost/core.py:158: UserWarning: [00:59:40] WARNING: /workspace/src/objective/regression_obj.cu:227: reg:linear is now deprecated in favor of reg:squarederror.\n",
            "  warnings.warn(smsg, UserWarning)\n"
          ]
        },
        {
          "output_type": "stream",
          "name": "stdout",
          "text": [
            "[200]\tvalidation_0-rmse:62.03254\tvalidation_1-rmse:45.41080\n",
            "[300]\tvalidation_0-rmse:56.45965\tvalidation_1-rmse:38.45458\n",
            "[400]\tvalidation_0-rmse:51.43904\tvalidation_1-rmse:32.46840\n",
            "[500]\tvalidation_0-rmse:46.91745\tvalidation_1-rmse:27.47781\n",
            "[600]\tvalidation_0-rmse:42.84731\tvalidation_1-rmse:23.53659\n",
            "[700]\tvalidation_0-rmse:39.18143\tvalidation_1-rmse:20.71554\n",
            "[800]\tvalidation_0-rmse:35.84957\tvalidation_1-rmse:19.05706\n",
            "[900]\tvalidation_0-rmse:32.85155\tvalidation_1-rmse:18.47813\n",
            "[960]\tvalidation_0-rmse:31.20167\tvalidation_1-rmse:18.57794\n",
            "[0]\tvalidation_0-rmse:75.10590\tvalidation_1-rmse:62.31379\n",
            "[100]\tvalidation_0-rmse:68.45914\tvalidation_1-rmse:53.34951\n"
          ]
        },
        {
          "output_type": "stream",
          "name": "stderr",
          "text": [
            "/usr/local/lib/python3.11/dist-packages/xgboost/core.py:158: UserWarning: [00:59:42] WARNING: /workspace/src/objective/regression_obj.cu:227: reg:linear is now deprecated in favor of reg:squarederror.\n",
            "  warnings.warn(smsg, UserWarning)\n"
          ]
        },
        {
          "output_type": "stream",
          "name": "stdout",
          "text": [
            "[200]\tvalidation_0-rmse:62.46557\tvalidation_1-rmse:45.41080\n",
            "[300]\tvalidation_0-rmse:57.06499\tvalidation_1-rmse:38.45458\n",
            "[400]\tvalidation_0-rmse:52.20258\tvalidation_1-rmse:32.46840\n",
            "[500]\tvalidation_0-rmse:47.82895\tvalidation_1-rmse:27.47781\n",
            "[600]\tvalidation_0-rmse:43.89981\tvalidation_1-rmse:23.53659\n",
            "[700]\tvalidation_0-rmse:40.38136\tvalidation_1-rmse:20.71554\n",
            "[800]\tvalidation_0-rmse:37.20856\tvalidation_1-rmse:19.05706\n",
            "[900]\tvalidation_0-rmse:34.32815\tvalidation_1-rmse:18.47813\n",
            "[961]\tvalidation_0-rmse:32.72067\tvalidation_1-rmse:18.58200\n",
            "[0]\tvalidation_0-rmse:75.09765\tvalidation_1-rmse:62.31093\n",
            "[100]\tvalidation_0-rmse:67.67027\tvalidation_1-rmse:53.08090\n"
          ]
        },
        {
          "output_type": "stream",
          "name": "stderr",
          "text": [
            "/usr/local/lib/python3.11/dist-packages/xgboost/core.py:158: UserWarning: [00:59:43] WARNING: /workspace/src/objective/regression_obj.cu:227: reg:linear is now deprecated in favor of reg:squarederror.\n",
            "  warnings.warn(smsg, UserWarning)\n"
          ]
        },
        {
          "output_type": "stream",
          "name": "stdout",
          "text": [
            "[200]\tvalidation_0-rmse:60.97818\tvalidation_1-rmse:44.91914\n",
            "[300]\tvalidation_0-rmse:54.95659\tvalidation_1-rmse:37.79076\n",
            "[400]\tvalidation_0-rmse:49.54963\tvalidation_1-rmse:31.71490\n",
            "[500]\tvalidation_0-rmse:44.69505\tvalidation_1-rmse:26.71306\n",
            "[600]\tvalidation_0-rmse:40.34748\tvalidation_1-rmse:22.85019\n",
            "[700]\tvalidation_0-rmse:36.54552\tvalidation_1-rmse:20.20676\n",
            "[800]\tvalidation_0-rmse:33.19893\tvalidation_1-rmse:18.82215\n",
            "[900]\tvalidation_0-rmse:30.23597\tvalidation_1-rmse:18.57853\n",
            "[925]\tvalidation_0-rmse:29.55266\tvalidation_1-rmse:18.66367\n",
            "[0]\tvalidation_0-rmse:75.10069\tvalidation_1-rmse:62.30296\n",
            "[100]\tvalidation_0-rmse:67.95188\tvalidation_1-rmse:52.31374\n"
          ]
        },
        {
          "output_type": "stream",
          "name": "stderr",
          "text": [
            "/usr/local/lib/python3.11/dist-packages/xgboost/core.py:158: UserWarning: [00:59:44] WARNING: /workspace/src/objective/regression_obj.cu:227: reg:linear is now deprecated in favor of reg:squarederror.\n",
            "  warnings.warn(smsg, UserWarning)\n"
          ]
        },
        {
          "output_type": "stream",
          "name": "stdout",
          "text": [
            "[200]\tvalidation_0-rmse:61.49391\tvalidation_1-rmse:43.46728\n",
            "[300]\tvalidation_0-rmse:55.68053\tvalidation_1-rmse:35.73933\n",
            "[400]\tvalidation_0-rmse:50.43649\tvalidation_1-rmse:29.15707\n",
            "[500]\tvalidation_0-rmse:45.70899\tvalidation_1-rmse:23.82779\n",
            "[600]\tvalidation_0-rmse:41.44725\tvalidation_1-rmse:19.93160\n",
            "[700]\tvalidation_0-rmse:37.60901\tvalidation_1-rmse:17.68385\n",
            "[800]\tvalidation_0-rmse:34.15629\tvalidation_1-rmse:17.12269\n",
            "[836]\tvalidation_0-rmse:32.99927\tvalidation_1-rmse:17.27831\n",
            "[0]\tvalidation_0-rmse:75.10134\tvalidation_1-rmse:62.31379\n"
          ]
        },
        {
          "output_type": "stream",
          "name": "stderr",
          "text": [
            "/usr/local/lib/python3.11/dist-packages/xgboost/core.py:158: UserWarning: [00:59:46] WARNING: /workspace/src/objective/regression_obj.cu:227: reg:linear is now deprecated in favor of reg:squarederror.\n",
            "  warnings.warn(smsg, UserWarning)\n"
          ]
        },
        {
          "output_type": "stream",
          "name": "stdout",
          "text": [
            "[100]\tvalidation_0-rmse:68.01134\tvalidation_1-rmse:53.34951\n",
            "[200]\tvalidation_0-rmse:61.59614\tvalidation_1-rmse:45.41080\n",
            "[300]\tvalidation_0-rmse:55.79064\tvalidation_1-rmse:38.45458\n",
            "[400]\tvalidation_0-rmse:50.53772\tvalidation_1-rmse:32.46840\n",
            "[500]\tvalidation_0-rmse:45.78525\tvalidation_1-rmse:27.47781\n",
            "[600]\tvalidation_0-rmse:41.48601\tvalidation_1-rmse:23.53659\n",
            "[700]\tvalidation_0-rmse:37.59723\tvalidation_1-rmse:20.71554\n",
            "[800]\tvalidation_0-rmse:34.08011\tvalidation_1-rmse:19.05706\n",
            "[900]\tvalidation_0-rmse:30.89854\tvalidation_1-rmse:18.47903\n",
            "[958]\tvalidation_0-rmse:29.19430\tvalidation_1-rmse:18.57796\n",
            "[0]\tvalidation_0-rmse:75.10341\tvalidation_1-rmse:62.31379\n",
            "[100]\tvalidation_0-rmse:68.21434\tvalidation_1-rmse:53.34951\n"
          ]
        },
        {
          "output_type": "stream",
          "name": "stderr",
          "text": [
            "/usr/local/lib/python3.11/dist-packages/xgboost/core.py:158: UserWarning: [00:59:48] WARNING: /workspace/src/objective/regression_obj.cu:227: reg:linear is now deprecated in favor of reg:squarederror.\n",
            "  warnings.warn(smsg, UserWarning)\n"
          ]
        },
        {
          "output_type": "stream",
          "name": "stdout",
          "text": [
            "[200]\tvalidation_0-rmse:61.98963\tvalidation_1-rmse:45.41080\n",
            "[300]\tvalidation_0-rmse:56.36323\tvalidation_1-rmse:38.45458\n",
            "[400]\tvalidation_0-rmse:51.27832\tvalidation_1-rmse:32.46840\n",
            "[500]\tvalidation_0-rmse:46.68819\tvalidation_1-rmse:27.47781\n",
            "[600]\tvalidation_0-rmse:42.54694\tvalidation_1-rmse:23.53659\n",
            "[700]\tvalidation_0-rmse:38.81222\tvalidation_1-rmse:20.71554\n",
            "[800]\tvalidation_0-rmse:35.44679\tvalidation_1-rmse:19.05706\n",
            "[900]\tvalidation_0-rmse:32.41628\tvalidation_1-rmse:18.47903\n",
            "[959]\tvalidation_0-rmse:30.77265\tvalidation_1-rmse:18.58193\n",
            "[0]\tvalidation_0-rmse:75.10590\tvalidation_1-rmse:62.31379\n",
            "[100]\tvalidation_0-rmse:68.45892\tvalidation_1-rmse:53.34951\n"
          ]
        },
        {
          "output_type": "stream",
          "name": "stderr",
          "text": [
            "/usr/local/lib/python3.11/dist-packages/xgboost/core.py:158: UserWarning: [00:59:50] WARNING: /workspace/src/objective/regression_obj.cu:227: reg:linear is now deprecated in favor of reg:squarederror.\n",
            "  warnings.warn(smsg, UserWarning)\n"
          ]
        },
        {
          "output_type": "stream",
          "name": "stdout",
          "text": [
            "[200]\tvalidation_0-rmse:62.46507\tvalidation_1-rmse:45.41080\n",
            "[300]\tvalidation_0-rmse:57.06404\tvalidation_1-rmse:38.45458\n",
            "[400]\tvalidation_0-rmse:52.20102\tvalidation_1-rmse:32.46840\n",
            "[500]\tvalidation_0-rmse:47.82656\tvalidation_1-rmse:27.47781\n",
            "[600]\tvalidation_0-rmse:43.89643\tvalidation_1-rmse:23.53659\n",
            "[700]\tvalidation_0-rmse:40.35269\tvalidation_1-rmse:20.71554\n",
            "[800]\tvalidation_0-rmse:37.13588\tvalidation_1-rmse:19.05706\n",
            "[900]\tvalidation_0-rmse:34.24632\tvalidation_1-rmse:18.47903\n",
            "[958]\tvalidation_0-rmse:32.71192\tvalidation_1-rmse:18.57796\n",
            "[0]\tvalidation_0-rmse:75.09799\tvalidation_1-rmse:62.31108\n",
            "[100]\tvalidation_0-rmse:67.70345\tvalidation_1-rmse:53.09611\n"
          ]
        },
        {
          "output_type": "stream",
          "name": "stderr",
          "text": [
            "/usr/local/lib/python3.11/dist-packages/xgboost/core.py:158: UserWarning: [00:59:51] WARNING: /workspace/src/objective/regression_obj.cu:227: reg:linear is now deprecated in favor of reg:squarederror.\n",
            "  warnings.warn(smsg, UserWarning)\n"
          ]
        },
        {
          "output_type": "stream",
          "name": "stdout",
          "text": [
            "[200]\tvalidation_0-rmse:61.04238\tvalidation_1-rmse:44.95083\n",
            "[300]\tvalidation_0-rmse:55.04893\tvalidation_1-rmse:37.84338\n",
            "[400]\tvalidation_0-rmse:49.63495\tvalidation_1-rmse:31.90332\n",
            "[500]\tvalidation_0-rmse:44.78133\tvalidation_1-rmse:27.01450\n",
            "[600]\tvalidation_0-rmse:40.45066\tvalidation_1-rmse:23.19899\n",
            "[700]\tvalidation_0-rmse:36.58445\tvalidation_1-rmse:20.54147\n",
            "[800]\tvalidation_0-rmse:33.14490\tvalidation_1-rmse:19.06795\n",
            "[900]\tvalidation_0-rmse:30.09707\tvalidation_1-rmse:18.68194\n",
            "[939]\tvalidation_0-rmse:29.00785\tvalidation_1-rmse:18.78012\n",
            "[0]\tvalidation_0-rmse:75.10051\tvalidation_1-rmse:62.30296\n",
            "[100]\tvalidation_0-rmse:67.93221\tvalidation_1-rmse:52.31374\n"
          ]
        },
        {
          "output_type": "stream",
          "name": "stderr",
          "text": [
            "/usr/local/lib/python3.11/dist-packages/xgboost/core.py:158: UserWarning: [00:59:53] WARNING: /workspace/src/objective/regression_obj.cu:227: reg:linear is now deprecated in favor of reg:squarederror.\n",
            "  warnings.warn(smsg, UserWarning)\n"
          ]
        },
        {
          "output_type": "stream",
          "name": "stdout",
          "text": [
            "[200]\tvalidation_0-rmse:61.44819\tvalidation_1-rmse:43.46728\n",
            "[300]\tvalidation_0-rmse:55.58354\tvalidation_1-rmse:35.73933\n",
            "[400]\tvalidation_0-rmse:50.28038\tvalidation_1-rmse:29.15707\n",
            "[500]\tvalidation_0-rmse:45.48875\tvalidation_1-rmse:23.82779\n",
            "[600]\tvalidation_0-rmse:41.15853\tvalidation_1-rmse:19.93160\n",
            "[700]\tvalidation_0-rmse:37.24689\tvalidation_1-rmse:17.68385\n",
            "[800]\tvalidation_0-rmse:33.71520\tvalidation_1-rmse:17.12269\n",
            "[836]\tvalidation_0-rmse:32.52982\tvalidation_1-rmse:17.27831\n",
            "[0]\tvalidation_0-rmse:75.10134\tvalidation_1-rmse:62.31379\n",
            "[100]\tvalidation_0-rmse:68.01134\tvalidation_1-rmse:53.34951\n"
          ]
        },
        {
          "output_type": "stream",
          "name": "stderr",
          "text": [
            "/usr/local/lib/python3.11/dist-packages/xgboost/core.py:158: UserWarning: [00:59:54] WARNING: /workspace/src/objective/regression_obj.cu:227: reg:linear is now deprecated in favor of reg:squarederror.\n",
            "  warnings.warn(smsg, UserWarning)\n"
          ]
        },
        {
          "output_type": "stream",
          "name": "stdout",
          "text": [
            "[200]\tvalidation_0-rmse:61.59614\tvalidation_1-rmse:45.41080\n",
            "[300]\tvalidation_0-rmse:55.79064\tvalidation_1-rmse:38.45458\n",
            "[400]\tvalidation_0-rmse:50.53772\tvalidation_1-rmse:32.46840\n",
            "[500]\tvalidation_0-rmse:45.78525\tvalidation_1-rmse:27.47781\n",
            "[600]\tvalidation_0-rmse:41.48601\tvalidation_1-rmse:23.53659\n",
            "[700]\tvalidation_0-rmse:37.59723\tvalidation_1-rmse:20.71554\n",
            "[800]\tvalidation_0-rmse:34.08011\tvalidation_1-rmse:19.05706\n",
            "[900]\tvalidation_0-rmse:30.89854\tvalidation_1-rmse:18.47903\n",
            "[959]\tvalidation_0-rmse:29.16578\tvalidation_1-rmse:18.58193\n",
            "[0]\tvalidation_0-rmse:75.10341\tvalidation_1-rmse:62.31379\n",
            "[100]\tvalidation_0-rmse:68.21434\tvalidation_1-rmse:53.34951\n"
          ]
        },
        {
          "output_type": "stream",
          "name": "stderr",
          "text": [
            "/usr/local/lib/python3.11/dist-packages/xgboost/core.py:158: UserWarning: [00:59:55] WARNING: /workspace/src/objective/regression_obj.cu:227: reg:linear is now deprecated in favor of reg:squarederror.\n",
            "  warnings.warn(smsg, UserWarning)\n"
          ]
        },
        {
          "output_type": "stream",
          "name": "stdout",
          "text": [
            "[200]\tvalidation_0-rmse:61.98963\tvalidation_1-rmse:45.41080\n",
            "[300]\tvalidation_0-rmse:56.36323\tvalidation_1-rmse:38.45458\n",
            "[400]\tvalidation_0-rmse:51.27832\tvalidation_1-rmse:32.46840\n",
            "[500]\tvalidation_0-rmse:46.68819\tvalidation_1-rmse:27.47781\n",
            "[600]\tvalidation_0-rmse:42.54694\tvalidation_1-rmse:23.53659\n",
            "[700]\tvalidation_0-rmse:38.81222\tvalidation_1-rmse:20.71554\n",
            "[800]\tvalidation_0-rmse:35.44679\tvalidation_1-rmse:19.05706\n",
            "[900]\tvalidation_0-rmse:32.41628\tvalidation_1-rmse:18.47903\n",
            "[959]\tvalidation_0-rmse:30.77265\tvalidation_1-rmse:18.58193\n",
            "[0]\tvalidation_0-rmse:75.10590\tvalidation_1-rmse:62.31379\n",
            "[100]\tvalidation_0-rmse:68.45892\tvalidation_1-rmse:53.34951\n"
          ]
        },
        {
          "output_type": "stream",
          "name": "stderr",
          "text": [
            "/usr/local/lib/python3.11/dist-packages/xgboost/core.py:158: UserWarning: [00:59:57] WARNING: /workspace/src/objective/regression_obj.cu:227: reg:linear is now deprecated in favor of reg:squarederror.\n",
            "  warnings.warn(smsg, UserWarning)\n"
          ]
        },
        {
          "output_type": "stream",
          "name": "stdout",
          "text": [
            "[200]\tvalidation_0-rmse:62.46507\tvalidation_1-rmse:45.41080\n",
            "[300]\tvalidation_0-rmse:57.06404\tvalidation_1-rmse:38.45458\n",
            "[400]\tvalidation_0-rmse:52.20102\tvalidation_1-rmse:32.46840\n",
            "[500]\tvalidation_0-rmse:47.82656\tvalidation_1-rmse:27.47781\n",
            "[600]\tvalidation_0-rmse:43.89643\tvalidation_1-rmse:23.53659\n",
            "[700]\tvalidation_0-rmse:40.35269\tvalidation_1-rmse:20.71554\n",
            "[800]\tvalidation_0-rmse:37.13588\tvalidation_1-rmse:19.05706\n",
            "[900]\tvalidation_0-rmse:34.24632\tvalidation_1-rmse:18.47903\n",
            "[958]\tvalidation_0-rmse:32.71192\tvalidation_1-rmse:18.57796\n",
            "[0]\tvalidation_0-rmse:75.09799\tvalidation_1-rmse:62.31108\n",
            "[100]\tvalidation_0-rmse:67.70345\tvalidation_1-rmse:53.09611\n"
          ]
        },
        {
          "output_type": "stream",
          "name": "stderr",
          "text": [
            "/usr/local/lib/python3.11/dist-packages/xgboost/core.py:158: UserWarning: [01:00:00] WARNING: /workspace/src/objective/regression_obj.cu:227: reg:linear is now deprecated in favor of reg:squarederror.\n",
            "  warnings.warn(smsg, UserWarning)\n"
          ]
        },
        {
          "output_type": "stream",
          "name": "stdout",
          "text": [
            "[200]\tvalidation_0-rmse:61.04238\tvalidation_1-rmse:44.95083\n",
            "[300]\tvalidation_0-rmse:55.04893\tvalidation_1-rmse:37.84338\n",
            "[400]\tvalidation_0-rmse:49.63495\tvalidation_1-rmse:31.90332\n",
            "[500]\tvalidation_0-rmse:44.78133\tvalidation_1-rmse:27.01450\n",
            "[600]\tvalidation_0-rmse:40.45066\tvalidation_1-rmse:23.19899\n",
            "[700]\tvalidation_0-rmse:36.58445\tvalidation_1-rmse:20.54147\n",
            "[800]\tvalidation_0-rmse:33.14490\tvalidation_1-rmse:19.06795\n",
            "[900]\tvalidation_0-rmse:30.09707\tvalidation_1-rmse:18.68194\n",
            "[939]\tvalidation_0-rmse:29.00785\tvalidation_1-rmse:18.78012\n",
            "[0]\tvalidation_0-rmse:75.10051\tvalidation_1-rmse:62.30296\n",
            "[100]\tvalidation_0-rmse:67.93221\tvalidation_1-rmse:52.31374\n"
          ]
        },
        {
          "output_type": "stream",
          "name": "stderr",
          "text": [
            "/usr/local/lib/python3.11/dist-packages/xgboost/core.py:158: UserWarning: [01:00:02] WARNING: /workspace/src/objective/regression_obj.cu:227: reg:linear is now deprecated in favor of reg:squarederror.\n",
            "  warnings.warn(smsg, UserWarning)\n"
          ]
        },
        {
          "output_type": "stream",
          "name": "stdout",
          "text": [
            "[200]\tvalidation_0-rmse:61.44819\tvalidation_1-rmse:43.46728\n",
            "[300]\tvalidation_0-rmse:55.58354\tvalidation_1-rmse:35.73933\n",
            "[400]\tvalidation_0-rmse:50.28038\tvalidation_1-rmse:29.15707\n",
            "[500]\tvalidation_0-rmse:45.48875\tvalidation_1-rmse:23.82779\n",
            "[600]\tvalidation_0-rmse:41.15853\tvalidation_1-rmse:19.93160\n",
            "[700]\tvalidation_0-rmse:37.24689\tvalidation_1-rmse:17.68385\n",
            "[800]\tvalidation_0-rmse:33.71520\tvalidation_1-rmse:17.12269\n",
            "[837]\tvalidation_0-rmse:32.49751\tvalidation_1-rmse:17.28503\n",
            "[0]\tvalidation_0-rmse:75.10134\tvalidation_1-rmse:62.31379\n",
            "[100]\tvalidation_0-rmse:68.01134\tvalidation_1-rmse:53.34951\n"
          ]
        },
        {
          "output_type": "stream",
          "name": "stderr",
          "text": [
            "/usr/local/lib/python3.11/dist-packages/xgboost/core.py:158: UserWarning: [01:00:03] WARNING: /workspace/src/objective/regression_obj.cu:227: reg:linear is now deprecated in favor of reg:squarederror.\n",
            "  warnings.warn(smsg, UserWarning)\n"
          ]
        },
        {
          "output_type": "stream",
          "name": "stdout",
          "text": [
            "[200]\tvalidation_0-rmse:61.59614\tvalidation_1-rmse:45.41080\n",
            "[300]\tvalidation_0-rmse:55.79064\tvalidation_1-rmse:38.45458\n",
            "[400]\tvalidation_0-rmse:50.53772\tvalidation_1-rmse:32.46840\n",
            "[500]\tvalidation_0-rmse:45.78525\tvalidation_1-rmse:27.47781\n",
            "[600]\tvalidation_0-rmse:41.48601\tvalidation_1-rmse:23.53659\n",
            "[700]\tvalidation_0-rmse:37.59723\tvalidation_1-rmse:20.71554\n",
            "[800]\tvalidation_0-rmse:34.08011\tvalidation_1-rmse:19.05706\n",
            "[900]\tvalidation_0-rmse:30.89854\tvalidation_1-rmse:18.47903\n",
            "[958]\tvalidation_0-rmse:29.19430\tvalidation_1-rmse:18.57796\n",
            "[0]\tvalidation_0-rmse:75.10341\tvalidation_1-rmse:62.31379\n",
            "[100]\tvalidation_0-rmse:68.21434\tvalidation_1-rmse:53.34951\n"
          ]
        },
        {
          "output_type": "stream",
          "name": "stderr",
          "text": [
            "/usr/local/lib/python3.11/dist-packages/xgboost/core.py:158: UserWarning: [01:00:05] WARNING: /workspace/src/objective/regression_obj.cu:227: reg:linear is now deprecated in favor of reg:squarederror.\n",
            "  warnings.warn(smsg, UserWarning)\n"
          ]
        },
        {
          "output_type": "stream",
          "name": "stdout",
          "text": [
            "[200]\tvalidation_0-rmse:61.98963\tvalidation_1-rmse:45.41080\n",
            "[300]\tvalidation_0-rmse:56.36323\tvalidation_1-rmse:38.45458\n",
            "[400]\tvalidation_0-rmse:51.27832\tvalidation_1-rmse:32.46840\n",
            "[500]\tvalidation_0-rmse:46.68819\tvalidation_1-rmse:27.47781\n",
            "[600]\tvalidation_0-rmse:42.54694\tvalidation_1-rmse:23.53659\n",
            "[700]\tvalidation_0-rmse:38.81222\tvalidation_1-rmse:20.71554\n",
            "[800]\tvalidation_0-rmse:35.44679\tvalidation_1-rmse:19.05706\n",
            "[900]\tvalidation_0-rmse:32.41628\tvalidation_1-rmse:18.47903\n",
            "[958]\tvalidation_0-rmse:30.79968\tvalidation_1-rmse:18.57796\n",
            "[0]\tvalidation_0-rmse:75.10590\tvalidation_1-rmse:62.31379\n",
            "[100]\tvalidation_0-rmse:68.45892\tvalidation_1-rmse:53.34951\n"
          ]
        },
        {
          "output_type": "stream",
          "name": "stderr",
          "text": [
            "/usr/local/lib/python3.11/dist-packages/xgboost/core.py:158: UserWarning: [01:00:06] WARNING: /workspace/src/objective/regression_obj.cu:227: reg:linear is now deprecated in favor of reg:squarederror.\n",
            "  warnings.warn(smsg, UserWarning)\n"
          ]
        },
        {
          "output_type": "stream",
          "name": "stdout",
          "text": [
            "[200]\tvalidation_0-rmse:62.46507\tvalidation_1-rmse:45.41080\n",
            "[300]\tvalidation_0-rmse:57.06404\tvalidation_1-rmse:38.45458\n",
            "[400]\tvalidation_0-rmse:52.20102\tvalidation_1-rmse:32.46840\n",
            "[500]\tvalidation_0-rmse:47.82656\tvalidation_1-rmse:27.47781\n",
            "[600]\tvalidation_0-rmse:43.89643\tvalidation_1-rmse:23.53659\n",
            "[700]\tvalidation_0-rmse:40.35269\tvalidation_1-rmse:20.71554\n",
            "[800]\tvalidation_0-rmse:37.13588\tvalidation_1-rmse:19.05706\n",
            "[900]\tvalidation_0-rmse:34.24632\tvalidation_1-rmse:18.47903\n",
            "[958]\tvalidation_0-rmse:32.71192\tvalidation_1-rmse:18.57796\n",
            "[0]\tvalidation_0-rmse:75.09799\tvalidation_1-rmse:62.31108\n",
            "[100]\tvalidation_0-rmse:67.70345\tvalidation_1-rmse:53.09611\n"
          ]
        },
        {
          "output_type": "stream",
          "name": "stderr",
          "text": [
            "/usr/local/lib/python3.11/dist-packages/xgboost/core.py:158: UserWarning: [01:00:08] WARNING: /workspace/src/objective/regression_obj.cu:227: reg:linear is now deprecated in favor of reg:squarederror.\n",
            "  warnings.warn(smsg, UserWarning)\n"
          ]
        },
        {
          "output_type": "stream",
          "name": "stdout",
          "text": [
            "[200]\tvalidation_0-rmse:61.04238\tvalidation_1-rmse:44.95083\n",
            "[300]\tvalidation_0-rmse:55.04893\tvalidation_1-rmse:37.84338\n",
            "[400]\tvalidation_0-rmse:49.63495\tvalidation_1-rmse:31.90332\n",
            "[500]\tvalidation_0-rmse:44.78133\tvalidation_1-rmse:27.01450\n",
            "[600]\tvalidation_0-rmse:40.45066\tvalidation_1-rmse:23.19899\n",
            "[700]\tvalidation_0-rmse:36.58445\tvalidation_1-rmse:20.54147\n",
            "[800]\tvalidation_0-rmse:33.14490\tvalidation_1-rmse:19.06795\n",
            "[900]\tvalidation_0-rmse:30.09707\tvalidation_1-rmse:18.68194\n",
            "[938]\tvalidation_0-rmse:29.03502\tvalidation_1-rmse:18.77601\n",
            "[0]\tvalidation_0-rmse:75.10051\tvalidation_1-rmse:62.30296\n",
            "[100]\tvalidation_0-rmse:67.93221\tvalidation_1-rmse:52.31374\n"
          ]
        },
        {
          "output_type": "stream",
          "name": "stderr",
          "text": [
            "/usr/local/lib/python3.11/dist-packages/xgboost/core.py:158: UserWarning: [01:00:09] WARNING: /workspace/src/objective/regression_obj.cu:227: reg:linear is now deprecated in favor of reg:squarederror.\n",
            "  warnings.warn(smsg, UserWarning)\n"
          ]
        },
        {
          "output_type": "stream",
          "name": "stdout",
          "text": [
            "[200]\tvalidation_0-rmse:61.44819\tvalidation_1-rmse:43.46728\n",
            "[300]\tvalidation_0-rmse:55.58354\tvalidation_1-rmse:35.73933\n",
            "[400]\tvalidation_0-rmse:50.28038\tvalidation_1-rmse:29.15707\n",
            "[500]\tvalidation_0-rmse:45.48875\tvalidation_1-rmse:23.82779\n",
            "[600]\tvalidation_0-rmse:41.15853\tvalidation_1-rmse:19.93160\n",
            "[700]\tvalidation_0-rmse:37.24689\tvalidation_1-rmse:17.68385\n",
            "[800]\tvalidation_0-rmse:33.71520\tvalidation_1-rmse:17.12269\n",
            "[837]\tvalidation_0-rmse:32.49751\tvalidation_1-rmse:17.28503\n",
            "[0]\tvalidation_0-rmse:75.10147\tvalidation_1-rmse:62.31379\n",
            "[100]\tvalidation_0-rmse:68.02329\tvalidation_1-rmse:53.34951\n"
          ]
        },
        {
          "output_type": "stream",
          "name": "stderr",
          "text": [
            "/usr/local/lib/python3.11/dist-packages/xgboost/core.py:158: UserWarning: [01:00:12] WARNING: /workspace/src/objective/regression_obj.cu:227: reg:linear is now deprecated in favor of reg:squarederror.\n",
            "  warnings.warn(smsg, UserWarning)\n"
          ]
        },
        {
          "output_type": "stream",
          "name": "stdout",
          "text": [
            "[200]\tvalidation_0-rmse:61.61811\tvalidation_1-rmse:45.41080\n",
            "[300]\tvalidation_0-rmse:55.82180\tvalidation_1-rmse:38.45458\n",
            "[400]\tvalidation_0-rmse:50.57686\tvalidation_1-rmse:32.46840\n",
            "[500]\tvalidation_0-rmse:45.83104\tvalidation_1-rmse:27.47781\n",
            "[600]\tvalidation_0-rmse:41.53712\tvalidation_1-rmse:23.53659\n",
            "[700]\tvalidation_0-rmse:37.65239\tvalidation_1-rmse:20.71554\n",
            "[800]\tvalidation_0-rmse:34.13841\tvalidation_1-rmse:19.05706\n",
            "[900]\tvalidation_0-rmse:30.95867\tvalidation_1-rmse:18.47903\n",
            "[959]\tvalidation_0-rmse:29.22619\tvalidation_1-rmse:18.58193\n"
          ]
        },
        {
          "output_type": "error",
          "ename": "AttributeError",
          "evalue": "'GridSearchCV' object has no attribute 'best_estimator'",
          "traceback": [
            "\u001b[0;31m---------------------------------------------------------------------------\u001b[0m",
            "\u001b[0;31mAttributeError\u001b[0m                            Traceback (most recent call last)",
            "\u001b[0;32m<ipython-input-40-b766234ec10a>\u001b[0m in \u001b[0;36m<cell line: 0>\u001b[0;34m()\u001b[0m\n\u001b[1;32m     14\u001b[0m                 verbose=100)\n\u001b[1;32m     15\u001b[0m \u001b[0;34m\u001b[0m\u001b[0m\n\u001b[0;32m---> 16\u001b[0;31m \u001b[0mbest_reg\u001b[0m \u001b[0;34m=\u001b[0m \u001b[0mgrid_search\u001b[0m\u001b[0;34m.\u001b[0m\u001b[0mbest_estimator\u001b[0m\u001b[0;34m\u001b[0m\u001b[0;34m\u001b[0m\u001b[0m\n\u001b[0m",
            "\u001b[0;31mAttributeError\u001b[0m: 'GridSearchCV' object has no attribute 'best_estimator'"
          ]
        }
      ]
    },
    {
      "source": [
        "from sklearn.model_selection import GridSearchCV\n",
        "\n",
        "param_grid = {\n",
        "       'n_estimators': [1000, 1500, 2000],\n",
        "       'learning_rate': [0.01, 0.001],\n",
        "       'max_depth': [3, 5, 7]\n",
        "   }\n",
        "\n",
        "# Instead of using fit_params, directly pass eval_set and verbose to the .fit method\n",
        "grid_search = GridSearchCV(reg, param_grid, cv=5, scoring='neg_mean_squared_error', refit=True)\n",
        "\n",
        "# Check if y_train and y_test are DataFrames and convert to Series if necessary\n",
        "if isinstance(y_train, pd.DataFrame):\n",
        "    y_train = y_train['Close']  # Assuming 'Close' is the target column\n",
        "if isinstance(y_test, pd.DataFrame):\n",
        "    y_test = y_test['Close']  # Assuming 'Close' is the target column\n",
        "\n",
        "try:\n",
        "    grid_search.fit(X_train, y_train,\n",
        "                    eval_set=[(X_train, y_train), (X_test, y_test)],\n",
        "                    verbose=100)\n",
        "    best_reg = grid_search.best_estimator_  # Access best_estimator_\n",
        "except ValueError as e:\n",
        "    print(f\"Error during GridSearchCV fitting: {e}\")\n",
        "    # Handle the error, e.g., check your data and hyperparameters"
      ],
      "cell_type": "code",
      "metadata": {
        "colab": {
          "base_uri": "https://localhost:8080/"
        },
        "id": "2jWsE5GvRnQ3",
        "outputId": "790de4ca-b322-475c-d721-31ca4af299ae"
      },
      "execution_count": null,
      "outputs": [
        {
          "output_type": "stream",
          "name": "stdout",
          "text": [
            "[0]\tvalidation_0-rmse:74.44307\tvalidation_1-rmse:61.46090\n",
            "[100]\tvalidation_0-rmse:29.00292\tvalidation_1-rmse:17.62244\n",
            "[139]\tvalidation_0-rmse:20.93684\tvalidation_1-rmse:23.61306\n"
          ]
        },
        {
          "output_type": "stream",
          "name": "stderr",
          "text": [
            "/usr/local/lib/python3.11/dist-packages/xgboost/core.py:158: UserWarning: [01:00:47] WARNING: /workspace/src/objective/regression_obj.cu:227: reg:linear is now deprecated in favor of reg:squarederror.\n",
            "  warnings.warn(smsg, UserWarning)\n"
          ]
        },
        {
          "output_type": "stream",
          "name": "stdout",
          "text": [
            "[0]\tvalidation_0-rmse:74.46515\tvalidation_1-rmse:61.46090\n",
            "[100]\tvalidation_0-rmse:30.91238\tvalidation_1-rmse:17.62244\n",
            "[138]\tvalidation_0-rmse:23.46034\tvalidation_1-rmse:23.45177\n"
          ]
        },
        {
          "output_type": "stream",
          "name": "stderr",
          "text": [
            "/usr/local/lib/python3.11/dist-packages/xgboost/core.py:158: UserWarning: [01:00:48] WARNING: /workspace/src/objective/regression_obj.cu:227: reg:linear is now deprecated in favor of reg:squarederror.\n",
            "  warnings.warn(smsg, UserWarning)\n"
          ]
        },
        {
          "output_type": "stream",
          "name": "stdout",
          "text": [
            "[0]\tvalidation_0-rmse:74.48544\tvalidation_1-rmse:61.46090\n",
            "[100]\tvalidation_0-rmse:31.94608\tvalidation_1-rmse:17.62244\n",
            "[139]\tvalidation_0-rmse:24.54073\tvalidation_1-rmse:23.63681\n"
          ]
        },
        {
          "output_type": "stream",
          "name": "stderr",
          "text": [
            "/usr/local/lib/python3.11/dist-packages/xgboost/core.py:158: UserWarning: [01:00:48] WARNING: /workspace/src/objective/regression_obj.cu:227: reg:linear is now deprecated in favor of reg:squarederror.\n",
            "  warnings.warn(smsg, UserWarning)\n"
          ]
        },
        {
          "output_type": "stream",
          "name": "stdout",
          "text": [
            "[0]\tvalidation_0-rmse:74.40980\tvalidation_1-rmse:61.41437\n",
            "[100]\tvalidation_0-rmse:30.74997\tvalidation_1-rmse:18.05470\n",
            "[138]\tvalidation_0-rmse:23.48223\tvalidation_1-rmse:24.23521\n"
          ]
        },
        {
          "output_type": "stream",
          "name": "stderr",
          "text": [
            "/usr/local/lib/python3.11/dist-packages/xgboost/core.py:158: UserWarning: [01:00:48] WARNING: /workspace/src/objective/regression_obj.cu:227: reg:linear is now deprecated in favor of reg:squarederror.\n",
            "  warnings.warn(smsg, UserWarning)\n",
            "/usr/local/lib/python3.11/dist-packages/xgboost/core.py:158: UserWarning: [01:00:48] WARNING: /workspace/src/objective/regression_obj.cu:227: reg:linear is now deprecated in favor of reg:squarederror.\n",
            "  warnings.warn(smsg, UserWarning)\n"
          ]
        },
        {
          "output_type": "stream",
          "name": "stdout",
          "text": [
            "[0]\tvalidation_0-rmse:74.43488\tvalidation_1-rmse:61.35106\n",
            "[100]\tvalidation_0-rmse:28.88079\tvalidation_1-rmse:19.91436\n",
            "[127]\tvalidation_0-rmse:22.94199\tvalidation_1-rmse:25.40852\n",
            "[0]\tvalidation_0-rmse:74.44307\tvalidation_1-rmse:61.46090\n",
            "[100]\tvalidation_0-rmse:29.00292\tvalidation_1-rmse:17.62244\n",
            "[139]\tvalidation_0-rmse:20.93684\tvalidation_1-rmse:23.61306\n"
          ]
        },
        {
          "output_type": "stream",
          "name": "stderr",
          "text": [
            "/usr/local/lib/python3.11/dist-packages/xgboost/core.py:158: UserWarning: [01:00:48] WARNING: /workspace/src/objective/regression_obj.cu:227: reg:linear is now deprecated in favor of reg:squarederror.\n",
            "  warnings.warn(smsg, UserWarning)\n"
          ]
        },
        {
          "output_type": "stream",
          "name": "stdout",
          "text": [
            "[0]\tvalidation_0-rmse:74.46515\tvalidation_1-rmse:61.46090\n",
            "[100]\tvalidation_0-rmse:30.91238\tvalidation_1-rmse:17.62244\n",
            "[139]\tvalidation_0-rmse:23.30616\tvalidation_1-rmse:23.60906\n",
            "[0]\tvalidation_0-rmse:74.48544\tvalidation_1-rmse:61.46090\n"
          ]
        },
        {
          "output_type": "stream",
          "name": "stderr",
          "text": [
            "/usr/local/lib/python3.11/dist-packages/xgboost/core.py:158: UserWarning: [01:00:49] WARNING: /workspace/src/objective/regression_obj.cu:227: reg:linear is now deprecated in favor of reg:squarederror.\n",
            "  warnings.warn(smsg, UserWarning)\n",
            "/usr/local/lib/python3.11/dist-packages/xgboost/core.py:158: UserWarning: [01:00:49] WARNING: /workspace/src/objective/regression_obj.cu:227: reg:linear is now deprecated in favor of reg:squarederror.\n",
            "  warnings.warn(smsg, UserWarning)\n"
          ]
        },
        {
          "output_type": "stream",
          "name": "stdout",
          "text": [
            "[100]\tvalidation_0-rmse:31.94608\tvalidation_1-rmse:17.62244\n",
            "[138]\tvalidation_0-rmse:24.69420\tvalidation_1-rmse:23.47959\n",
            "[0]\tvalidation_0-rmse:74.40980\tvalidation_1-rmse:61.41437\n",
            "[100]\tvalidation_0-rmse:30.74997\tvalidation_1-rmse:18.05470\n",
            "[137]\tvalidation_0-rmse:23.64622\tvalidation_1-rmse:24.05159\n"
          ]
        },
        {
          "output_type": "stream",
          "name": "stderr",
          "text": [
            "/usr/local/lib/python3.11/dist-packages/xgboost/core.py:158: UserWarning: [01:00:49] WARNING: /workspace/src/objective/regression_obj.cu:227: reg:linear is now deprecated in favor of reg:squarederror.\n",
            "  warnings.warn(smsg, UserWarning)\n"
          ]
        },
        {
          "output_type": "stream",
          "name": "stdout",
          "text": [
            "[0]\tvalidation_0-rmse:74.43488\tvalidation_1-rmse:61.35106\n",
            "[100]\tvalidation_0-rmse:28.88079\tvalidation_1-rmse:19.91436\n",
            "[127]\tvalidation_0-rmse:22.94199\tvalidation_1-rmse:25.40852\n",
            "[0]\tvalidation_0-rmse:74.44307\tvalidation_1-rmse:61.46090\n"
          ]
        },
        {
          "output_type": "stream",
          "name": "stderr",
          "text": [
            "/usr/local/lib/python3.11/dist-packages/xgboost/core.py:158: UserWarning: [01:00:49] WARNING: /workspace/src/objective/regression_obj.cu:227: reg:linear is now deprecated in favor of reg:squarederror.\n",
            "  warnings.warn(smsg, UserWarning)\n",
            "/usr/local/lib/python3.11/dist-packages/xgboost/core.py:158: UserWarning: [01:00:49] WARNING: /workspace/src/objective/regression_obj.cu:227: reg:linear is now deprecated in favor of reg:squarederror.\n",
            "  warnings.warn(smsg, UserWarning)\n"
          ]
        },
        {
          "output_type": "stream",
          "name": "stdout",
          "text": [
            "[100]\tvalidation_0-rmse:29.00292\tvalidation_1-rmse:17.62244\n",
            "[139]\tvalidation_0-rmse:20.93684\tvalidation_1-rmse:23.61306\n",
            "[0]\tvalidation_0-rmse:74.46515\tvalidation_1-rmse:61.46090\n",
            "[100]\tvalidation_0-rmse:30.91238\tvalidation_1-rmse:17.62244\n",
            "[139]\tvalidation_0-rmse:23.30616\tvalidation_1-rmse:23.60906\n",
            "[0]\tvalidation_0-rmse:74.48544\tvalidation_1-rmse:61.46090\n"
          ]
        },
        {
          "output_type": "stream",
          "name": "stderr",
          "text": [
            "/usr/local/lib/python3.11/dist-packages/xgboost/core.py:158: UserWarning: [01:00:50] WARNING: /workspace/src/objective/regression_obj.cu:227: reg:linear is now deprecated in favor of reg:squarederror.\n",
            "  warnings.warn(smsg, UserWarning)\n",
            "/usr/local/lib/python3.11/dist-packages/xgboost/core.py:158: UserWarning: [01:00:50] WARNING: /workspace/src/objective/regression_obj.cu:227: reg:linear is now deprecated in favor of reg:squarederror.\n",
            "  warnings.warn(smsg, UserWarning)\n"
          ]
        },
        {
          "output_type": "stream",
          "name": "stdout",
          "text": [
            "[100]\tvalidation_0-rmse:31.94608\tvalidation_1-rmse:17.62244\n",
            "[139]\tvalidation_0-rmse:24.54073\tvalidation_1-rmse:23.63681\n",
            "[0]\tvalidation_0-rmse:74.40980\tvalidation_1-rmse:61.41437\n",
            "[100]\tvalidation_0-rmse:30.74997\tvalidation_1-rmse:18.05470\n",
            "[138]\tvalidation_0-rmse:23.48223\tvalidation_1-rmse:24.23521\n"
          ]
        },
        {
          "output_type": "stream",
          "name": "stderr",
          "text": [
            "/usr/local/lib/python3.11/dist-packages/xgboost/core.py:158: UserWarning: [01:00:50] WARNING: /workspace/src/objective/regression_obj.cu:227: reg:linear is now deprecated in favor of reg:squarederror.\n",
            "  warnings.warn(smsg, UserWarning)\n",
            "/usr/local/lib/python3.11/dist-packages/xgboost/core.py:158: UserWarning: [01:00:50] WARNING: /workspace/src/objective/regression_obj.cu:227: reg:linear is now deprecated in favor of reg:squarederror.\n",
            "  warnings.warn(smsg, UserWarning)\n"
          ]
        },
        {
          "output_type": "stream",
          "name": "stdout",
          "text": [
            "[0]\tvalidation_0-rmse:74.43488\tvalidation_1-rmse:61.35106\n",
            "[100]\tvalidation_0-rmse:28.88079\tvalidation_1-rmse:19.91436\n",
            "[127]\tvalidation_0-rmse:22.94199\tvalidation_1-rmse:25.40852\n",
            "[0]\tvalidation_0-rmse:74.43114\tvalidation_1-rmse:61.45936\n"
          ]
        },
        {
          "output_type": "stream",
          "name": "stderr",
          "text": [
            "/usr/local/lib/python3.11/dist-packages/xgboost/core.py:158: UserWarning: [01:00:50] WARNING: /workspace/src/objective/regression_obj.cu:227: reg:linear is now deprecated in favor of reg:squarederror.\n",
            "  warnings.warn(smsg, UserWarning)\n"
          ]
        },
        {
          "output_type": "stream",
          "name": "stdout",
          "text": [
            "[100]\tvalidation_0-rmse:27.77503\tvalidation_1-rmse:18.89153\n",
            "[140]\tvalidation_0-rmse:18.90566\tvalidation_1-rmse:24.37057\n",
            "[0]\tvalidation_0-rmse:74.45301\tvalidation_1-rmse:61.45936\n",
            "[100]\tvalidation_0-rmse:29.80958\tvalidation_1-rmse:18.89153\n"
          ]
        },
        {
          "output_type": "stream",
          "name": "stderr",
          "text": [
            "/usr/local/lib/python3.11/dist-packages/xgboost/core.py:158: UserWarning: [01:00:51] WARNING: /workspace/src/objective/regression_obj.cu:227: reg:linear is now deprecated in favor of reg:squarederror.\n",
            "  warnings.warn(smsg, UserWarning)\n"
          ]
        },
        {
          "output_type": "stream",
          "name": "stdout",
          "text": [
            "[140]\tvalidation_0-rmse:21.59355\tvalidation_1-rmse:24.37057\n",
            "[0]\tvalidation_0-rmse:74.47612\tvalidation_1-rmse:61.45936\n",
            "[100]\tvalidation_0-rmse:31.42056\tvalidation_1-rmse:18.89153\n"
          ]
        },
        {
          "output_type": "stream",
          "name": "stderr",
          "text": [
            "/usr/local/lib/python3.11/dist-packages/xgboost/core.py:158: UserWarning: [01:00:51] WARNING: /workspace/src/objective/regression_obj.cu:227: reg:linear is now deprecated in favor of reg:squarederror.\n",
            "  warnings.warn(smsg, UserWarning)\n"
          ]
        },
        {
          "output_type": "stream",
          "name": "stdout",
          "text": [
            "[140]\tvalidation_0-rmse:23.68586\tvalidation_1-rmse:24.37057\n",
            "[0]\tvalidation_0-rmse:74.39373\tvalidation_1-rmse:61.43074\n",
            "[100]\tvalidation_0-rmse:27.25157\tvalidation_1-rmse:19.33188\n",
            "[136]\tvalidation_0-rmse:20.16389\tvalidation_1-rmse:24.78666\n"
          ]
        },
        {
          "output_type": "stream",
          "name": "stderr",
          "text": [
            "/usr/local/lib/python3.11/dist-packages/xgboost/core.py:158: UserWarning: [01:00:51] WARNING: /workspace/src/objective/regression_obj.cu:227: reg:linear is now deprecated in favor of reg:squarederror.\n",
            "  warnings.warn(smsg, UserWarning)\n"
          ]
        },
        {
          "output_type": "stream",
          "name": "stdout",
          "text": [
            "[0]\tvalidation_0-rmse:74.42398\tvalidation_1-rmse:61.35106\n",
            "[100]\tvalidation_0-rmse:27.90223\tvalidation_1-rmse:19.92264\n",
            "[127]\tvalidation_0-rmse:21.73118\tvalidation_1-rmse:26.16814\n"
          ]
        },
        {
          "output_type": "stream",
          "name": "stderr",
          "text": [
            "/usr/local/lib/python3.11/dist-packages/xgboost/core.py:158: UserWarning: [01:00:51] WARNING: /workspace/src/objective/regression_obj.cu:227: reg:linear is now deprecated in favor of reg:squarederror.\n",
            "  warnings.warn(smsg, UserWarning)\n"
          ]
        },
        {
          "output_type": "stream",
          "name": "stdout",
          "text": [
            "[0]\tvalidation_0-rmse:74.43114\tvalidation_1-rmse:61.45936\n",
            "[100]\tvalidation_0-rmse:27.77503\tvalidation_1-rmse:18.89153\n"
          ]
        },
        {
          "output_type": "stream",
          "name": "stderr",
          "text": [
            "/usr/local/lib/python3.11/dist-packages/xgboost/core.py:158: UserWarning: [01:00:51] WARNING: /workspace/src/objective/regression_obj.cu:227: reg:linear is now deprecated in favor of reg:squarederror.\n",
            "  warnings.warn(smsg, UserWarning)\n"
          ]
        },
        {
          "output_type": "stream",
          "name": "stdout",
          "text": [
            "[139]\tvalidation_0-rmse:19.08354\tvalidation_1-rmse:24.20857\n",
            "[0]\tvalidation_0-rmse:74.45301\tvalidation_1-rmse:61.45936\n",
            "[100]\tvalidation_0-rmse:29.80958\tvalidation_1-rmse:18.89153\n"
          ]
        },
        {
          "output_type": "stream",
          "name": "stderr",
          "text": [
            "/usr/local/lib/python3.11/dist-packages/xgboost/core.py:158: UserWarning: [01:00:52] WARNING: /workspace/src/objective/regression_obj.cu:227: reg:linear is now deprecated in favor of reg:squarederror.\n",
            "  warnings.warn(smsg, UserWarning)\n"
          ]
        },
        {
          "output_type": "stream",
          "name": "stdout",
          "text": [
            "[139]\tvalidation_0-rmse:21.75473\tvalidation_1-rmse:24.20857\n",
            "[0]\tvalidation_0-rmse:74.47612\tvalidation_1-rmse:61.45936\n",
            "[100]\tvalidation_0-rmse:31.42056\tvalidation_1-rmse:18.89153\n",
            "[139]\tvalidation_0-rmse:23.84117\tvalidation_1-rmse:24.20857\n"
          ]
        },
        {
          "output_type": "stream",
          "name": "stderr",
          "text": [
            "/usr/local/lib/python3.11/dist-packages/xgboost/core.py:158: UserWarning: [01:00:52] WARNING: /workspace/src/objective/regression_obj.cu:227: reg:linear is now deprecated in favor of reg:squarederror.\n",
            "  warnings.warn(smsg, UserWarning)\n"
          ]
        },
        {
          "output_type": "stream",
          "name": "stdout",
          "text": [
            "[0]\tvalidation_0-rmse:74.39373\tvalidation_1-rmse:61.43074\n",
            "[100]\tvalidation_0-rmse:27.25157\tvalidation_1-rmse:19.33188\n"
          ]
        },
        {
          "output_type": "stream",
          "name": "stderr",
          "text": [
            "/usr/local/lib/python3.11/dist-packages/xgboost/core.py:158: UserWarning: [01:00:52] WARNING: /workspace/src/objective/regression_obj.cu:227: reg:linear is now deprecated in favor of reg:squarederror.\n",
            "  warnings.warn(smsg, UserWarning)\n"
          ]
        },
        {
          "output_type": "stream",
          "name": "stdout",
          "text": [
            "[135]\tvalidation_0-rmse:20.32636\tvalidation_1-rmse:24.61842\n",
            "[0]\tvalidation_0-rmse:74.42398\tvalidation_1-rmse:61.35106\n",
            "[100]\tvalidation_0-rmse:27.90223\tvalidation_1-rmse:19.92264\n"
          ]
        },
        {
          "output_type": "stream",
          "name": "stderr",
          "text": [
            "/usr/local/lib/python3.11/dist-packages/xgboost/core.py:158: UserWarning: [01:00:52] WARNING: /workspace/src/objective/regression_obj.cu:227: reg:linear is now deprecated in favor of reg:squarederror.\n",
            "  warnings.warn(smsg, UserWarning)\n"
          ]
        },
        {
          "output_type": "stream",
          "name": "stdout",
          "text": [
            "[127]\tvalidation_0-rmse:21.73118\tvalidation_1-rmse:26.16814\n",
            "[0]\tvalidation_0-rmse:74.43114\tvalidation_1-rmse:61.45936\n",
            "[100]\tvalidation_0-rmse:27.77503\tvalidation_1-rmse:18.89153\n"
          ]
        },
        {
          "output_type": "stream",
          "name": "stderr",
          "text": [
            "/usr/local/lib/python3.11/dist-packages/xgboost/core.py:158: UserWarning: [01:00:53] WARNING: /workspace/src/objective/regression_obj.cu:227: reg:linear is now deprecated in favor of reg:squarederror.\n",
            "  warnings.warn(smsg, UserWarning)\n"
          ]
        },
        {
          "output_type": "stream",
          "name": "stdout",
          "text": [
            "[139]\tvalidation_0-rmse:19.08354\tvalidation_1-rmse:24.20857\n",
            "[0]\tvalidation_0-rmse:74.45301\tvalidation_1-rmse:61.45936\n",
            "[100]\tvalidation_0-rmse:29.80958\tvalidation_1-rmse:18.89153\n"
          ]
        },
        {
          "output_type": "stream",
          "name": "stderr",
          "text": [
            "/usr/local/lib/python3.11/dist-packages/xgboost/core.py:158: UserWarning: [01:00:53] WARNING: /workspace/src/objective/regression_obj.cu:227: reg:linear is now deprecated in favor of reg:squarederror.\n",
            "  warnings.warn(smsg, UserWarning)\n"
          ]
        },
        {
          "output_type": "stream",
          "name": "stdout",
          "text": [
            "[140]\tvalidation_0-rmse:21.59355\tvalidation_1-rmse:24.37057\n",
            "[0]\tvalidation_0-rmse:74.47612\tvalidation_1-rmse:61.45936\n",
            "[100]\tvalidation_0-rmse:31.42056\tvalidation_1-rmse:18.89153\n",
            "[140]\tvalidation_0-rmse:23.68586\tvalidation_1-rmse:24.37057\n"
          ]
        },
        {
          "output_type": "stream",
          "name": "stderr",
          "text": [
            "/usr/local/lib/python3.11/dist-packages/xgboost/core.py:158: UserWarning: [01:00:53] WARNING: /workspace/src/objective/regression_obj.cu:227: reg:linear is now deprecated in favor of reg:squarederror.\n",
            "  warnings.warn(smsg, UserWarning)\n"
          ]
        },
        {
          "output_type": "stream",
          "name": "stdout",
          "text": [
            "[0]\tvalidation_0-rmse:74.39373\tvalidation_1-rmse:61.43074\n",
            "[100]\tvalidation_0-rmse:27.25157\tvalidation_1-rmse:19.33188\n"
          ]
        },
        {
          "output_type": "stream",
          "name": "stderr",
          "text": [
            "/usr/local/lib/python3.11/dist-packages/xgboost/core.py:158: UserWarning: [01:00:53] WARNING: /workspace/src/objective/regression_obj.cu:227: reg:linear is now deprecated in favor of reg:squarederror.\n",
            "  warnings.warn(smsg, UserWarning)\n"
          ]
        },
        {
          "output_type": "stream",
          "name": "stdout",
          "text": [
            "[135]\tvalidation_0-rmse:20.32636\tvalidation_1-rmse:24.61842\n",
            "[0]\tvalidation_0-rmse:74.42398\tvalidation_1-rmse:61.35106\n",
            "[100]\tvalidation_0-rmse:27.90223\tvalidation_1-rmse:19.92264\n",
            "[126]\tvalidation_0-rmse:21.92704\tvalidation_1-rmse:25.93430\n"
          ]
        },
        {
          "output_type": "stream",
          "name": "stderr",
          "text": [
            "/usr/local/lib/python3.11/dist-packages/xgboost/core.py:158: UserWarning: [01:00:54] WARNING: /workspace/src/objective/regression_obj.cu:227: reg:linear is now deprecated in favor of reg:squarederror.\n",
            "  warnings.warn(smsg, UserWarning)\n"
          ]
        },
        {
          "output_type": "stream",
          "name": "stdout",
          "text": [
            "[0]\tvalidation_0-rmse:74.43043\tvalidation_1-rmse:61.45936\n",
            "[100]\tvalidation_0-rmse:27.65284\tvalidation_1-rmse:18.91452\n"
          ]
        },
        {
          "output_type": "stream",
          "name": "stderr",
          "text": [
            "/usr/local/lib/python3.11/dist-packages/xgboost/core.py:158: UserWarning: [01:00:54] WARNING: /workspace/src/objective/regression_obj.cu:227: reg:linear is now deprecated in favor of reg:squarederror.\n",
            "  warnings.warn(smsg, UserWarning)\n"
          ]
        },
        {
          "output_type": "stream",
          "name": "stdout",
          "text": [
            "[140]\tvalidation_0-rmse:18.73867\tvalidation_1-rmse:24.47365\n",
            "[0]\tvalidation_0-rmse:74.45119\tvalidation_1-rmse:61.45936\n",
            "[100]\tvalidation_0-rmse:29.34305\tvalidation_1-rmse:18.91452\n"
          ]
        },
        {
          "output_type": "stream",
          "name": "stderr",
          "text": [
            "/usr/local/lib/python3.11/dist-packages/xgboost/core.py:158: UserWarning: [01:00:54] WARNING: /workspace/src/objective/regression_obj.cu:227: reg:linear is now deprecated in favor of reg:squarederror.\n",
            "  warnings.warn(smsg, UserWarning)\n"
          ]
        },
        {
          "output_type": "stream",
          "name": "stdout",
          "text": [
            "[139]\tvalidation_0-rmse:21.20058\tvalidation_1-rmse:24.30883\n",
            "[0]\tvalidation_0-rmse:74.47611\tvalidation_1-rmse:61.45936\n",
            "[100]\tvalidation_0-rmse:31.33847\tvalidation_1-rmse:18.91452\n"
          ]
        },
        {
          "output_type": "stream",
          "name": "stderr",
          "text": [
            "/usr/local/lib/python3.11/dist-packages/xgboost/core.py:158: UserWarning: [01:00:54] WARNING: /workspace/src/objective/regression_obj.cu:227: reg:linear is now deprecated in favor of reg:squarederror.\n",
            "  warnings.warn(smsg, UserWarning)\n"
          ]
        },
        {
          "output_type": "stream",
          "name": "stdout",
          "text": [
            "[139]\tvalidation_0-rmse:23.77515\tvalidation_1-rmse:24.30883\n",
            "[0]\tvalidation_0-rmse:74.39713\tvalidation_1-rmse:61.43222\n",
            "[100]\tvalidation_0-rmse:27.07321\tvalidation_1-rmse:19.27776\n"
          ]
        },
        {
          "output_type": "stream",
          "name": "stderr",
          "text": [
            "/usr/local/lib/python3.11/dist-packages/xgboost/core.py:158: UserWarning: [01:00:55] WARNING: /workspace/src/objective/regression_obj.cu:227: reg:linear is now deprecated in favor of reg:squarederror.\n",
            "  warnings.warn(smsg, UserWarning)\n"
          ]
        },
        {
          "output_type": "stream",
          "name": "stdout",
          "text": [
            "[138]\tvalidation_0-rmse:19.82997\tvalidation_1-rmse:24.82531\n",
            "[0]\tvalidation_0-rmse:74.42214\tvalidation_1-rmse:61.35106\n",
            "[100]\tvalidation_0-rmse:27.28537\tvalidation_1-rmse:19.92264\n"
          ]
        },
        {
          "output_type": "stream",
          "name": "stderr",
          "text": [
            "/usr/local/lib/python3.11/dist-packages/xgboost/core.py:158: UserWarning: [01:00:55] WARNING: /workspace/src/objective/regression_obj.cu:227: reg:linear is now deprecated in favor of reg:squarederror.\n",
            "  warnings.warn(smsg, UserWarning)\n"
          ]
        },
        {
          "output_type": "stream",
          "name": "stdout",
          "text": [
            "[126]\tvalidation_0-rmse:21.13362\tvalidation_1-rmse:25.93430\n",
            "[0]\tvalidation_0-rmse:74.43043\tvalidation_1-rmse:61.45936\n",
            "[100]\tvalidation_0-rmse:27.65284\tvalidation_1-rmse:18.91452\n"
          ]
        },
        {
          "output_type": "stream",
          "name": "stderr",
          "text": [
            "/usr/local/lib/python3.11/dist-packages/xgboost/core.py:158: UserWarning: [01:00:55] WARNING: /workspace/src/objective/regression_obj.cu:227: reg:linear is now deprecated in favor of reg:squarederror.\n",
            "  warnings.warn(smsg, UserWarning)\n"
          ]
        },
        {
          "output_type": "stream",
          "name": "stdout",
          "text": [
            "[139]\tvalidation_0-rmse:18.92048\tvalidation_1-rmse:24.30883\n",
            "[0]\tvalidation_0-rmse:74.45119\tvalidation_1-rmse:61.45936\n",
            "[100]\tvalidation_0-rmse:29.34305\tvalidation_1-rmse:18.91452\n"
          ]
        },
        {
          "output_type": "stream",
          "name": "stderr",
          "text": [
            "/usr/local/lib/python3.11/dist-packages/xgboost/core.py:158: UserWarning: [01:00:55] WARNING: /workspace/src/objective/regression_obj.cu:227: reg:linear is now deprecated in favor of reg:squarederror.\n",
            "  warnings.warn(smsg, UserWarning)\n"
          ]
        },
        {
          "output_type": "stream",
          "name": "stdout",
          "text": [
            "[139]\tvalidation_0-rmse:21.20058\tvalidation_1-rmse:24.30883\n",
            "[0]\tvalidation_0-rmse:74.47611\tvalidation_1-rmse:61.45936\n",
            "[100]\tvalidation_0-rmse:31.33847\tvalidation_1-rmse:18.91452\n"
          ]
        },
        {
          "output_type": "stream",
          "name": "stderr",
          "text": [
            "/usr/local/lib/python3.11/dist-packages/xgboost/core.py:158: UserWarning: [01:00:56] WARNING: /workspace/src/objective/regression_obj.cu:227: reg:linear is now deprecated in favor of reg:squarederror.\n",
            "  warnings.warn(smsg, UserWarning)\n"
          ]
        },
        {
          "output_type": "stream",
          "name": "stdout",
          "text": [
            "[140]\tvalidation_0-rmse:23.62377\tvalidation_1-rmse:24.47365\n",
            "[0]\tvalidation_0-rmse:74.39713\tvalidation_1-rmse:61.43222\n",
            "[100]\tvalidation_0-rmse:27.07321\tvalidation_1-rmse:19.27776\n"
          ]
        },
        {
          "output_type": "stream",
          "name": "stderr",
          "text": [
            "/usr/local/lib/python3.11/dist-packages/xgboost/core.py:158: UserWarning: [01:00:56] WARNING: /workspace/src/objective/regression_obj.cu:227: reg:linear is now deprecated in favor of reg:squarederror.\n",
            "  warnings.warn(smsg, UserWarning)\n"
          ]
        },
        {
          "output_type": "stream",
          "name": "stdout",
          "text": [
            "[138]\tvalidation_0-rmse:19.82997\tvalidation_1-rmse:24.82531\n",
            "[0]\tvalidation_0-rmse:74.42214\tvalidation_1-rmse:61.35106\n",
            "[100]\tvalidation_0-rmse:27.28537\tvalidation_1-rmse:19.92264\n"
          ]
        },
        {
          "output_type": "stream",
          "name": "stderr",
          "text": [
            "/usr/local/lib/python3.11/dist-packages/xgboost/core.py:158: UserWarning: [01:00:56] WARNING: /workspace/src/objective/regression_obj.cu:227: reg:linear is now deprecated in favor of reg:squarederror.\n",
            "  warnings.warn(smsg, UserWarning)\n"
          ]
        },
        {
          "output_type": "stream",
          "name": "stdout",
          "text": [
            "[126]\tvalidation_0-rmse:21.13362\tvalidation_1-rmse:25.93430\n",
            "[0]\tvalidation_0-rmse:74.43043\tvalidation_1-rmse:61.45936\n",
            "[100]\tvalidation_0-rmse:27.65284\tvalidation_1-rmse:18.91452\n"
          ]
        },
        {
          "output_type": "stream",
          "name": "stderr",
          "text": [
            "/usr/local/lib/python3.11/dist-packages/xgboost/core.py:158: UserWarning: [01:00:56] WARNING: /workspace/src/objective/regression_obj.cu:227: reg:linear is now deprecated in favor of reg:squarederror.\n",
            "  warnings.warn(smsg, UserWarning)\n"
          ]
        },
        {
          "output_type": "stream",
          "name": "stdout",
          "text": [
            "[139]\tvalidation_0-rmse:18.92048\tvalidation_1-rmse:24.30883\n",
            "[0]\tvalidation_0-rmse:74.45119\tvalidation_1-rmse:61.45936\n"
          ]
        },
        {
          "output_type": "stream",
          "name": "stderr",
          "text": [
            "/usr/local/lib/python3.11/dist-packages/xgboost/core.py:158: UserWarning: [01:00:57] WARNING: /workspace/src/objective/regression_obj.cu:227: reg:linear is now deprecated in favor of reg:squarederror.\n",
            "  warnings.warn(smsg, UserWarning)\n"
          ]
        },
        {
          "output_type": "stream",
          "name": "stdout",
          "text": [
            "[100]\tvalidation_0-rmse:29.34305\tvalidation_1-rmse:18.91452\n",
            "[140]\tvalidation_0-rmse:21.03337\tvalidation_1-rmse:24.47365\n",
            "[0]\tvalidation_0-rmse:74.47611\tvalidation_1-rmse:61.45936\n"
          ]
        },
        {
          "output_type": "stream",
          "name": "stderr",
          "text": [
            "/usr/local/lib/python3.11/dist-packages/xgboost/core.py:158: UserWarning: [01:00:58] WARNING: /workspace/src/objective/regression_obj.cu:227: reg:linear is now deprecated in favor of reg:squarederror.\n",
            "  warnings.warn(smsg, UserWarning)\n"
          ]
        },
        {
          "output_type": "stream",
          "name": "stdout",
          "text": [
            "[100]\tvalidation_0-rmse:31.33847\tvalidation_1-rmse:18.91452\n",
            "[139]\tvalidation_0-rmse:23.77515\tvalidation_1-rmse:24.30883\n",
            "[0]\tvalidation_0-rmse:74.39713\tvalidation_1-rmse:61.43222\n"
          ]
        },
        {
          "output_type": "stream",
          "name": "stderr",
          "text": [
            "/usr/local/lib/python3.11/dist-packages/xgboost/core.py:158: UserWarning: [01:00:58] WARNING: /workspace/src/objective/regression_obj.cu:227: reg:linear is now deprecated in favor of reg:squarederror.\n",
            "  warnings.warn(smsg, UserWarning)\n"
          ]
        },
        {
          "output_type": "stream",
          "name": "stdout",
          "text": [
            "[100]\tvalidation_0-rmse:27.07321\tvalidation_1-rmse:19.27776\n",
            "[137]\tvalidation_0-rmse:19.97428\tvalidation_1-rmse:24.65941\n",
            "[0]\tvalidation_0-rmse:74.42214\tvalidation_1-rmse:61.35106\n"
          ]
        },
        {
          "output_type": "stream",
          "name": "stderr",
          "text": [
            "/usr/local/lib/python3.11/dist-packages/xgboost/core.py:158: UserWarning: [01:00:59] WARNING: /workspace/src/objective/regression_obj.cu:227: reg:linear is now deprecated in favor of reg:squarederror.\n",
            "  warnings.warn(smsg, UserWarning)\n"
          ]
        },
        {
          "output_type": "stream",
          "name": "stdout",
          "text": [
            "[100]\tvalidation_0-rmse:27.28537\tvalidation_1-rmse:19.92264\n",
            "[127]\tvalidation_0-rmse:20.92990\tvalidation_1-rmse:26.16814\n",
            "[0]\tvalidation_0-rmse:75.10259\tvalidation_1-rmse:62.31396\n",
            "[100]\tvalidation_0-rmse:68.12501\tvalidation_1-rmse:53.35396\n"
          ]
        },
        {
          "output_type": "stream",
          "name": "stderr",
          "text": [
            "/usr/local/lib/python3.11/dist-packages/xgboost/core.py:158: UserWarning: [01:00:59] WARNING: /workspace/src/objective/regression_obj.cu:227: reg:linear is now deprecated in favor of reg:squarederror.\n",
            "  warnings.warn(smsg, UserWarning)\n"
          ]
        },
        {
          "output_type": "stream",
          "name": "stdout",
          "text": [
            "[200]\tvalidation_0-rmse:61.81926\tvalidation_1-rmse:45.39086\n",
            "[300]\tvalidation_0-rmse:56.12991\tvalidation_1-rmse:38.24036\n",
            "[400]\tvalidation_0-rmse:51.00409\tvalidation_1-rmse:31.92171\n",
            "[500]\tvalidation_0-rmse:46.38468\tvalidation_1-rmse:26.62297\n",
            "[600]\tvalidation_0-rmse:42.22438\tvalidation_1-rmse:22.40226\n",
            "[700]\tvalidation_0-rmse:38.47565\tvalidation_1-rmse:19.36986\n",
            "[800]\tvalidation_0-rmse:35.10201\tvalidation_1-rmse:17.60214\n",
            "[900]\tvalidation_0-rmse:32.06876\tvalidation_1-rmse:17.05563\n",
            "[950]\tvalidation_0-rmse:30.67164\tvalidation_1-rmse:17.17576\n",
            "[0]\tvalidation_0-rmse:75.10480\tvalidation_1-rmse:62.31396\n",
            "[100]\tvalidation_0-rmse:68.35697\tvalidation_1-rmse:53.35396\n"
          ]
        },
        {
          "output_type": "stream",
          "name": "stderr",
          "text": [
            "/usr/local/lib/python3.11/dist-packages/xgboost/core.py:158: UserWarning: [01:01:00] WARNING: /workspace/src/objective/regression_obj.cu:227: reg:linear is now deprecated in favor of reg:squarederror.\n",
            "  warnings.warn(smsg, UserWarning)\n"
          ]
        },
        {
          "output_type": "stream",
          "name": "stdout",
          "text": [
            "[200]\tvalidation_0-rmse:62.27852\tvalidation_1-rmse:45.39086\n",
            "[300]\tvalidation_0-rmse:56.80657\tvalidation_1-rmse:38.24036\n",
            "[400]\tvalidation_0-rmse:51.88601\tvalidation_1-rmse:31.92171\n",
            "[500]\tvalidation_0-rmse:47.46633\tvalidation_1-rmse:26.62297\n",
            "[600]\tvalidation_0-rmse:43.48889\tvalidation_1-rmse:22.40226\n",
            "[700]\tvalidation_0-rmse:39.91282\tvalidation_1-rmse:19.36986\n",
            "[800]\tvalidation_0-rmse:36.71553\tvalidation_1-rmse:17.60214\n",
            "[900]\tvalidation_0-rmse:33.82370\tvalidation_1-rmse:17.05563\n",
            "[950]\tvalidation_0-rmse:32.49505\tvalidation_1-rmse:17.17576\n",
            "[0]\tvalidation_0-rmse:75.10683\tvalidation_1-rmse:62.31396\n",
            "[100]\tvalidation_0-rmse:68.55066\tvalidation_1-rmse:53.35396\n"
          ]
        },
        {
          "output_type": "stream",
          "name": "stderr",
          "text": [
            "/usr/local/lib/python3.11/dist-packages/xgboost/core.py:158: UserWarning: [01:01:02] WARNING: /workspace/src/objective/regression_obj.cu:227: reg:linear is now deprecated in favor of reg:squarederror.\n",
            "  warnings.warn(smsg, UserWarning)\n"
          ]
        },
        {
          "output_type": "stream",
          "name": "stdout",
          "text": [
            "[200]\tvalidation_0-rmse:62.64326\tvalidation_1-rmse:45.39086\n",
            "[300]\tvalidation_0-rmse:57.32475\tvalidation_1-rmse:38.24036\n",
            "[400]\tvalidation_0-rmse:52.54039\tvalidation_1-rmse:31.92171\n",
            "[500]\tvalidation_0-rmse:48.24120\tvalidation_1-rmse:26.62297\n",
            "[600]\tvalidation_0-rmse:44.34753\tvalidation_1-rmse:22.40226\n",
            "[700]\tvalidation_0-rmse:40.83345\tvalidation_1-rmse:19.36986\n",
            "[800]\tvalidation_0-rmse:37.65194\tvalidation_1-rmse:17.60214\n",
            "[900]\tvalidation_0-rmse:34.80521\tvalidation_1-rmse:17.05563\n",
            "[949]\tvalidation_0-rmse:33.52310\tvalidation_1-rmse:17.17088\n",
            "[0]\tvalidation_0-rmse:75.09926\tvalidation_1-rmse:62.30930\n",
            "[100]\tvalidation_0-rmse:67.82861\tvalidation_1-rmse:52.91805\n"
          ]
        },
        {
          "output_type": "stream",
          "name": "stderr",
          "text": [
            "/usr/local/lib/python3.11/dist-packages/xgboost/core.py:158: UserWarning: [01:01:03] WARNING: /workspace/src/objective/regression_obj.cu:227: reg:linear is now deprecated in favor of reg:squarederror.\n",
            "  warnings.warn(smsg, UserWarning)\n"
          ]
        },
        {
          "output_type": "stream",
          "name": "stdout",
          "text": [
            "[200]\tvalidation_0-rmse:61.28675\tvalidation_1-rmse:44.59656\n",
            "[300]\tvalidation_0-rmse:55.40488\tvalidation_1-rmse:37.30718\n",
            "[400]\tvalidation_0-rmse:50.35270\tvalidation_1-rmse:31.11047\n",
            "[500]\tvalidation_0-rmse:46.15178\tvalidation_1-rmse:26.03939\n",
            "[600]\tvalidation_0-rmse:42.40728\tvalidation_1-rmse:22.05730\n",
            "[700]\tvalidation_0-rmse:39.07774\tvalidation_1-rmse:19.26286\n",
            "[800]\tvalidation_0-rmse:36.11535\tvalidation_1-rmse:17.71596\n",
            "[900]\tvalidation_0-rmse:33.49724\tvalidation_1-rmse:17.34381\n",
            "[937]\tvalidation_0-rmse:32.60920\tvalidation_1-rmse:17.45945\n",
            "[0]\tvalidation_0-rmse:75.10177\tvalidation_1-rmse:62.30296\n",
            "[100]\tvalidation_0-rmse:68.06258\tvalidation_1-rmse:52.31374\n"
          ]
        },
        {
          "output_type": "stream",
          "name": "stderr",
          "text": [
            "/usr/local/lib/python3.11/dist-packages/xgboost/core.py:158: UserWarning: [01:01:04] WARNING: /workspace/src/objective/regression_obj.cu:227: reg:linear is now deprecated in favor of reg:squarederror.\n",
            "  warnings.warn(smsg, UserWarning)\n"
          ]
        },
        {
          "output_type": "stream",
          "name": "stdout",
          "text": [
            "[200]\tvalidation_0-rmse:61.71373\tvalidation_1-rmse:43.46728\n",
            "[300]\tvalidation_0-rmse:55.99092\tvalidation_1-rmse:35.73933\n",
            "[400]\tvalidation_0-rmse:50.83617\tvalidation_1-rmse:29.15707\n",
            "[500]\tvalidation_0-rmse:46.20023\tvalidation_1-rmse:23.82779\n",
            "[600]\tvalidation_0-rmse:42.03387\tvalidation_1-rmse:19.93160\n",
            "[700]\tvalidation_0-rmse:38.28896\tvalidation_1-rmse:17.68385\n",
            "[800]\tvalidation_0-rmse:34.91299\tvalidation_1-rmse:17.12892\n",
            "[834]\tvalidation_0-rmse:33.84823\tvalidation_1-rmse:17.28164\n",
            "[0]\tvalidation_0-rmse:75.10259\tvalidation_1-rmse:62.31396\n",
            "[100]\tvalidation_0-rmse:68.12501\tvalidation_1-rmse:53.35396\n"
          ]
        },
        {
          "output_type": "stream",
          "name": "stderr",
          "text": [
            "/usr/local/lib/python3.11/dist-packages/xgboost/core.py:158: UserWarning: [01:01:05] WARNING: /workspace/src/objective/regression_obj.cu:227: reg:linear is now deprecated in favor of reg:squarederror.\n",
            "  warnings.warn(smsg, UserWarning)\n"
          ]
        },
        {
          "output_type": "stream",
          "name": "stdout",
          "text": [
            "[200]\tvalidation_0-rmse:61.81926\tvalidation_1-rmse:45.39086\n",
            "[300]\tvalidation_0-rmse:56.12991\tvalidation_1-rmse:38.24036\n",
            "[400]\tvalidation_0-rmse:51.00409\tvalidation_1-rmse:31.92171\n",
            "[500]\tvalidation_0-rmse:46.38468\tvalidation_1-rmse:26.62297\n",
            "[600]\tvalidation_0-rmse:42.22438\tvalidation_1-rmse:22.40226\n",
            "[700]\tvalidation_0-rmse:38.47565\tvalidation_1-rmse:19.36986\n",
            "[800]\tvalidation_0-rmse:35.10201\tvalidation_1-rmse:17.60214\n",
            "[900]\tvalidation_0-rmse:32.06876\tvalidation_1-rmse:17.05563\n",
            "[950]\tvalidation_0-rmse:30.67164\tvalidation_1-rmse:17.17576\n",
            "[0]\tvalidation_0-rmse:75.10480\tvalidation_1-rmse:62.31396\n",
            "[100]\tvalidation_0-rmse:68.35697\tvalidation_1-rmse:53.35396\n"
          ]
        },
        {
          "output_type": "stream",
          "name": "stderr",
          "text": [
            "/usr/local/lib/python3.11/dist-packages/xgboost/core.py:158: UserWarning: [01:01:06] WARNING: /workspace/src/objective/regression_obj.cu:227: reg:linear is now deprecated in favor of reg:squarederror.\n",
            "  warnings.warn(smsg, UserWarning)\n"
          ]
        },
        {
          "output_type": "stream",
          "name": "stdout",
          "text": [
            "[200]\tvalidation_0-rmse:62.27852\tvalidation_1-rmse:45.39086\n",
            "[300]\tvalidation_0-rmse:56.80657\tvalidation_1-rmse:38.24036\n",
            "[400]\tvalidation_0-rmse:51.88601\tvalidation_1-rmse:31.92171\n",
            "[500]\tvalidation_0-rmse:47.46633\tvalidation_1-rmse:26.62297\n",
            "[600]\tvalidation_0-rmse:43.48889\tvalidation_1-rmse:22.40226\n",
            "[700]\tvalidation_0-rmse:39.91282\tvalidation_1-rmse:19.36986\n",
            "[800]\tvalidation_0-rmse:36.71553\tvalidation_1-rmse:17.60214\n",
            "[900]\tvalidation_0-rmse:33.82370\tvalidation_1-rmse:17.05563\n",
            "[950]\tvalidation_0-rmse:32.49505\tvalidation_1-rmse:17.17576\n",
            "[0]\tvalidation_0-rmse:75.10683\tvalidation_1-rmse:62.31396\n",
            "[100]\tvalidation_0-rmse:68.55066\tvalidation_1-rmse:53.35396\n"
          ]
        },
        {
          "output_type": "stream",
          "name": "stderr",
          "text": [
            "/usr/local/lib/python3.11/dist-packages/xgboost/core.py:158: UserWarning: [01:01:08] WARNING: /workspace/src/objective/regression_obj.cu:227: reg:linear is now deprecated in favor of reg:squarederror.\n",
            "  warnings.warn(smsg, UserWarning)\n"
          ]
        },
        {
          "output_type": "stream",
          "name": "stdout",
          "text": [
            "[200]\tvalidation_0-rmse:62.64326\tvalidation_1-rmse:45.39086\n",
            "[300]\tvalidation_0-rmse:57.32475\tvalidation_1-rmse:38.24036\n",
            "[400]\tvalidation_0-rmse:52.54039\tvalidation_1-rmse:31.92171\n",
            "[500]\tvalidation_0-rmse:48.24120\tvalidation_1-rmse:26.62297\n",
            "[600]\tvalidation_0-rmse:44.34753\tvalidation_1-rmse:22.40226\n",
            "[700]\tvalidation_0-rmse:40.83345\tvalidation_1-rmse:19.36986\n",
            "[800]\tvalidation_0-rmse:37.65194\tvalidation_1-rmse:17.60214\n",
            "[900]\tvalidation_0-rmse:34.80521\tvalidation_1-rmse:17.05563\n",
            "[949]\tvalidation_0-rmse:33.52310\tvalidation_1-rmse:17.17088\n",
            "[0]\tvalidation_0-rmse:75.09926\tvalidation_1-rmse:62.30930\n",
            "[100]\tvalidation_0-rmse:67.82861\tvalidation_1-rmse:52.91805\n"
          ]
        },
        {
          "output_type": "stream",
          "name": "stderr",
          "text": [
            "/usr/local/lib/python3.11/dist-packages/xgboost/core.py:158: UserWarning: [01:01:09] WARNING: /workspace/src/objective/regression_obj.cu:227: reg:linear is now deprecated in favor of reg:squarederror.\n",
            "  warnings.warn(smsg, UserWarning)\n"
          ]
        },
        {
          "output_type": "stream",
          "name": "stdout",
          "text": [
            "[200]\tvalidation_0-rmse:61.28675\tvalidation_1-rmse:44.59656\n",
            "[300]\tvalidation_0-rmse:55.40488\tvalidation_1-rmse:37.30718\n",
            "[400]\tvalidation_0-rmse:50.35270\tvalidation_1-rmse:31.11047\n",
            "[500]\tvalidation_0-rmse:46.15178\tvalidation_1-rmse:26.03939\n",
            "[600]\tvalidation_0-rmse:42.40728\tvalidation_1-rmse:22.05730\n",
            "[700]\tvalidation_0-rmse:39.07774\tvalidation_1-rmse:19.26286\n",
            "[800]\tvalidation_0-rmse:36.11535\tvalidation_1-rmse:17.71596\n",
            "[900]\tvalidation_0-rmse:33.49724\tvalidation_1-rmse:17.34381\n",
            "[937]\tvalidation_0-rmse:32.60920\tvalidation_1-rmse:17.45945\n",
            "[0]\tvalidation_0-rmse:75.10177\tvalidation_1-rmse:62.30296\n",
            "[100]\tvalidation_0-rmse:68.06258\tvalidation_1-rmse:52.31374\n"
          ]
        },
        {
          "output_type": "stream",
          "name": "stderr",
          "text": [
            "/usr/local/lib/python3.11/dist-packages/xgboost/core.py:158: UserWarning: [01:01:11] WARNING: /workspace/src/objective/regression_obj.cu:227: reg:linear is now deprecated in favor of reg:squarederror.\n",
            "  warnings.warn(smsg, UserWarning)\n"
          ]
        },
        {
          "output_type": "stream",
          "name": "stdout",
          "text": [
            "[200]\tvalidation_0-rmse:61.71373\tvalidation_1-rmse:43.46728\n",
            "[300]\tvalidation_0-rmse:55.99092\tvalidation_1-rmse:35.73933\n",
            "[400]\tvalidation_0-rmse:50.83617\tvalidation_1-rmse:29.15707\n",
            "[500]\tvalidation_0-rmse:46.20023\tvalidation_1-rmse:23.82779\n",
            "[600]\tvalidation_0-rmse:42.03387\tvalidation_1-rmse:19.93160\n",
            "[700]\tvalidation_0-rmse:38.28896\tvalidation_1-rmse:17.68385\n",
            "[800]\tvalidation_0-rmse:34.91299\tvalidation_1-rmse:17.12892\n",
            "[834]\tvalidation_0-rmse:33.84823\tvalidation_1-rmse:17.28164\n",
            "[0]\tvalidation_0-rmse:75.10259\tvalidation_1-rmse:62.31396\n",
            "[100]\tvalidation_0-rmse:68.12501\tvalidation_1-rmse:53.35396\n"
          ]
        },
        {
          "output_type": "stream",
          "name": "stderr",
          "text": [
            "/usr/local/lib/python3.11/dist-packages/xgboost/core.py:158: UserWarning: [01:01:12] WARNING: /workspace/src/objective/regression_obj.cu:227: reg:linear is now deprecated in favor of reg:squarederror.\n",
            "  warnings.warn(smsg, UserWarning)\n"
          ]
        },
        {
          "output_type": "stream",
          "name": "stdout",
          "text": [
            "[200]\tvalidation_0-rmse:61.81926\tvalidation_1-rmse:45.39086\n",
            "[300]\tvalidation_0-rmse:56.12991\tvalidation_1-rmse:38.24036\n",
            "[400]\tvalidation_0-rmse:51.00409\tvalidation_1-rmse:31.92171\n",
            "[500]\tvalidation_0-rmse:46.38468\tvalidation_1-rmse:26.62297\n",
            "[600]\tvalidation_0-rmse:42.22438\tvalidation_1-rmse:22.40226\n",
            "[700]\tvalidation_0-rmse:38.47565\tvalidation_1-rmse:19.36986\n",
            "[800]\tvalidation_0-rmse:35.10201\tvalidation_1-rmse:17.60214\n",
            "[900]\tvalidation_0-rmse:32.06876\tvalidation_1-rmse:17.05563\n",
            "[949]\tvalidation_0-rmse:30.69887\tvalidation_1-rmse:17.17088\n",
            "[0]\tvalidation_0-rmse:75.10480\tvalidation_1-rmse:62.31396\n",
            "[100]\tvalidation_0-rmse:68.35697\tvalidation_1-rmse:53.35396\n"
          ]
        },
        {
          "output_type": "stream",
          "name": "stderr",
          "text": [
            "/usr/local/lib/python3.11/dist-packages/xgboost/core.py:158: UserWarning: [01:01:14] WARNING: /workspace/src/objective/regression_obj.cu:227: reg:linear is now deprecated in favor of reg:squarederror.\n",
            "  warnings.warn(smsg, UserWarning)\n"
          ]
        },
        {
          "output_type": "stream",
          "name": "stdout",
          "text": [
            "[200]\tvalidation_0-rmse:62.27852\tvalidation_1-rmse:45.39086\n",
            "[300]\tvalidation_0-rmse:56.80657\tvalidation_1-rmse:38.24036\n",
            "[400]\tvalidation_0-rmse:51.88601\tvalidation_1-rmse:31.92171\n",
            "[500]\tvalidation_0-rmse:47.46633\tvalidation_1-rmse:26.62297\n",
            "[600]\tvalidation_0-rmse:43.48889\tvalidation_1-rmse:22.40226\n",
            "[700]\tvalidation_0-rmse:39.91282\tvalidation_1-rmse:19.36986\n",
            "[800]\tvalidation_0-rmse:36.71553\tvalidation_1-rmse:17.60214\n",
            "[900]\tvalidation_0-rmse:33.82370\tvalidation_1-rmse:17.05563\n",
            "[950]\tvalidation_0-rmse:32.49505\tvalidation_1-rmse:17.17576\n",
            "[0]\tvalidation_0-rmse:75.10683\tvalidation_1-rmse:62.31396\n",
            "[100]\tvalidation_0-rmse:68.55066\tvalidation_1-rmse:53.35396\n"
          ]
        },
        {
          "output_type": "stream",
          "name": "stderr",
          "text": [
            "/usr/local/lib/python3.11/dist-packages/xgboost/core.py:158: UserWarning: [01:01:15] WARNING: /workspace/src/objective/regression_obj.cu:227: reg:linear is now deprecated in favor of reg:squarederror.\n",
            "  warnings.warn(smsg, UserWarning)\n"
          ]
        },
        {
          "output_type": "stream",
          "name": "stdout",
          "text": [
            "[200]\tvalidation_0-rmse:62.64326\tvalidation_1-rmse:45.39086\n",
            "[300]\tvalidation_0-rmse:57.32475\tvalidation_1-rmse:38.24036\n",
            "[400]\tvalidation_0-rmse:52.54039\tvalidation_1-rmse:31.92171\n",
            "[500]\tvalidation_0-rmse:48.24120\tvalidation_1-rmse:26.62297\n",
            "[600]\tvalidation_0-rmse:44.34753\tvalidation_1-rmse:22.40226\n",
            "[700]\tvalidation_0-rmse:40.83345\tvalidation_1-rmse:19.36986\n",
            "[800]\tvalidation_0-rmse:37.65194\tvalidation_1-rmse:17.60214\n",
            "[900]\tvalidation_0-rmse:34.80521\tvalidation_1-rmse:17.05563\n",
            "[950]\tvalidation_0-rmse:33.49709\tvalidation_1-rmse:17.17576\n",
            "[0]\tvalidation_0-rmse:75.09926\tvalidation_1-rmse:62.30930\n",
            "[100]\tvalidation_0-rmse:67.82861\tvalidation_1-rmse:52.91805\n"
          ]
        },
        {
          "output_type": "stream",
          "name": "stderr",
          "text": [
            "/usr/local/lib/python3.11/dist-packages/xgboost/core.py:158: UserWarning: [01:01:16] WARNING: /workspace/src/objective/regression_obj.cu:227: reg:linear is now deprecated in favor of reg:squarederror.\n",
            "  warnings.warn(smsg, UserWarning)\n"
          ]
        },
        {
          "output_type": "stream",
          "name": "stdout",
          "text": [
            "[200]\tvalidation_0-rmse:61.28675\tvalidation_1-rmse:44.59656\n",
            "[300]\tvalidation_0-rmse:55.40488\tvalidation_1-rmse:37.30718\n",
            "[400]\tvalidation_0-rmse:50.35270\tvalidation_1-rmse:31.11047\n",
            "[500]\tvalidation_0-rmse:46.15178\tvalidation_1-rmse:26.03939\n",
            "[600]\tvalidation_0-rmse:42.40728\tvalidation_1-rmse:22.05730\n",
            "[700]\tvalidation_0-rmse:39.07774\tvalidation_1-rmse:19.26286\n",
            "[800]\tvalidation_0-rmse:36.11535\tvalidation_1-rmse:17.71596\n",
            "[900]\tvalidation_0-rmse:33.49724\tvalidation_1-rmse:17.34381\n",
            "[937]\tvalidation_0-rmse:32.60920\tvalidation_1-rmse:17.45945\n",
            "[0]\tvalidation_0-rmse:75.10177\tvalidation_1-rmse:62.30296\n",
            "[100]\tvalidation_0-rmse:68.06258\tvalidation_1-rmse:52.31374\n"
          ]
        },
        {
          "output_type": "stream",
          "name": "stderr",
          "text": [
            "/usr/local/lib/python3.11/dist-packages/xgboost/core.py:158: UserWarning: [01:01:17] WARNING: /workspace/src/objective/regression_obj.cu:227: reg:linear is now deprecated in favor of reg:squarederror.\n",
            "  warnings.warn(smsg, UserWarning)\n"
          ]
        },
        {
          "output_type": "stream",
          "name": "stdout",
          "text": [
            "[200]\tvalidation_0-rmse:61.71373\tvalidation_1-rmse:43.46728\n",
            "[300]\tvalidation_0-rmse:55.99092\tvalidation_1-rmse:35.73933\n",
            "[400]\tvalidation_0-rmse:50.83617\tvalidation_1-rmse:29.15707\n",
            "[500]\tvalidation_0-rmse:46.20023\tvalidation_1-rmse:23.82779\n",
            "[600]\tvalidation_0-rmse:42.03387\tvalidation_1-rmse:19.93160\n",
            "[700]\tvalidation_0-rmse:38.28896\tvalidation_1-rmse:17.68385\n",
            "[800]\tvalidation_0-rmse:34.91299\tvalidation_1-rmse:17.12892\n",
            "[834]\tvalidation_0-rmse:33.84823\tvalidation_1-rmse:17.28164\n",
            "[0]\tvalidation_0-rmse:75.10141\tvalidation_1-rmse:62.31379\n",
            "[100]\tvalidation_0-rmse:68.01887\tvalidation_1-rmse:53.34951\n"
          ]
        },
        {
          "output_type": "stream",
          "name": "stderr",
          "text": [
            "/usr/local/lib/python3.11/dist-packages/xgboost/core.py:158: UserWarning: [01:01:18] WARNING: /workspace/src/objective/regression_obj.cu:227: reg:linear is now deprecated in favor of reg:squarederror.\n",
            "  warnings.warn(smsg, UserWarning)\n"
          ]
        },
        {
          "output_type": "stream",
          "name": "stdout",
          "text": [
            "[200]\tvalidation_0-rmse:61.61314\tvalidation_1-rmse:45.41080\n",
            "[300]\tvalidation_0-rmse:55.82007\tvalidation_1-rmse:38.45458\n",
            "[400]\tvalidation_0-rmse:50.58410\tvalidation_1-rmse:32.46840\n",
            "[500]\tvalidation_0-rmse:45.88685\tvalidation_1-rmse:27.47781\n",
            "[600]\tvalidation_0-rmse:41.59653\tvalidation_1-rmse:23.53659\n",
            "[700]\tvalidation_0-rmse:37.71037\tvalidation_1-rmse:20.71554\n",
            "[800]\tvalidation_0-rmse:34.19787\tvalidation_1-rmse:19.05706\n",
            "[900]\tvalidation_0-rmse:31.01631\tvalidation_1-rmse:18.47813\n",
            "[961]\tvalidation_0-rmse:29.22700\tvalidation_1-rmse:18.58200\n",
            "[0]\tvalidation_0-rmse:75.10359\tvalidation_1-rmse:62.31379\n",
            "[100]\tvalidation_0-rmse:68.23371\tvalidation_1-rmse:53.34951\n"
          ]
        },
        {
          "output_type": "stream",
          "name": "stderr",
          "text": [
            "/usr/local/lib/python3.11/dist-packages/xgboost/core.py:158: UserWarning: [01:01:20] WARNING: /workspace/src/objective/regression_obj.cu:227: reg:linear is now deprecated in favor of reg:squarederror.\n",
            "  warnings.warn(smsg, UserWarning)\n"
          ]
        },
        {
          "output_type": "stream",
          "name": "stdout",
          "text": [
            "[200]\tvalidation_0-rmse:62.03254\tvalidation_1-rmse:45.41080\n",
            "[300]\tvalidation_0-rmse:56.45965\tvalidation_1-rmse:38.45458\n",
            "[400]\tvalidation_0-rmse:51.43904\tvalidation_1-rmse:32.46840\n",
            "[500]\tvalidation_0-rmse:46.91745\tvalidation_1-rmse:27.47781\n",
            "[600]\tvalidation_0-rmse:42.84731\tvalidation_1-rmse:23.53659\n",
            "[700]\tvalidation_0-rmse:39.18143\tvalidation_1-rmse:20.71554\n",
            "[800]\tvalidation_0-rmse:35.84957\tvalidation_1-rmse:19.05706\n",
            "[900]\tvalidation_0-rmse:32.85155\tvalidation_1-rmse:18.47813\n",
            "[960]\tvalidation_0-rmse:31.20167\tvalidation_1-rmse:18.57794\n",
            "[0]\tvalidation_0-rmse:75.10590\tvalidation_1-rmse:62.31379\n",
            "[100]\tvalidation_0-rmse:68.45914\tvalidation_1-rmse:53.34951\n"
          ]
        },
        {
          "output_type": "stream",
          "name": "stderr",
          "text": [
            "/usr/local/lib/python3.11/dist-packages/xgboost/core.py:158: UserWarning: [01:01:21] WARNING: /workspace/src/objective/regression_obj.cu:227: reg:linear is now deprecated in favor of reg:squarederror.\n",
            "  warnings.warn(smsg, UserWarning)\n"
          ]
        },
        {
          "output_type": "stream",
          "name": "stdout",
          "text": [
            "[200]\tvalidation_0-rmse:62.46557\tvalidation_1-rmse:45.41080\n",
            "[300]\tvalidation_0-rmse:57.06499\tvalidation_1-rmse:38.45458\n",
            "[400]\tvalidation_0-rmse:52.20258\tvalidation_1-rmse:32.46840\n",
            "[500]\tvalidation_0-rmse:47.82895\tvalidation_1-rmse:27.47781\n",
            "[600]\tvalidation_0-rmse:43.89981\tvalidation_1-rmse:23.53659\n",
            "[700]\tvalidation_0-rmse:40.38136\tvalidation_1-rmse:20.71554\n",
            "[800]\tvalidation_0-rmse:37.20856\tvalidation_1-rmse:19.05706\n",
            "[900]\tvalidation_0-rmse:34.32815\tvalidation_1-rmse:18.47813\n",
            "[960]\tvalidation_0-rmse:32.74576\tvalidation_1-rmse:18.57794\n",
            "[0]\tvalidation_0-rmse:75.09765\tvalidation_1-rmse:62.31093\n"
          ]
        },
        {
          "output_type": "stream",
          "name": "stderr",
          "text": [
            "/usr/local/lib/python3.11/dist-packages/xgboost/core.py:158: UserWarning: [01:01:23] WARNING: /workspace/src/objective/regression_obj.cu:227: reg:linear is now deprecated in favor of reg:squarederror.\n",
            "  warnings.warn(smsg, UserWarning)\n"
          ]
        },
        {
          "output_type": "stream",
          "name": "stdout",
          "text": [
            "[100]\tvalidation_0-rmse:67.67027\tvalidation_1-rmse:53.08090\n",
            "[200]\tvalidation_0-rmse:60.97818\tvalidation_1-rmse:44.91914\n",
            "[300]\tvalidation_0-rmse:54.95659\tvalidation_1-rmse:37.79076\n",
            "[400]\tvalidation_0-rmse:49.54963\tvalidation_1-rmse:31.71490\n",
            "[500]\tvalidation_0-rmse:44.69505\tvalidation_1-rmse:26.71306\n",
            "[600]\tvalidation_0-rmse:40.34748\tvalidation_1-rmse:22.85019\n",
            "[700]\tvalidation_0-rmse:36.54552\tvalidation_1-rmse:20.20676\n",
            "[800]\tvalidation_0-rmse:33.19893\tvalidation_1-rmse:18.82215\n",
            "[900]\tvalidation_0-rmse:30.23597\tvalidation_1-rmse:18.57853\n",
            "[925]\tvalidation_0-rmse:29.55266\tvalidation_1-rmse:18.66367\n",
            "[0]\tvalidation_0-rmse:75.10069\tvalidation_1-rmse:62.30296\n",
            "[100]\tvalidation_0-rmse:67.95188\tvalidation_1-rmse:52.31374\n"
          ]
        },
        {
          "output_type": "stream",
          "name": "stderr",
          "text": [
            "/usr/local/lib/python3.11/dist-packages/xgboost/core.py:158: UserWarning: [01:01:25] WARNING: /workspace/src/objective/regression_obj.cu:227: reg:linear is now deprecated in favor of reg:squarederror.\n",
            "  warnings.warn(smsg, UserWarning)\n"
          ]
        },
        {
          "output_type": "stream",
          "name": "stdout",
          "text": [
            "[200]\tvalidation_0-rmse:61.49391\tvalidation_1-rmse:43.46728\n",
            "[300]\tvalidation_0-rmse:55.68053\tvalidation_1-rmse:35.73933\n",
            "[400]\tvalidation_0-rmse:50.43649\tvalidation_1-rmse:29.15707\n",
            "[500]\tvalidation_0-rmse:45.70899\tvalidation_1-rmse:23.82779\n",
            "[600]\tvalidation_0-rmse:41.44725\tvalidation_1-rmse:19.93160\n",
            "[700]\tvalidation_0-rmse:37.60901\tvalidation_1-rmse:17.68385\n",
            "[800]\tvalidation_0-rmse:34.15629\tvalidation_1-rmse:17.12269\n",
            "[836]\tvalidation_0-rmse:32.99927\tvalidation_1-rmse:17.27831\n",
            "[0]\tvalidation_0-rmse:75.10141\tvalidation_1-rmse:62.31379\n",
            "[100]\tvalidation_0-rmse:68.01887\tvalidation_1-rmse:53.34951\n"
          ]
        },
        {
          "output_type": "stream",
          "name": "stderr",
          "text": [
            "/usr/local/lib/python3.11/dist-packages/xgboost/core.py:158: UserWarning: [01:01:27] WARNING: /workspace/src/objective/regression_obj.cu:227: reg:linear is now deprecated in favor of reg:squarederror.\n",
            "  warnings.warn(smsg, UserWarning)\n"
          ]
        },
        {
          "output_type": "stream",
          "name": "stdout",
          "text": [
            "[200]\tvalidation_0-rmse:61.61314\tvalidation_1-rmse:45.41080\n",
            "[300]\tvalidation_0-rmse:55.82007\tvalidation_1-rmse:38.45458\n",
            "[400]\tvalidation_0-rmse:50.58410\tvalidation_1-rmse:32.46840\n",
            "[500]\tvalidation_0-rmse:45.88685\tvalidation_1-rmse:27.47781\n",
            "[600]\tvalidation_0-rmse:41.59653\tvalidation_1-rmse:23.53659\n",
            "[700]\tvalidation_0-rmse:37.71037\tvalidation_1-rmse:20.71554\n",
            "[800]\tvalidation_0-rmse:34.19787\tvalidation_1-rmse:19.05706\n",
            "[900]\tvalidation_0-rmse:31.01631\tvalidation_1-rmse:18.47813\n",
            "[961]\tvalidation_0-rmse:29.22700\tvalidation_1-rmse:18.58200\n",
            "[0]\tvalidation_0-rmse:75.10359\tvalidation_1-rmse:62.31379\n",
            "[100]\tvalidation_0-rmse:68.23371\tvalidation_1-rmse:53.34951\n"
          ]
        },
        {
          "output_type": "stream",
          "name": "stderr",
          "text": [
            "/usr/local/lib/python3.11/dist-packages/xgboost/core.py:158: UserWarning: [01:01:28] WARNING: /workspace/src/objective/regression_obj.cu:227: reg:linear is now deprecated in favor of reg:squarederror.\n",
            "  warnings.warn(smsg, UserWarning)\n"
          ]
        },
        {
          "output_type": "stream",
          "name": "stdout",
          "text": [
            "[200]\tvalidation_0-rmse:62.03254\tvalidation_1-rmse:45.41080\n",
            "[300]\tvalidation_0-rmse:56.45965\tvalidation_1-rmse:38.45458\n",
            "[400]\tvalidation_0-rmse:51.43904\tvalidation_1-rmse:32.46840\n",
            "[500]\tvalidation_0-rmse:46.91745\tvalidation_1-rmse:27.47781\n",
            "[600]\tvalidation_0-rmse:42.84731\tvalidation_1-rmse:23.53659\n",
            "[700]\tvalidation_0-rmse:39.18143\tvalidation_1-rmse:20.71554\n",
            "[800]\tvalidation_0-rmse:35.84957\tvalidation_1-rmse:19.05706\n",
            "[900]\tvalidation_0-rmse:32.85155\tvalidation_1-rmse:18.47813\n",
            "[960]\tvalidation_0-rmse:31.20167\tvalidation_1-rmse:18.57794\n",
            "[0]\tvalidation_0-rmse:75.10590\tvalidation_1-rmse:62.31379\n",
            "[100]\tvalidation_0-rmse:68.45914\tvalidation_1-rmse:53.34951\n"
          ]
        },
        {
          "output_type": "stream",
          "name": "stderr",
          "text": [
            "/usr/local/lib/python3.11/dist-packages/xgboost/core.py:158: UserWarning: [01:01:29] WARNING: /workspace/src/objective/regression_obj.cu:227: reg:linear is now deprecated in favor of reg:squarederror.\n",
            "  warnings.warn(smsg, UserWarning)\n"
          ]
        },
        {
          "output_type": "stream",
          "name": "stdout",
          "text": [
            "[200]\tvalidation_0-rmse:62.46557\tvalidation_1-rmse:45.41080\n",
            "[300]\tvalidation_0-rmse:57.06499\tvalidation_1-rmse:38.45458\n",
            "[400]\tvalidation_0-rmse:52.20258\tvalidation_1-rmse:32.46840\n",
            "[500]\tvalidation_0-rmse:47.82895\tvalidation_1-rmse:27.47781\n",
            "[600]\tvalidation_0-rmse:43.89981\tvalidation_1-rmse:23.53659\n",
            "[700]\tvalidation_0-rmse:40.38136\tvalidation_1-rmse:20.71554\n",
            "[800]\tvalidation_0-rmse:37.20856\tvalidation_1-rmse:19.05706\n",
            "[900]\tvalidation_0-rmse:34.32815\tvalidation_1-rmse:18.47813\n",
            "[961]\tvalidation_0-rmse:32.72067\tvalidation_1-rmse:18.58200\n",
            "[0]\tvalidation_0-rmse:75.09765\tvalidation_1-rmse:62.31093\n",
            "[100]\tvalidation_0-rmse:67.67027\tvalidation_1-rmse:53.08090\n"
          ]
        },
        {
          "output_type": "stream",
          "name": "stderr",
          "text": [
            "/usr/local/lib/python3.11/dist-packages/xgboost/core.py:158: UserWarning: [01:01:31] WARNING: /workspace/src/objective/regression_obj.cu:227: reg:linear is now deprecated in favor of reg:squarederror.\n",
            "  warnings.warn(smsg, UserWarning)\n"
          ]
        },
        {
          "output_type": "stream",
          "name": "stdout",
          "text": [
            "[200]\tvalidation_0-rmse:60.97818\tvalidation_1-rmse:44.91914\n",
            "[300]\tvalidation_0-rmse:54.95659\tvalidation_1-rmse:37.79076\n",
            "[400]\tvalidation_0-rmse:49.54963\tvalidation_1-rmse:31.71490\n",
            "[500]\tvalidation_0-rmse:44.69505\tvalidation_1-rmse:26.71306\n",
            "[600]\tvalidation_0-rmse:40.34748\tvalidation_1-rmse:22.85019\n",
            "[700]\tvalidation_0-rmse:36.54552\tvalidation_1-rmse:20.20676\n",
            "[800]\tvalidation_0-rmse:33.19893\tvalidation_1-rmse:18.82215\n",
            "[900]\tvalidation_0-rmse:30.23597\tvalidation_1-rmse:18.57853\n",
            "[925]\tvalidation_0-rmse:29.55266\tvalidation_1-rmse:18.66367\n",
            "[0]\tvalidation_0-rmse:75.10069\tvalidation_1-rmse:62.30296\n",
            "[100]\tvalidation_0-rmse:67.95188\tvalidation_1-rmse:52.31374\n"
          ]
        },
        {
          "output_type": "stream",
          "name": "stderr",
          "text": [
            "/usr/local/lib/python3.11/dist-packages/xgboost/core.py:158: UserWarning: [01:01:32] WARNING: /workspace/src/objective/regression_obj.cu:227: reg:linear is now deprecated in favor of reg:squarederror.\n",
            "  warnings.warn(smsg, UserWarning)\n"
          ]
        },
        {
          "output_type": "stream",
          "name": "stdout",
          "text": [
            "[200]\tvalidation_0-rmse:61.49391\tvalidation_1-rmse:43.46728\n",
            "[300]\tvalidation_0-rmse:55.68053\tvalidation_1-rmse:35.73933\n",
            "[400]\tvalidation_0-rmse:50.43649\tvalidation_1-rmse:29.15707\n",
            "[500]\tvalidation_0-rmse:45.70899\tvalidation_1-rmse:23.82779\n",
            "[600]\tvalidation_0-rmse:41.44725\tvalidation_1-rmse:19.93160\n",
            "[700]\tvalidation_0-rmse:37.60901\tvalidation_1-rmse:17.68385\n",
            "[800]\tvalidation_0-rmse:34.15629\tvalidation_1-rmse:17.12269\n",
            "[837]\tvalidation_0-rmse:32.96787\tvalidation_1-rmse:17.28503\n",
            "[0]\tvalidation_0-rmse:75.10141\tvalidation_1-rmse:62.31379\n",
            "[100]\tvalidation_0-rmse:68.01887\tvalidation_1-rmse:53.34951\n"
          ]
        },
        {
          "output_type": "stream",
          "name": "stderr",
          "text": [
            "/usr/local/lib/python3.11/dist-packages/xgboost/core.py:158: UserWarning: [01:01:33] WARNING: /workspace/src/objective/regression_obj.cu:227: reg:linear is now deprecated in favor of reg:squarederror.\n",
            "  warnings.warn(smsg, UserWarning)\n"
          ]
        },
        {
          "output_type": "stream",
          "name": "stdout",
          "text": [
            "[200]\tvalidation_0-rmse:61.61314\tvalidation_1-rmse:45.41080\n",
            "[300]\tvalidation_0-rmse:55.82007\tvalidation_1-rmse:38.45458\n",
            "[400]\tvalidation_0-rmse:50.58410\tvalidation_1-rmse:32.46840\n",
            "[500]\tvalidation_0-rmse:45.88685\tvalidation_1-rmse:27.47781\n",
            "[600]\tvalidation_0-rmse:41.59653\tvalidation_1-rmse:23.53659\n",
            "[700]\tvalidation_0-rmse:37.71037\tvalidation_1-rmse:20.71554\n",
            "[800]\tvalidation_0-rmse:34.19787\tvalidation_1-rmse:19.05706\n",
            "[900]\tvalidation_0-rmse:31.01631\tvalidation_1-rmse:18.47813\n",
            "[961]\tvalidation_0-rmse:29.22700\tvalidation_1-rmse:18.58200\n",
            "[0]\tvalidation_0-rmse:75.10359\tvalidation_1-rmse:62.31379\n"
          ]
        },
        {
          "output_type": "stream",
          "name": "stderr",
          "text": [
            "/usr/local/lib/python3.11/dist-packages/xgboost/core.py:158: UserWarning: [01:01:35] WARNING: /workspace/src/objective/regression_obj.cu:227: reg:linear is now deprecated in favor of reg:squarederror.\n",
            "  warnings.warn(smsg, UserWarning)\n"
          ]
        },
        {
          "output_type": "stream",
          "name": "stdout",
          "text": [
            "[100]\tvalidation_0-rmse:68.23371\tvalidation_1-rmse:53.34951\n",
            "[200]\tvalidation_0-rmse:62.03254\tvalidation_1-rmse:45.41080\n",
            "[300]\tvalidation_0-rmse:56.45965\tvalidation_1-rmse:38.45458\n",
            "[400]\tvalidation_0-rmse:51.43904\tvalidation_1-rmse:32.46840\n",
            "[500]\tvalidation_0-rmse:46.91745\tvalidation_1-rmse:27.47781\n",
            "[600]\tvalidation_0-rmse:42.84731\tvalidation_1-rmse:23.53659\n",
            "[700]\tvalidation_0-rmse:39.18143\tvalidation_1-rmse:20.71554\n",
            "[800]\tvalidation_0-rmse:35.84957\tvalidation_1-rmse:19.05706\n",
            "[900]\tvalidation_0-rmse:32.85155\tvalidation_1-rmse:18.47813\n",
            "[960]\tvalidation_0-rmse:31.20167\tvalidation_1-rmse:18.57794\n",
            "[0]\tvalidation_0-rmse:75.10590\tvalidation_1-rmse:62.31379\n",
            "[100]\tvalidation_0-rmse:68.45914\tvalidation_1-rmse:53.34951\n"
          ]
        },
        {
          "output_type": "stream",
          "name": "stderr",
          "text": [
            "/usr/local/lib/python3.11/dist-packages/xgboost/core.py:158: UserWarning: [01:01:38] WARNING: /workspace/src/objective/regression_obj.cu:227: reg:linear is now deprecated in favor of reg:squarederror.\n",
            "  warnings.warn(smsg, UserWarning)\n"
          ]
        },
        {
          "output_type": "stream",
          "name": "stdout",
          "text": [
            "[200]\tvalidation_0-rmse:62.46557\tvalidation_1-rmse:45.41080\n",
            "[300]\tvalidation_0-rmse:57.06499\tvalidation_1-rmse:38.45458\n",
            "[400]\tvalidation_0-rmse:52.20258\tvalidation_1-rmse:32.46840\n",
            "[500]\tvalidation_0-rmse:47.82895\tvalidation_1-rmse:27.47781\n",
            "[600]\tvalidation_0-rmse:43.89981\tvalidation_1-rmse:23.53659\n",
            "[700]\tvalidation_0-rmse:40.38136\tvalidation_1-rmse:20.71554\n",
            "[800]\tvalidation_0-rmse:37.20856\tvalidation_1-rmse:19.05706\n",
            "[900]\tvalidation_0-rmse:34.32815\tvalidation_1-rmse:18.47813\n",
            "[961]\tvalidation_0-rmse:32.72067\tvalidation_1-rmse:18.58200\n",
            "[0]\tvalidation_0-rmse:75.09765\tvalidation_1-rmse:62.31093\n",
            "[100]\tvalidation_0-rmse:67.67027\tvalidation_1-rmse:53.08090\n"
          ]
        },
        {
          "output_type": "stream",
          "name": "stderr",
          "text": [
            "/usr/local/lib/python3.11/dist-packages/xgboost/core.py:158: UserWarning: [01:01:39] WARNING: /workspace/src/objective/regression_obj.cu:227: reg:linear is now deprecated in favor of reg:squarederror.\n",
            "  warnings.warn(smsg, UserWarning)\n"
          ]
        },
        {
          "output_type": "stream",
          "name": "stdout",
          "text": [
            "[200]\tvalidation_0-rmse:60.97818\tvalidation_1-rmse:44.91914\n",
            "[300]\tvalidation_0-rmse:54.95659\tvalidation_1-rmse:37.79076\n",
            "[400]\tvalidation_0-rmse:49.54963\tvalidation_1-rmse:31.71490\n",
            "[500]\tvalidation_0-rmse:44.69505\tvalidation_1-rmse:26.71306\n",
            "[600]\tvalidation_0-rmse:40.34748\tvalidation_1-rmse:22.85019\n",
            "[700]\tvalidation_0-rmse:36.54552\tvalidation_1-rmse:20.20676\n",
            "[800]\tvalidation_0-rmse:33.19893\tvalidation_1-rmse:18.82215\n",
            "[900]\tvalidation_0-rmse:30.23597\tvalidation_1-rmse:18.57853\n",
            "[924]\tvalidation_0-rmse:29.58109\tvalidation_1-rmse:18.65939\n",
            "[0]\tvalidation_0-rmse:75.10069\tvalidation_1-rmse:62.30296\n",
            "[100]\tvalidation_0-rmse:67.95188\tvalidation_1-rmse:52.31374\n"
          ]
        },
        {
          "output_type": "stream",
          "name": "stderr",
          "text": [
            "/usr/local/lib/python3.11/dist-packages/xgboost/core.py:158: UserWarning: [01:01:40] WARNING: /workspace/src/objective/regression_obj.cu:227: reg:linear is now deprecated in favor of reg:squarederror.\n",
            "  warnings.warn(smsg, UserWarning)\n"
          ]
        },
        {
          "output_type": "stream",
          "name": "stdout",
          "text": [
            "[200]\tvalidation_0-rmse:61.49391\tvalidation_1-rmse:43.46728\n",
            "[300]\tvalidation_0-rmse:55.68053\tvalidation_1-rmse:35.73933\n",
            "[400]\tvalidation_0-rmse:50.43649\tvalidation_1-rmse:29.15707\n",
            "[500]\tvalidation_0-rmse:45.70899\tvalidation_1-rmse:23.82779\n",
            "[600]\tvalidation_0-rmse:41.44725\tvalidation_1-rmse:19.93160\n",
            "[700]\tvalidation_0-rmse:37.60901\tvalidation_1-rmse:17.68385\n",
            "[800]\tvalidation_0-rmse:34.15629\tvalidation_1-rmse:17.12269\n",
            "[837]\tvalidation_0-rmse:32.96787\tvalidation_1-rmse:17.28503\n",
            "[0]\tvalidation_0-rmse:75.10134\tvalidation_1-rmse:62.31379\n",
            "[100]\tvalidation_0-rmse:68.01134\tvalidation_1-rmse:53.34951\n"
          ]
        },
        {
          "output_type": "stream",
          "name": "stderr",
          "text": [
            "/usr/local/lib/python3.11/dist-packages/xgboost/core.py:158: UserWarning: [01:01:41] WARNING: /workspace/src/objective/regression_obj.cu:227: reg:linear is now deprecated in favor of reg:squarederror.\n",
            "  warnings.warn(smsg, UserWarning)\n"
          ]
        },
        {
          "output_type": "stream",
          "name": "stdout",
          "text": [
            "[200]\tvalidation_0-rmse:61.59614\tvalidation_1-rmse:45.41080\n",
            "[300]\tvalidation_0-rmse:55.79064\tvalidation_1-rmse:38.45458\n",
            "[400]\tvalidation_0-rmse:50.53772\tvalidation_1-rmse:32.46840\n",
            "[500]\tvalidation_0-rmse:45.78525\tvalidation_1-rmse:27.47781\n",
            "[600]\tvalidation_0-rmse:41.48601\tvalidation_1-rmse:23.53659\n",
            "[700]\tvalidation_0-rmse:37.59723\tvalidation_1-rmse:20.71554\n",
            "[800]\tvalidation_0-rmse:34.08011\tvalidation_1-rmse:19.05706\n",
            "[900]\tvalidation_0-rmse:30.89854\tvalidation_1-rmse:18.47903\n",
            "[959]\tvalidation_0-rmse:29.16578\tvalidation_1-rmse:18.58193\n",
            "[0]\tvalidation_0-rmse:75.10341\tvalidation_1-rmse:62.31379\n",
            "[100]\tvalidation_0-rmse:68.21434\tvalidation_1-rmse:53.34951\n"
          ]
        },
        {
          "output_type": "stream",
          "name": "stderr",
          "text": [
            "/usr/local/lib/python3.11/dist-packages/xgboost/core.py:158: UserWarning: [01:01:43] WARNING: /workspace/src/objective/regression_obj.cu:227: reg:linear is now deprecated in favor of reg:squarederror.\n",
            "  warnings.warn(smsg, UserWarning)\n"
          ]
        },
        {
          "output_type": "stream",
          "name": "stdout",
          "text": [
            "[200]\tvalidation_0-rmse:61.98963\tvalidation_1-rmse:45.41080\n",
            "[300]\tvalidation_0-rmse:56.36323\tvalidation_1-rmse:38.45458\n",
            "[400]\tvalidation_0-rmse:51.27832\tvalidation_1-rmse:32.46840\n",
            "[500]\tvalidation_0-rmse:46.68819\tvalidation_1-rmse:27.47781\n",
            "[600]\tvalidation_0-rmse:42.54694\tvalidation_1-rmse:23.53659\n",
            "[700]\tvalidation_0-rmse:38.81222\tvalidation_1-rmse:20.71554\n",
            "[800]\tvalidation_0-rmse:35.44679\tvalidation_1-rmse:19.05706\n",
            "[900]\tvalidation_0-rmse:32.41628\tvalidation_1-rmse:18.47903\n",
            "[959]\tvalidation_0-rmse:30.77265\tvalidation_1-rmse:18.58193\n",
            "[0]\tvalidation_0-rmse:75.10590\tvalidation_1-rmse:62.31379\n",
            "[100]\tvalidation_0-rmse:68.45892\tvalidation_1-rmse:53.34951\n"
          ]
        },
        {
          "output_type": "stream",
          "name": "stderr",
          "text": [
            "/usr/local/lib/python3.11/dist-packages/xgboost/core.py:158: UserWarning: [01:01:44] WARNING: /workspace/src/objective/regression_obj.cu:227: reg:linear is now deprecated in favor of reg:squarederror.\n",
            "  warnings.warn(smsg, UserWarning)\n"
          ]
        },
        {
          "output_type": "stream",
          "name": "stdout",
          "text": [
            "[200]\tvalidation_0-rmse:62.46507\tvalidation_1-rmse:45.41080\n",
            "[300]\tvalidation_0-rmse:57.06404\tvalidation_1-rmse:38.45458\n",
            "[400]\tvalidation_0-rmse:52.20102\tvalidation_1-rmse:32.46840\n",
            "[500]\tvalidation_0-rmse:47.82656\tvalidation_1-rmse:27.47781\n",
            "[600]\tvalidation_0-rmse:43.89643\tvalidation_1-rmse:23.53659\n",
            "[700]\tvalidation_0-rmse:40.35269\tvalidation_1-rmse:20.71554\n",
            "[800]\tvalidation_0-rmse:37.13588\tvalidation_1-rmse:19.05706\n",
            "[900]\tvalidation_0-rmse:34.24632\tvalidation_1-rmse:18.47903\n",
            "[958]\tvalidation_0-rmse:32.71192\tvalidation_1-rmse:18.57796\n",
            "[0]\tvalidation_0-rmse:75.09799\tvalidation_1-rmse:62.31108\n",
            "[100]\tvalidation_0-rmse:67.70345\tvalidation_1-rmse:53.09611\n"
          ]
        },
        {
          "output_type": "stream",
          "name": "stderr",
          "text": [
            "/usr/local/lib/python3.11/dist-packages/xgboost/core.py:158: UserWarning: [01:01:46] WARNING: /workspace/src/objective/regression_obj.cu:227: reg:linear is now deprecated in favor of reg:squarederror.\n",
            "  warnings.warn(smsg, UserWarning)\n"
          ]
        },
        {
          "output_type": "stream",
          "name": "stdout",
          "text": [
            "[200]\tvalidation_0-rmse:61.04238\tvalidation_1-rmse:44.95083\n",
            "[300]\tvalidation_0-rmse:55.04893\tvalidation_1-rmse:37.84338\n",
            "[400]\tvalidation_0-rmse:49.63495\tvalidation_1-rmse:31.90332\n",
            "[500]\tvalidation_0-rmse:44.78133\tvalidation_1-rmse:27.01450\n",
            "[600]\tvalidation_0-rmse:40.45066\tvalidation_1-rmse:23.19899\n",
            "[700]\tvalidation_0-rmse:36.58445\tvalidation_1-rmse:20.54147\n",
            "[800]\tvalidation_0-rmse:33.14490\tvalidation_1-rmse:19.06795\n",
            "[900]\tvalidation_0-rmse:30.09707\tvalidation_1-rmse:18.68194\n",
            "[939]\tvalidation_0-rmse:29.00785\tvalidation_1-rmse:18.78012\n",
            "[0]\tvalidation_0-rmse:75.10051\tvalidation_1-rmse:62.30296\n",
            "[100]\tvalidation_0-rmse:67.93221\tvalidation_1-rmse:52.31374\n"
          ]
        },
        {
          "output_type": "stream",
          "name": "stderr",
          "text": [
            "/usr/local/lib/python3.11/dist-packages/xgboost/core.py:158: UserWarning: [01:01:47] WARNING: /workspace/src/objective/regression_obj.cu:227: reg:linear is now deprecated in favor of reg:squarederror.\n",
            "  warnings.warn(smsg, UserWarning)\n"
          ]
        },
        {
          "output_type": "stream",
          "name": "stdout",
          "text": [
            "[200]\tvalidation_0-rmse:61.44819\tvalidation_1-rmse:43.46728\n",
            "[300]\tvalidation_0-rmse:55.58354\tvalidation_1-rmse:35.73933\n",
            "[400]\tvalidation_0-rmse:50.28038\tvalidation_1-rmse:29.15707\n",
            "[500]\tvalidation_0-rmse:45.48875\tvalidation_1-rmse:23.82779\n",
            "[600]\tvalidation_0-rmse:41.15853\tvalidation_1-rmse:19.93160\n",
            "[700]\tvalidation_0-rmse:37.24689\tvalidation_1-rmse:17.68385\n",
            "[800]\tvalidation_0-rmse:33.71520\tvalidation_1-rmse:17.12269\n",
            "[837]\tvalidation_0-rmse:32.49751\tvalidation_1-rmse:17.28503\n",
            "[0]\tvalidation_0-rmse:75.10134\tvalidation_1-rmse:62.31379\n"
          ]
        },
        {
          "output_type": "stream",
          "name": "stderr",
          "text": [
            "/usr/local/lib/python3.11/dist-packages/xgboost/core.py:158: UserWarning: [01:01:50] WARNING: /workspace/src/objective/regression_obj.cu:227: reg:linear is now deprecated in favor of reg:squarederror.\n",
            "  warnings.warn(smsg, UserWarning)\n"
          ]
        },
        {
          "output_type": "stream",
          "name": "stdout",
          "text": [
            "[100]\tvalidation_0-rmse:68.01134\tvalidation_1-rmse:53.34951\n",
            "[200]\tvalidation_0-rmse:61.59614\tvalidation_1-rmse:45.41080\n",
            "[300]\tvalidation_0-rmse:55.79064\tvalidation_1-rmse:38.45458\n",
            "[400]\tvalidation_0-rmse:50.53772\tvalidation_1-rmse:32.46840\n",
            "[500]\tvalidation_0-rmse:45.78525\tvalidation_1-rmse:27.47781\n",
            "[600]\tvalidation_0-rmse:41.48601\tvalidation_1-rmse:23.53659\n",
            "[700]\tvalidation_0-rmse:37.59723\tvalidation_1-rmse:20.71554\n",
            "[800]\tvalidation_0-rmse:34.08011\tvalidation_1-rmse:19.05706\n",
            "[900]\tvalidation_0-rmse:30.89854\tvalidation_1-rmse:18.47903\n",
            "[959]\tvalidation_0-rmse:29.16578\tvalidation_1-rmse:18.58193\n",
            "[0]\tvalidation_0-rmse:75.10341\tvalidation_1-rmse:62.31379\n",
            "[100]\tvalidation_0-rmse:68.21434\tvalidation_1-rmse:53.34951\n"
          ]
        },
        {
          "output_type": "stream",
          "name": "stderr",
          "text": [
            "/usr/local/lib/python3.11/dist-packages/xgboost/core.py:158: UserWarning: [01:01:52] WARNING: /workspace/src/objective/regression_obj.cu:227: reg:linear is now deprecated in favor of reg:squarederror.\n",
            "  warnings.warn(smsg, UserWarning)\n"
          ]
        },
        {
          "output_type": "stream",
          "name": "stdout",
          "text": [
            "[200]\tvalidation_0-rmse:61.98963\tvalidation_1-rmse:45.41080\n",
            "[300]\tvalidation_0-rmse:56.36323\tvalidation_1-rmse:38.45458\n",
            "[400]\tvalidation_0-rmse:51.27832\tvalidation_1-rmse:32.46840\n",
            "[500]\tvalidation_0-rmse:46.68819\tvalidation_1-rmse:27.47781\n",
            "[600]\tvalidation_0-rmse:42.54694\tvalidation_1-rmse:23.53659\n",
            "[700]\tvalidation_0-rmse:38.81222\tvalidation_1-rmse:20.71554\n",
            "[800]\tvalidation_0-rmse:35.44679\tvalidation_1-rmse:19.05706\n",
            "[900]\tvalidation_0-rmse:32.41628\tvalidation_1-rmse:18.47903\n",
            "[958]\tvalidation_0-rmse:30.79968\tvalidation_1-rmse:18.57796\n",
            "[0]\tvalidation_0-rmse:75.10590\tvalidation_1-rmse:62.31379\n",
            "[100]\tvalidation_0-rmse:68.45892\tvalidation_1-rmse:53.34951\n"
          ]
        },
        {
          "output_type": "stream",
          "name": "stderr",
          "text": [
            "/usr/local/lib/python3.11/dist-packages/xgboost/core.py:158: UserWarning: [01:01:53] WARNING: /workspace/src/objective/regression_obj.cu:227: reg:linear is now deprecated in favor of reg:squarederror.\n",
            "  warnings.warn(smsg, UserWarning)\n"
          ]
        },
        {
          "output_type": "stream",
          "name": "stdout",
          "text": [
            "[200]\tvalidation_0-rmse:62.46507\tvalidation_1-rmse:45.41080\n",
            "[300]\tvalidation_0-rmse:57.06404\tvalidation_1-rmse:38.45458\n",
            "[400]\tvalidation_0-rmse:52.20102\tvalidation_1-rmse:32.46840\n",
            "[500]\tvalidation_0-rmse:47.82656\tvalidation_1-rmse:27.47781\n",
            "[600]\tvalidation_0-rmse:43.89643\tvalidation_1-rmse:23.53659\n",
            "[700]\tvalidation_0-rmse:40.35269\tvalidation_1-rmse:20.71554\n",
            "[800]\tvalidation_0-rmse:37.13588\tvalidation_1-rmse:19.05706\n",
            "[900]\tvalidation_0-rmse:34.24632\tvalidation_1-rmse:18.47903\n",
            "[959]\tvalidation_0-rmse:32.68630\tvalidation_1-rmse:18.58193\n",
            "[0]\tvalidation_0-rmse:75.09799\tvalidation_1-rmse:62.31108\n",
            "[100]\tvalidation_0-rmse:67.70345\tvalidation_1-rmse:53.09611\n"
          ]
        },
        {
          "output_type": "stream",
          "name": "stderr",
          "text": [
            "/usr/local/lib/python3.11/dist-packages/xgboost/core.py:158: UserWarning: [01:01:55] WARNING: /workspace/src/objective/regression_obj.cu:227: reg:linear is now deprecated in favor of reg:squarederror.\n",
            "  warnings.warn(smsg, UserWarning)\n"
          ]
        },
        {
          "output_type": "stream",
          "name": "stdout",
          "text": [
            "[200]\tvalidation_0-rmse:61.04238\tvalidation_1-rmse:44.95083\n",
            "[300]\tvalidation_0-rmse:55.04893\tvalidation_1-rmse:37.84338\n",
            "[400]\tvalidation_0-rmse:49.63495\tvalidation_1-rmse:31.90332\n",
            "[500]\tvalidation_0-rmse:44.78133\tvalidation_1-rmse:27.01450\n",
            "[600]\tvalidation_0-rmse:40.45066\tvalidation_1-rmse:23.19899\n",
            "[700]\tvalidation_0-rmse:36.58445\tvalidation_1-rmse:20.54147\n",
            "[800]\tvalidation_0-rmse:33.14490\tvalidation_1-rmse:19.06795\n",
            "[900]\tvalidation_0-rmse:30.09707\tvalidation_1-rmse:18.68194\n",
            "[939]\tvalidation_0-rmse:29.00785\tvalidation_1-rmse:18.78012\n",
            "[0]\tvalidation_0-rmse:75.10051\tvalidation_1-rmse:62.30296\n",
            "[100]\tvalidation_0-rmse:67.93221\tvalidation_1-rmse:52.31374\n"
          ]
        },
        {
          "output_type": "stream",
          "name": "stderr",
          "text": [
            "/usr/local/lib/python3.11/dist-packages/xgboost/core.py:158: UserWarning: [01:01:56] WARNING: /workspace/src/objective/regression_obj.cu:227: reg:linear is now deprecated in favor of reg:squarederror.\n",
            "  warnings.warn(smsg, UserWarning)\n"
          ]
        },
        {
          "output_type": "stream",
          "name": "stdout",
          "text": [
            "[200]\tvalidation_0-rmse:61.44819\tvalidation_1-rmse:43.46728\n",
            "[300]\tvalidation_0-rmse:55.58354\tvalidation_1-rmse:35.73933\n",
            "[400]\tvalidation_0-rmse:50.28038\tvalidation_1-rmse:29.15707\n",
            "[500]\tvalidation_0-rmse:45.48875\tvalidation_1-rmse:23.82779\n",
            "[600]\tvalidation_0-rmse:41.15853\tvalidation_1-rmse:19.93160\n",
            "[700]\tvalidation_0-rmse:37.24689\tvalidation_1-rmse:17.68385\n",
            "[800]\tvalidation_0-rmse:33.71520\tvalidation_1-rmse:17.12269\n",
            "[837]\tvalidation_0-rmse:32.49751\tvalidation_1-rmse:17.28503\n",
            "[0]\tvalidation_0-rmse:75.10134\tvalidation_1-rmse:62.31379\n",
            "[100]\tvalidation_0-rmse:68.01134\tvalidation_1-rmse:53.34951\n"
          ]
        },
        {
          "output_type": "stream",
          "name": "stderr",
          "text": [
            "/usr/local/lib/python3.11/dist-packages/xgboost/core.py:158: UserWarning: [01:01:57] WARNING: /workspace/src/objective/regression_obj.cu:227: reg:linear is now deprecated in favor of reg:squarederror.\n",
            "  warnings.warn(smsg, UserWarning)\n"
          ]
        },
        {
          "output_type": "stream",
          "name": "stdout",
          "text": [
            "[200]\tvalidation_0-rmse:61.59614\tvalidation_1-rmse:45.41080\n",
            "[300]\tvalidation_0-rmse:55.79064\tvalidation_1-rmse:38.45458\n",
            "[400]\tvalidation_0-rmse:50.53772\tvalidation_1-rmse:32.46840\n",
            "[500]\tvalidation_0-rmse:45.78525\tvalidation_1-rmse:27.47781\n",
            "[600]\tvalidation_0-rmse:41.48601\tvalidation_1-rmse:23.53659\n",
            "[700]\tvalidation_0-rmse:37.59723\tvalidation_1-rmse:20.71554\n",
            "[800]\tvalidation_0-rmse:34.08011\tvalidation_1-rmse:19.05706\n",
            "[900]\tvalidation_0-rmse:30.89854\tvalidation_1-rmse:18.47903\n",
            "[959]\tvalidation_0-rmse:29.16578\tvalidation_1-rmse:18.58193\n",
            "[0]\tvalidation_0-rmse:75.10341\tvalidation_1-rmse:62.31379\n",
            "[100]\tvalidation_0-rmse:68.21434\tvalidation_1-rmse:53.34951\n"
          ]
        },
        {
          "output_type": "stream",
          "name": "stderr",
          "text": [
            "/usr/local/lib/python3.11/dist-packages/xgboost/core.py:158: UserWarning: [01:01:59] WARNING: /workspace/src/objective/regression_obj.cu:227: reg:linear is now deprecated in favor of reg:squarederror.\n",
            "  warnings.warn(smsg, UserWarning)\n"
          ]
        },
        {
          "output_type": "stream",
          "name": "stdout",
          "text": [
            "[200]\tvalidation_0-rmse:61.98963\tvalidation_1-rmse:45.41080\n",
            "[300]\tvalidation_0-rmse:56.36323\tvalidation_1-rmse:38.45458\n",
            "[400]\tvalidation_0-rmse:51.27832\tvalidation_1-rmse:32.46840\n",
            "[500]\tvalidation_0-rmse:46.68819\tvalidation_1-rmse:27.47781\n",
            "[600]\tvalidation_0-rmse:42.54694\tvalidation_1-rmse:23.53659\n",
            "[700]\tvalidation_0-rmse:38.81222\tvalidation_1-rmse:20.71554\n",
            "[800]\tvalidation_0-rmse:35.44679\tvalidation_1-rmse:19.05706\n",
            "[900]\tvalidation_0-rmse:32.41628\tvalidation_1-rmse:18.47903\n",
            "[959]\tvalidation_0-rmse:30.77265\tvalidation_1-rmse:18.58193\n",
            "[0]\tvalidation_0-rmse:75.10590\tvalidation_1-rmse:62.31379\n"
          ]
        },
        {
          "output_type": "stream",
          "name": "stderr",
          "text": [
            "/usr/local/lib/python3.11/dist-packages/xgboost/core.py:158: UserWarning: [01:02:01] WARNING: /workspace/src/objective/regression_obj.cu:227: reg:linear is now deprecated in favor of reg:squarederror.\n",
            "  warnings.warn(smsg, UserWarning)\n"
          ]
        },
        {
          "output_type": "stream",
          "name": "stdout",
          "text": [
            "[100]\tvalidation_0-rmse:68.45892\tvalidation_1-rmse:53.34951\n",
            "[200]\tvalidation_0-rmse:62.46507\tvalidation_1-rmse:45.41080\n",
            "[300]\tvalidation_0-rmse:57.06404\tvalidation_1-rmse:38.45458\n",
            "[400]\tvalidation_0-rmse:52.20102\tvalidation_1-rmse:32.46840\n",
            "[500]\tvalidation_0-rmse:47.82656\tvalidation_1-rmse:27.47781\n",
            "[600]\tvalidation_0-rmse:43.89643\tvalidation_1-rmse:23.53659\n",
            "[700]\tvalidation_0-rmse:40.35269\tvalidation_1-rmse:20.71554\n",
            "[800]\tvalidation_0-rmse:37.13588\tvalidation_1-rmse:19.05706\n",
            "[900]\tvalidation_0-rmse:34.24632\tvalidation_1-rmse:18.47903\n",
            "[959]\tvalidation_0-rmse:32.68630\tvalidation_1-rmse:18.58193\n",
            "[0]\tvalidation_0-rmse:75.09799\tvalidation_1-rmse:62.31108\n",
            "[100]\tvalidation_0-rmse:67.70345\tvalidation_1-rmse:53.09611\n"
          ]
        },
        {
          "output_type": "stream",
          "name": "stderr",
          "text": [
            "/usr/local/lib/python3.11/dist-packages/xgboost/core.py:158: UserWarning: [01:02:03] WARNING: /workspace/src/objective/regression_obj.cu:227: reg:linear is now deprecated in favor of reg:squarederror.\n",
            "  warnings.warn(smsg, UserWarning)\n"
          ]
        },
        {
          "output_type": "stream",
          "name": "stdout",
          "text": [
            "[200]\tvalidation_0-rmse:61.04238\tvalidation_1-rmse:44.95083\n",
            "[300]\tvalidation_0-rmse:55.04893\tvalidation_1-rmse:37.84338\n",
            "[400]\tvalidation_0-rmse:49.63495\tvalidation_1-rmse:31.90332\n",
            "[500]\tvalidation_0-rmse:44.78133\tvalidation_1-rmse:27.01450\n",
            "[600]\tvalidation_0-rmse:40.45066\tvalidation_1-rmse:23.19899\n",
            "[700]\tvalidation_0-rmse:36.58445\tvalidation_1-rmse:20.54147\n",
            "[800]\tvalidation_0-rmse:33.14490\tvalidation_1-rmse:19.06795\n",
            "[900]\tvalidation_0-rmse:30.09707\tvalidation_1-rmse:18.68194\n",
            "[939]\tvalidation_0-rmse:29.00785\tvalidation_1-rmse:18.78012\n",
            "[0]\tvalidation_0-rmse:75.10051\tvalidation_1-rmse:62.30296\n",
            "[100]\tvalidation_0-rmse:67.93221\tvalidation_1-rmse:52.31374\n"
          ]
        },
        {
          "output_type": "stream",
          "name": "stderr",
          "text": [
            "/usr/local/lib/python3.11/dist-packages/xgboost/core.py:158: UserWarning: [01:02:05] WARNING: /workspace/src/objective/regression_obj.cu:227: reg:linear is now deprecated in favor of reg:squarederror.\n",
            "  warnings.warn(smsg, UserWarning)\n"
          ]
        },
        {
          "output_type": "stream",
          "name": "stdout",
          "text": [
            "[200]\tvalidation_0-rmse:61.44819\tvalidation_1-rmse:43.46728\n",
            "[300]\tvalidation_0-rmse:55.58354\tvalidation_1-rmse:35.73933\n",
            "[400]\tvalidation_0-rmse:50.28038\tvalidation_1-rmse:29.15707\n",
            "[500]\tvalidation_0-rmse:45.48875\tvalidation_1-rmse:23.82779\n",
            "[600]\tvalidation_0-rmse:41.15853\tvalidation_1-rmse:19.93160\n",
            "[700]\tvalidation_0-rmse:37.24689\tvalidation_1-rmse:17.68385\n",
            "[800]\tvalidation_0-rmse:33.71520\tvalidation_1-rmse:17.12269\n",
            "[836]\tvalidation_0-rmse:32.52982\tvalidation_1-rmse:17.27831\n",
            "[0]\tvalidation_0-rmse:75.10147\tvalidation_1-rmse:62.31379\n",
            "[100]\tvalidation_0-rmse:68.02329\tvalidation_1-rmse:53.34951\n"
          ]
        },
        {
          "output_type": "stream",
          "name": "stderr",
          "text": [
            "/usr/local/lib/python3.11/dist-packages/xgboost/core.py:158: UserWarning: [01:02:06] WARNING: /workspace/src/objective/regression_obj.cu:227: reg:linear is now deprecated in favor of reg:squarederror.\n",
            "  warnings.warn(smsg, UserWarning)\n"
          ]
        },
        {
          "output_type": "stream",
          "name": "stdout",
          "text": [
            "[200]\tvalidation_0-rmse:61.61811\tvalidation_1-rmse:45.41080\n",
            "[300]\tvalidation_0-rmse:55.82180\tvalidation_1-rmse:38.45458\n",
            "[400]\tvalidation_0-rmse:50.57686\tvalidation_1-rmse:32.46840\n",
            "[500]\tvalidation_0-rmse:45.83104\tvalidation_1-rmse:27.47781\n",
            "[600]\tvalidation_0-rmse:41.53712\tvalidation_1-rmse:23.53659\n",
            "[700]\tvalidation_0-rmse:37.65239\tvalidation_1-rmse:20.71554\n",
            "[800]\tvalidation_0-rmse:34.13841\tvalidation_1-rmse:19.05706\n",
            "[900]\tvalidation_0-rmse:30.95867\tvalidation_1-rmse:18.47903\n",
            "[958]\tvalidation_0-rmse:29.25471\tvalidation_1-rmse:18.57796\n"
          ]
        }
      ]
    },
    {
      "cell_type": "code",
      "source": [
        "import numpy as np\n",
        "print(df1_final.dtypes)"
      ],
      "metadata": {
        "colab": {
          "base_uri": "https://localhost:8080/"
        },
        "id": "43-kmC-zBMkr",
        "outputId": "86a35753-3404-492f-9093-2bdbd4547ffa"
      },
      "execution_count": null,
      "outputs": [
        {
          "output_type": "stream",
          "name": "stdout",
          "text": [
            "Close              float64\n",
            "day                  int32\n",
            "dayofweek            int32\n",
            "quarter              int32\n",
            "month                int32\n",
            "year                 int32\n",
            "prediction_x       float32\n",
            "Close_lag1         float64\n",
            "Close_lag7         float64\n",
            "Close_lag30        float64\n",
            "Close_rolling7     float64\n",
            "Close_rolling30    float64\n",
            "dayofweek_month      int32\n",
            "prediction_y       float32\n",
            "prediction         float32\n",
            "Close_lag14        float64\n",
            "Close_lag28        float64\n",
            "weekofyear          UInt32\n",
            "dayofyear            int32\n",
            "dtype: object\n"
          ]
        }
      ]
    },
    {
      "source": [
        "test['prediction'] = best_reg.predict(X_test) # Use best_reg instead of reg\n",
        "# Reset index of both dataframes before merging to avoid potential index mismatches\n",
        "# Drop the 'prediction' column from df1_final if it exists to avoid conflicts\n",
        "if 'prediction' in df1_final.columns:\n",
        "    df1_final = df1_final.drop(columns=['prediction'])\n",
        "df1_final = df1_final.reset_index()\n",
        "test = test.reset_index()\n",
        "df1_final = df1_final.merge(test[['Date', 'prediction']], how='left', on='Date')\n",
        "# Set the index back to 'Date' after merging\n",
        "df1_final = df1_final.set_index('Date')\n",
        "ax = df1_final[['Close']].plot(figsize=(15, 5))\n",
        "df1_final['prediction'].plot(ax=ax, style='.')\n",
        "plt.legend(['Truth Data', 'Predictions'])\n",
        "ax.set_title('Raw Data and Prediction')\n",
        "plt.show()"
      ],
      "cell_type": "code",
      "metadata": {
        "colab": {
          "base_uri": "https://localhost:8080/",
          "height": 346
        },
        "id": "TQ9kEBK0SznX",
        "outputId": "009eca82-5a6a-4929-a273-887a828d222d"
      },
      "execution_count": null,
      "outputs": [
        {
          "output_type": "display_data",
          "data": {
            "text/plain": [
              "<Figure size 1500x500 with 1 Axes>"
            ],
            "image/png": "[encoded data removed]"
          },
          "metadata": {}
        }
      ]
    },
    {
      "source": [
        "from sklearn.metrics import mean_squared_error\n",
        "import numpy as np\n",
        "\n",
        "y_true = df1_final['Close'].dropna()  # Drop any NaN values from the actual values\n",
        "y_pred = df1_final.loc[y_true.index, 'prediction']  # Select predictions corresponding to actual values\n",
        "# Assuming you have df1_final with 'Close' (actual values) and 'prediction' (predicted values)\n",
        "y_true = df1_final['Close'].dropna()  # Drop any NaN values from the actual values\n",
        "y_pred = df1_final.loc[y_true.index, 'prediction']  # Select predictions corresponding to actual values\n",
        "\n",
        "# Calculate RMSE\n",
        "rmse = np.sqrt(mean_squared_error(y_true, y_pred))\n",
        "\n",
        "# Calculate accuracy (R-squared)\n",
        "from sklearn.metrics import r2_score\n",
        "accuracy = r2_score(y_true, y_pred)\n",
        "\n",
        "print(f\"RMSE: {rmse}\")\n",
        "print(f\"Accuracy (R-squared): {accuracy}\")"
      ],
      "cell_type": "code",
      "metadata": {
        "colab": {
          "base_uri": "https://localhost:8080/",
          "height": 373
        },
        "id": "H97nb-s7TBmh",
        "outputId": "a11e324e-96fd-49a1-acc8-cf01265de9a0"
      },
      "execution_count": null,
      "outputs": [
        {
          "output_type": "error",
          "ename": "ValueError",
          "evalue": "Input contains NaN.",
          "traceback": [
            "\u001b[0;31m---------------------------------------------------------------------------\u001b[0m",
            "\u001b[0;31mValueError\u001b[0m                                Traceback (most recent call last)",
            "\u001b[0;32m<ipython-input-49-4e3af236b580>\u001b[0m in \u001b[0;36m<cell line: 0>\u001b[0;34m()\u001b[0m\n\u001b[1;32m      9\u001b[0m \u001b[0;34m\u001b[0m\u001b[0m\n\u001b[1;32m     10\u001b[0m \u001b[0;31m# Calculate RMSE\u001b[0m\u001b[0;34m\u001b[0m\u001b[0;34m\u001b[0m\u001b[0m\n\u001b[0;32m---> 11\u001b[0;31m \u001b[0mrmse\u001b[0m \u001b[0;34m=\u001b[0m \u001b[0mnp\u001b[0m\u001b[0;34m.\u001b[0m\u001b[0msqrt\u001b[0m\u001b[0;34m(\u001b[0m\u001b[0mmean_squared_error\u001b[0m\u001b[0;34m(\u001b[0m\u001b[0my_true\u001b[0m\u001b[0;34m,\u001b[0m \u001b[0my_pred\u001b[0m\u001b[0;34m)\u001b[0m\u001b[0;34m)\u001b[0m\u001b[0;34m\u001b[0m\u001b[0;34m\u001b[0m\u001b[0m\n\u001b[0m\u001b[1;32m     12\u001b[0m \u001b[0;34m\u001b[0m\u001b[0m\n\u001b[1;32m     13\u001b[0m \u001b[0;31m# Calculate accuracy (R-squared)\u001b[0m\u001b[0;34m\u001b[0m\u001b[0;34m\u001b[0m\u001b[0m\n",
            "\u001b[0;32m/usr/local/lib/python3.11/dist-packages/sklearn/metrics/_regression.py\u001b[0m in \u001b[0;36mmean_squared_error\u001b[0;34m(y_true, y_pred, sample_weight, multioutput, squared)\u001b[0m\n\u001b[1;32m    440\u001b[0m     \u001b[0mloss\u001b[0m \u001b[0;34m:\u001b[0m \u001b[0mfloat\u001b[0m \u001b[0;32mor\u001b[0m \u001b[0mndarray\u001b[0m \u001b[0mof\u001b[0m \u001b[0mfloats\u001b[0m\u001b[0;34m\u001b[0m\u001b[0;34m\u001b[0m\u001b[0m\n\u001b[1;32m    441\u001b[0m         \u001b[0mIf\u001b[0m \u001b[0mmultioutput\u001b[0m \u001b[0;32mis\u001b[0m \u001b[0;34m'raw_values'\u001b[0m\u001b[0;34m,\u001b[0m \u001b[0mthen\u001b[0m \u001b[0mmean\u001b[0m \u001b[0mabsolute\u001b[0m \u001b[0mpercentage\u001b[0m \u001b[0merror\u001b[0m\u001b[0;34m\u001b[0m\u001b[0;34m\u001b[0m\u001b[0m\n\u001b[0;32m--> 442\u001b[0;31m         \u001b[0;32mis\u001b[0m \u001b[0mreturned\u001b[0m \u001b[0;32mfor\u001b[0m \u001b[0meach\u001b[0m \u001b[0moutput\u001b[0m \u001b[0mseparately\u001b[0m\u001b[0;34m.\u001b[0m\u001b[0;34m\u001b[0m\u001b[0;34m\u001b[0m\u001b[0m\n\u001b[0m\u001b[1;32m    443\u001b[0m         \u001b[0mIf\u001b[0m \u001b[0mmultioutput\u001b[0m \u001b[0;32mis\u001b[0m \u001b[0;34m'uniform_average'\u001b[0m \u001b[0;32mor\u001b[0m \u001b[0man\u001b[0m \u001b[0mndarray\u001b[0m \u001b[0mof\u001b[0m \u001b[0mweights\u001b[0m\u001b[0;34m,\u001b[0m \u001b[0mthen\u001b[0m \u001b[0mthe\u001b[0m\u001b[0;34m\u001b[0m\u001b[0;34m\u001b[0m\u001b[0m\n\u001b[1;32m    444\u001b[0m         \u001b[0mweighted\u001b[0m \u001b[0maverage\u001b[0m \u001b[0mof\u001b[0m \u001b[0mall\u001b[0m \u001b[0moutput\u001b[0m \u001b[0merrors\u001b[0m \u001b[0;32mis\u001b[0m \u001b[0mreturned\u001b[0m\u001b[0;34m.\u001b[0m\u001b[0;34m\u001b[0m\u001b[0;34m\u001b[0m\u001b[0m\n",
            "\u001b[0;32m/usr/local/lib/python3.11/dist-packages/sklearn/metrics/_regression.py\u001b[0m in \u001b[0;36m_check_reg_targets\u001b[0;34m(y_true, y_pred, multioutput, dtype)\u001b[0m\n\u001b[1;32m    100\u001b[0m         \u001b[0mcorrect\u001b[0m \u001b[0mkeyword\u001b[0m\u001b[0;34m.\u001b[0m\u001b[0;34m\u001b[0m\u001b[0;34m\u001b[0m\u001b[0m\n\u001b[1;32m    101\u001b[0m     \"\"\"\n\u001b[0;32m--> 102\u001b[0;31m     \u001b[0mxp\u001b[0m\u001b[0;34m,\u001b[0m \u001b[0m_\u001b[0m \u001b[0;34m=\u001b[0m \u001b[0mget_namespace\u001b[0m\u001b[0;34m(\u001b[0m\u001b[0my_true\u001b[0m\u001b[0;34m,\u001b[0m \u001b[0my_pred\u001b[0m\u001b[0;34m,\u001b[0m \u001b[0mmultioutput\u001b[0m\u001b[0;34m,\u001b[0m \u001b[0mxp\u001b[0m\u001b[0;34m=\u001b[0m\u001b[0mxp\u001b[0m\u001b[0;34m)\u001b[0m\u001b[0;34m\u001b[0m\u001b[0;34m\u001b[0m\u001b[0m\n\u001b[0m\u001b[1;32m    103\u001b[0m \u001b[0;34m\u001b[0m\u001b[0m\n\u001b[1;32m    104\u001b[0m     \u001b[0mcheck_consistent_length\u001b[0m\u001b[0;34m(\u001b[0m\u001b[0my_true\u001b[0m\u001b[0;34m,\u001b[0m \u001b[0my_pred\u001b[0m\u001b[0;34m)\u001b[0m\u001b[0;34m\u001b[0m\u001b[0;34m\u001b[0m\u001b[0m\n",
            "\u001b[0;32m/usr/local/lib/python3.11/dist-packages/sklearn/utils/validation.py\u001b[0m in \u001b[0;36mcheck_array\u001b[0;34m(array, accept_sparse, accept_large_sparse, dtype, order, copy, force_all_finite, ensure_2d, allow_nd, ensure_min_samples, ensure_min_features, estimator, input_name)\u001b[0m\n\u001b[1;32m    919\u001b[0m \u001b[0;34m\u001b[0m\u001b[0m\n\u001b[1;32m    920\u001b[0m             \u001b[0;32mif\u001b[0m \u001b[0;32mnot\u001b[0m \u001b[0mhasattr\u001b[0m\u001b[0;34m(\u001b[0m\u001b[0marray\u001b[0m\u001b[0;34m,\u001b[0m \u001b[0;34m\"sparse\"\u001b[0m\u001b[0;34m)\u001b[0m \u001b[0;32mand\u001b[0m \u001b[0marray\u001b[0m\u001b[0;34m.\u001b[0m\u001b[0mdtypes\u001b[0m\u001b[0;34m.\u001b[0m\u001b[0mapply\u001b[0m\u001b[0;34m(\u001b[0m\u001b[0mis_sparse\u001b[0m\u001b[0;34m)\u001b[0m\u001b[0;34m.\u001b[0m\u001b[0many\u001b[0m\u001b[0;34m(\u001b[0m\u001b[0;34m)\u001b[0m\u001b[0;34m:\u001b[0m\u001b[0;34m\u001b[0m\u001b[0;34m\u001b[0m\u001b[0m\n\u001b[0;32m--> 921\u001b[0;31m                 warnings.warn(\n\u001b[0m\u001b[1;32m    922\u001b[0m                     \u001b[0;34m\"pandas.DataFrame with sparse columns found.\"\u001b[0m\u001b[0;34m\u001b[0m\u001b[0;34m\u001b[0m\u001b[0m\n\u001b[1;32m    923\u001b[0m                     \u001b[0;34m\"It will be converted to a dense numpy array.\"\u001b[0m\u001b[0;34m\u001b[0m\u001b[0;34m\u001b[0m\u001b[0m\n",
            "\u001b[0;32m/usr/local/lib/python3.11/dist-packages/sklearn/utils/validation.py\u001b[0m in \u001b[0;36m_assert_all_finite\u001b[0;34m(X, allow_nan, msg_dtype, estimator_name, input_name)\u001b[0m\n\u001b[1;32m    159\u001b[0m                 \u001b[0;34m\" Regressor which accept missing values encoded as NaNs natively.\"\u001b[0m\u001b[0;34m\u001b[0m\u001b[0;34m\u001b[0m\u001b[0m\n\u001b[1;32m    160\u001b[0m                 \u001b[0;34m\" Alternatively, it is possible to preprocess the data, for\"\u001b[0m\u001b[0;34m\u001b[0m\u001b[0;34m\u001b[0m\u001b[0m\n\u001b[0;32m--> 161\u001b[0;31m                 \u001b[0;34m\" instance by using an imputer transformer in a pipeline or drop\"\u001b[0m\u001b[0;34m\u001b[0m\u001b[0;34m\u001b[0m\u001b[0m\n\u001b[0m\u001b[1;32m    162\u001b[0m                 \u001b[0;34m\" samples with missing values. See\"\u001b[0m\u001b[0;34m\u001b[0m\u001b[0;34m\u001b[0m\u001b[0m\n\u001b[1;32m    163\u001b[0m                 \u001b[0;34m\" https://scikit-learn.org/stable/modules/impute.html\"\u001b[0m\u001b[0;34m\u001b[0m\u001b[0;34m\u001b[0m\u001b[0m\n",
            "\u001b[0;31mValueError\u001b[0m: Input contains NaN."
          ]
        }
      ]
    },
    {
      "source": [
        "from sklearn.metrics import mean_squared_error\n",
        "import numpy as np\n",
        "\n",
        "# Assuming you have df1_final with 'Close' (actual values) and 'prediction' (predicted values)\n",
        "y_true = df1_final['Close'].dropna()  # Drop any NaN values from the actual values\n",
        "y_pred = df1_final.loc[y_true.index, 'prediction']  # Select predictions corresponding to actual values\n",
        "\n",
        "# Filter out NaN values from both y_true and y_pred to ensure they have the same length\n",
        "# and contain only valid numeric values\n",
        "mask = np.isfinite(y_true) & np.isfinite(y_pred)\n",
        "y_true = y_true[mask]\n",
        "y_pred = y_pred[mask]\n",
        "\n",
        "# Calculate RMSE\n",
        "rmse = np.sqrt(mean_squared_error(y_true, y_pred))\n",
        "\n",
        "# Calculate accuracy (R-squared)\n",
        "from sklearn.metrics import r2_score\n",
        "accuracy = r2_score(y_true, y_pred)\n",
        "\n",
        "print(f\"RMSE: {rmse}\")\n",
        "print(f\"Accuracy (R-squared): {accuracy}\")"
      ],
      "cell_type": "code",
      "metadata": {
        "id": "epiRMxHfTivB",
        "outputId": "2bf20d0e-28f7-44f0-acfb-8afbd0ab89ce",
        "colab": {
          "base_uri": "https://localhost:8080/"
        }
      },
      "execution_count": null,
      "outputs": [
        {
          "output_type": "stream",
          "name": "stdout",
          "text": [
            "RMSE: 18.47401071618325\n",
            "Accuracy (R-squared): -0.17018967428016385\n"
          ]
        }
      ]
    }
  ]
}